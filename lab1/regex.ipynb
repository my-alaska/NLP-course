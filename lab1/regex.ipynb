{
 "cells": [
  {
   "cell_type": "markdown",
   "source": [
    "# Lab1 - Regex"
   ],
   "metadata": {
    "collapsed": false
   },
   "id": "5f4fbd047a6e203b"
  },
  {
   "cell_type": "markdown",
   "source": [
    "# Imports"
   ],
   "metadata": {
    "collapsed": false
   },
   "id": "3bc06d0cea70567"
  },
  {
   "cell_type": "code",
   "execution_count": 1,
   "id": "initial_id",
   "metadata": {
    "collapsed": true,
    "ExecuteTime": {
     "end_time": "2024-10-11T20:26:10.764270600Z",
     "start_time": "2024-10-11T20:26:09.897135Z"
    }
   },
   "outputs": [],
   "source": [
    "from datasets import load_dataset\n",
    "import regex as re\n",
    "from collections import defaultdict\n",
    "import matplotlib.pyplot as plt"
   ]
  },
  {
   "cell_type": "markdown",
   "source": [
    "# Load the dataset"
   ],
   "metadata": {
    "collapsed": false
   },
   "id": "47fa71f43efcded"
  },
  {
   "cell_type": "code",
   "execution_count": 2,
   "outputs": [],
   "source": [
    "ds = load_dataset(\"clarin-knext/fiqa-pl\", \"corpus\")"
   ],
   "metadata": {
    "collapsed": false,
    "ExecuteTime": {
     "end_time": "2024-10-11T20:26:13.192422400Z",
     "start_time": "2024-10-11T20:26:10.760265100Z"
    }
   },
   "id": "5610a1e06afcc59b"
  },
  {
   "cell_type": "code",
   "execution_count": 3,
   "outputs": [],
   "source": [
    "texts = ds[\"corpus\"][\"text\"]"
   ],
   "metadata": {
    "collapsed": false,
    "ExecuteTime": {
     "end_time": "2024-10-11T20:26:13.349363100Z",
     "start_time": "2024-10-11T20:26:13.192422400Z"
    }
   },
   "id": "a8c0ebc3670b3d7c"
  },
  {
   "cell_type": "markdown",
   "source": [
    "# 1. Creating regexes/regexen\n",
    "\n",
    "Google says it's plural of regex"
   ],
   "metadata": {
    "collapsed": false
   },
   "id": "f349fe08df7cc242"
  },
  {
   "cell_type": "markdown",
   "source": [
    "### Making the hour regex"
   ],
   "metadata": {
    "collapsed": false
   },
   "id": "2176f07f9f91aed4"
  },
  {
   "cell_type": "code",
   "execution_count": 4,
   "outputs": [
    {
     "data": {
      "text/plain": "'(?<![0-9:])((?:[0-1]?[0-9]|2[0-3]):[0-5][0-9](?::[0-5][0-9])?)(?![0-9:])'"
     },
     "execution_count": 4,
     "metadata": {},
     "output_type": "execute_result"
    }
   ],
   "source": [
    "# lookbehind - begin with any character other than \":\" or digits\n",
    "begin = r\"(?<![0-9:])\"\n",
    "\n",
    "hours = r\"(?:[0-1]?[0-9]|2[0-3])\"\n",
    "\n",
    "minutes = r\":[0-5][0-9]\"\n",
    "\n",
    "seconds = r\"(?::[0-5][0-9])?\"\n",
    "\n",
    "# lookahead - end with any character other than \":\" or digits\n",
    "end = r\"(?![0-9:])\"\n",
    "\n",
    "hour_regex = begin + \"(\" + hours + minutes + seconds + \")\" + end\n",
    "\n",
    "hour_regex"
   ],
   "metadata": {
    "collapsed": false,
    "ExecuteTime": {
     "end_time": "2024-10-11T20:26:13.380358100Z",
     "start_time": "2024-10-11T20:26:13.351369300Z"
    }
   },
   "id": "8e30786a7e9b2168"
  },
  {
   "cell_type": "code",
   "execution_count": 5,
   "outputs": [
    {
     "name": "stdout",
     "output_type": "stream",
     "text": [
      "['9:37:00', '9:37:01']\n"
     ]
    }
   ],
   "source": [
    "print(re.findall(hour_regex, \"9:37:00 9:37:01\"))"
   ],
   "metadata": {
    "collapsed": false,
    "ExecuteTime": {
     "end_time": "2024-10-11T20:26:13.426362500Z",
     "start_time": "2024-10-11T20:26:13.366367500Z"
    }
   },
   "id": "57863e8a266be98a"
  },
  {
   "cell_type": "code",
   "execution_count": 6,
   "outputs": [
    {
     "name": "stdout",
     "output_type": "stream",
     "text": [
      "['21:37:13']\n",
      "['21:37']\n",
      "['9:37:00']\n",
      "['21:37']\n",
      "[]\n",
      "[]\n",
      "[]\n",
      "[]\n",
      "[]\n",
      "[]\n"
     ]
    }
   ],
   "source": [
    "print(re.findall(hour_regex, \"21:37:13\"))\n",
    "print(re.findall(hour_regex, \"21:37\"))\n",
    "print(re.findall(hour_regex, \"9:37:00\"))\n",
    "\n",
    "print(re.findall(hour_regex, \"21:37\"))\n",
    "\n",
    "print(re.findall(hour_regex, \"21:37:69\"))\n",
    "print(re.findall(hour_regex, \"021:37:00\"))\n",
    "print(re.findall(hour_regex, \"21:37:00:13\"))\n",
    "print(re.findall(hour_regex, \"13:21:37:00\"))\n",
    "print(re.findall(hour_regex, \":21:37\"))\n",
    "print(re.findall(hour_regex, \"21:37:\"))"
   ],
   "metadata": {
    "collapsed": false,
    "ExecuteTime": {
     "end_time": "2024-10-11T20:26:13.438354100Z",
     "start_time": "2024-10-11T20:26:13.384366200Z"
    }
   },
   "id": "f0b3e0fb02171434"
  },
  {
   "cell_type": "markdown",
   "source": [
    "Correct patterns are detected. Incorrect ones are not. Exactly what we're asking for"
   ],
   "metadata": {
    "collapsed": false
   },
   "id": "fdc926da45ed4b1a"
  },
  {
   "cell_type": "markdown",
   "source": [
    "### Creating the month regex"
   ],
   "metadata": {
    "collapsed": false
   },
   "id": "77eb9806f55f1b9b"
  },
  {
   "cell_type": "code",
   "execution_count": 7,
   "outputs": [
    {
     "name": "stdout",
     "output_type": "stream",
     "text": [
      "['11 września']\n",
      "['2 grudnia']\n"
     ]
    }
   ],
   "source": [
    "month_dopelniacz = [\n",
    "    \"[Ss]tycznia\",\n",
    "    \"[Ll]utego\",\n",
    "    \"[Mm]arca\",\n",
    "    \"[Kk]wietnia\",\n",
    "    \"[Mm]aja\",\n",
    "    \"[Cc]zerwca\",\n",
    "    \"[Ll]ipca\",\n",
    "    \"[Ss]ierpnia\",\n",
    "    \"[Ww]rześnia\",\n",
    "    \"[Pp]aździernika\",\n",
    "    \"[Ll]istopada\",\n",
    "    \"[Gg]rudnia\",\n",
    "]\n",
    "month_regex = r\"[1-3]?[0-9] (?:\" + \"|\".join(month_dopelniacz) + \")\"\n",
    "\n",
    "print(re.findall(month_regex, \"11 września\"))\n",
    "print(re.findall(month_regex, \"2 grudnia\"))"
   ],
   "metadata": {
    "collapsed": false,
    "ExecuteTime": {
     "end_time": "2024-10-11T20:26:13.438354100Z",
     "start_time": "2024-10-11T20:26:13.399361200Z"
    }
   },
   "id": "e91f62fca0e80295"
  },
  {
   "cell_type": "markdown",
   "source": [
    "---"
   ],
   "metadata": {
    "collapsed": false
   },
   "id": "8973508f503fde6a"
  },
  {
   "cell_type": "markdown",
   "source": [
    "# 2. Detect hours and months in the dataset"
   ],
   "metadata": {
    "collapsed": false
   },
   "id": "73cb598d21673601"
  },
  {
   "cell_type": "code",
   "execution_count": 8,
   "outputs": [],
   "source": [
    "hour_dict = defaultdict(lambda: 0)\n",
    "month_dict = defaultdict(lambda: 0)\n",
    "\n",
    "for txt in texts:\n",
    "    for hour in re.findall(hour_regex, txt):\n",
    "        hour_dict[hour] += 1\n",
    "\n",
    "    for month in re.findall(month_regex, txt):\n",
    "        month_dict[month] += 1"
   ],
   "metadata": {
    "collapsed": false,
    "ExecuteTime": {
     "end_time": "2024-10-11T20:26:14.521870100Z",
     "start_time": "2024-10-11T20:26:13.412364700Z"
    }
   },
   "id": "1f268b6fe18a5fbd"
  },
  {
   "cell_type": "markdown",
   "source": [
    "### Did we get correct results?"
   ],
   "metadata": {
    "collapsed": false
   },
   "id": "f0e3423f4e713182"
  },
  {
   "cell_type": "code",
   "execution_count": 9,
   "outputs": [
    {
     "data": {
      "text/plain": "['17:57:23',\n '6:17',\n '20:00',\n '17:00',\n '22:00',\n '12:00',\n '17:30:33',\n '15:00',\n '5:35',\n '8:00']"
     },
     "execution_count": 9,
     "metadata": {},
     "output_type": "execute_result"
    }
   ],
   "source": [
    "list(hour_dict.keys())[:10]"
   ],
   "metadata": {
    "collapsed": false,
    "ExecuteTime": {
     "end_time": "2024-10-11T20:26:14.544865700Z",
     "start_time": "2024-10-11T20:26:14.522869900Z"
    }
   },
   "id": "639d60c3b89bb166"
  },
  {
   "cell_type": "code",
   "execution_count": 10,
   "outputs": [
    {
     "data": {
      "text/plain": "['1 czerwca',\n '1 sierpnia',\n '2 kwietnia',\n '30 kwietnia',\n '1 grudnia',\n '4 maja',\n '2 marca',\n '18 lipca',\n '23 czerwca',\n '17 października']"
     },
     "execution_count": 10,
     "metadata": {},
     "output_type": "execute_result"
    }
   ],
   "source": [
    "list(month_dict.keys())[:10]"
   ],
   "metadata": {
    "collapsed": false,
    "ExecuteTime": {
     "end_time": "2024-10-11T20:26:14.583859600Z",
     "start_time": "2024-10-11T20:26:14.538873700Z"
    }
   },
   "id": "16bdda8bba2bb726"
  },
  {
   "cell_type": "markdown",
   "source": [
    "### Convert them to per-month and per-hour counts"
   ],
   "metadata": {
    "collapsed": false
   },
   "id": "56f1f3f4e7a61fbc"
  },
  {
   "cell_type": "code",
   "execution_count": 11,
   "outputs": [],
   "source": [
    "month_map = {\n",
    "    \"stycznia\": \"styczeń\",\n",
    "    \"lutego\": \"luty\",\n",
    "    \"marca\": \"marzec\",\n",
    "    \"kwietnia\": \"kwiecień\",\n",
    "    \"maja\": \"maj\",\n",
    "    \"czerwca\": \"czerwiec\",\n",
    "    \"lipca\": \"lipiec\",\n",
    "    \"sierpnia\": \"sierpień\",\n",
    "    \"września\": \"wrzesień\",\n",
    "    \"października\": \"październik\",\n",
    "    \"listopada\": \"listopad\",\n",
    "    \"grudnia\": \"grudzień\",\n",
    "}\n",
    "\n",
    "months_in_order = [\n",
    "    \"styczeń\",\n",
    "    \"luty\",\n",
    "    \"marzec\",\n",
    "    \"kwiecień\",\n",
    "    \"maj\",\n",
    "    \"czerwiec\",\n",
    "    \"lipiec\",\n",
    "    \"sierpień\",\n",
    "    \"wrzesień\",\n",
    "    \"październik\",\n",
    "    \"listopad\",\n",
    "    \"grudzień\",\n",
    "]"
   ],
   "metadata": {
    "collapsed": false,
    "ExecuteTime": {
     "end_time": "2024-10-11T20:26:14.583859600Z",
     "start_time": "2024-10-11T20:26:14.553865600Z"
    }
   },
   "id": "3900a9f1dba2ca2"
  },
  {
   "cell_type": "code",
   "execution_count": 12,
   "outputs": [],
   "source": [
    "hour_counts = defaultdict(lambda: 0)\n",
    "month_counts = defaultdict(lambda: 0)\n",
    "\n",
    "for key in hour_dict.keys():\n",
    "    new_key = key.split(\":\")[0]\n",
    "    if len(new_key) == 1:\n",
    "        new_key = \"0\" + new_key\n",
    "    hour_counts[new_key] += hour_dict[key]\n",
    "hour_counts = sorted(list(hour_counts.items()))\n",
    "\n",
    "for key in month_dict.keys():\n",
    "    new_key = key.split(\" \")[1].lower()\n",
    "    month_counts[month_map[new_key]] += month_dict[key]\n",
    "\n",
    "month_counts = [(month, month_counts[month]) for month in months_in_order]"
   ],
   "metadata": {
    "collapsed": false,
    "ExecuteTime": {
     "end_time": "2024-10-11T20:26:14.599863500Z",
     "start_time": "2024-10-11T20:26:14.569868900Z"
    }
   },
   "id": "a4210e135d82f028"
  },
  {
   "cell_type": "markdown",
   "source": [
    "# Plotting results\n",
    "\n",
    "### Display hour occurences"
   ],
   "metadata": {
    "collapsed": false
   },
   "id": "fad623d66ec70d2f"
  },
  {
   "cell_type": "code",
   "execution_count": 13,
   "outputs": [
    {
     "data": {
      "text/plain": "<Figure size 1000x700 with 1 Axes>",
      "image/png": "[encoded data removed]"
     },
     "metadata": {},
     "output_type": "display_data"
    }
   ],
   "source": [
    "labels, values = zip(*hour_counts)\n",
    "\n",
    "plt.figure(figsize=(10, 7))\n",
    "plt.barh(labels, values, color=\"darkslategrey\")\n",
    "\n",
    "plt.gca().invert_yaxis()\n",
    "\n",
    "plt.xlabel(\"Count\")\n",
    "plt.ylabel(\"Hour\")\n",
    "plt.title(\"Number of occurrences\")\n",
    "\n",
    "plt.show()"
   ],
   "metadata": {
    "collapsed": false,
    "ExecuteTime": {
     "end_time": "2024-10-11T20:26:14.713844400Z",
     "start_time": "2024-10-11T20:26:14.584859400Z"
    }
   },
   "id": "d13788d0bcb69919"
  },
  {
   "cell_type": "markdown",
   "source": [
    "### Display month occurences"
   ],
   "metadata": {
    "collapsed": false
   },
   "id": "90bd9c981c0b5d48"
  },
  {
   "cell_type": "code",
   "execution_count": 14,
   "outputs": [
    {
     "data": {
      "text/plain": "<Figure size 1000x700 with 1 Axes>",
      "image/png": "[encoded data removed]"
     },
     "metadata": {},
     "output_type": "display_data"
    }
   ],
   "source": [
    "labels, values = zip(*month_counts)\n",
    "\n",
    "plt.figure(figsize=(10, 7))\n",
    "plt.barh(labels, values, color=\"darkslategrey\")\n",
    "\n",
    "plt.gca().invert_yaxis()\n",
    "\n",
    "plt.xlabel(\"Count\")\n",
    "plt.ylabel(\"Month\")\n",
    "plt.title(\"Number of occurrences\")\n",
    "\n",
    "plt.show()"
   ],
   "metadata": {
    "collapsed": false,
    "ExecuteTime": {
     "end_time": "2024-10-11T20:26:14.835816900Z",
     "start_time": "2024-10-11T20:26:14.715844200Z"
    }
   },
   "id": "8ce7062db629a5b5"
  },
  {
   "cell_type": "markdown",
   "source": [
    "---"
   ],
   "metadata": {
    "collapsed": false
   },
   "id": "c8d6b973799591e9"
  },
  {
   "cell_type": "markdown",
   "source": [
    "# 3. Finding April"
   ],
   "metadata": {
    "collapsed": false
   },
   "id": "e5663ccfa6c0f099"
  },
  {
   "cell_type": "code",
   "execution_count": 15,
   "outputs": [
    {
     "data": {
      "text/plain": "['kwiecień',\n 'kwietnie',\n 'kwietnia',\n 'kwietni',\n 'kwietniów',\n 'kwietniowi',\n 'kwietniom',\n 'kwiecień',\n 'kwietnie',\n 'kwietniem',\n 'kwietniami',\n 'kwietniu',\n 'kwietniach',\n 'kwietniu',\n 'kwietnie']"
     },
     "execution_count": 15,
     "metadata": {},
     "output_type": "execute_result"
    }
   ],
   "source": [
    "april_regex = \"kwie(?:cień|tni(?:u|em?|ów|o(?:wi|m)|a(?:ch|mi)?)?)\"\n",
    "\n",
    "# We only consider nouns.\n",
    "# Adjectives will not be counted.\n",
    "aprils = \"\"\" \n",
    "       kwiecień, kwietnie, \n",
    "       kwietnia, kwietni, kwietniów, \n",
    "       kwietniowi, kwietniom, \n",
    "       kwiecień, kwietnie, \n",
    "       kwietniem, kwietniami, \n",
    "       kwietniu, kwietniach, \n",
    "       kwietniu, kwietnie \n",
    "       \"\"\"\n",
    "re.findall(april_regex, aprils)"
   ],
   "metadata": {
    "collapsed": false,
    "ExecuteTime": {
     "end_time": "2024-10-11T20:26:14.849814400Z",
     "start_time": "2024-10-11T20:26:14.826818600Z"
    }
   },
   "id": "c6ca410bf3161c7a"
  },
  {
   "cell_type": "markdown",
   "source": [
    "### Finding April in the dataset"
   ],
   "metadata": {
    "collapsed": false
   },
   "id": "b18ea44a537dccae"
  },
  {
   "cell_type": "code",
   "execution_count": 16,
   "outputs": [
    {
     "data": {
      "text/plain": "359"
     },
     "execution_count": 16,
     "metadata": {},
     "output_type": "execute_result"
    }
   ],
   "source": [
    "all_april_occurrences = 0\n",
    "\n",
    "for txt in texts:\n",
    "    all_april_occurrences += len(re.findall(april_regex, txt))\n",
    "\n",
    "all_april_occurrences"
   ],
   "metadata": {
    "collapsed": false,
    "ExecuteTime": {
     "end_time": "2024-10-11T20:26:15.079490500Z",
     "start_time": "2024-10-11T20:26:14.843815900Z"
    }
   },
   "id": "ae5cd3c9a5cf7218"
  },
  {
   "cell_type": "markdown",
   "source": [
    "# 5. Find April and a date (number and space)"
   ],
   "metadata": {
    "collapsed": false
   },
   "id": "b95ba786f028ce54"
  },
  {
   "cell_type": "code",
   "execution_count": 17,
   "outputs": [
    {
     "data": {
      "text/plain": "201"
     },
     "execution_count": 17,
     "metadata": {},
     "output_type": "execute_result"
    }
   ],
   "source": [
    "num_april_regex = \"\\d \" + april_regex\n",
    "\n",
    "all_april_dates = 0\n",
    "\n",
    "for txt in texts:\n",
    "    all_april_dates += len(re.findall(num_april_regex, txt))\n",
    "\n",
    "all_april_dates"
   ],
   "metadata": {
    "collapsed": false,
    "ExecuteTime": {
     "end_time": "2024-10-11T20:26:15.317976600Z",
     "start_time": "2024-10-11T20:26:15.080490400Z"
    }
   },
   "id": "9a6a9aae00c8e1fb"
  },
  {
   "cell_type": "markdown",
   "source": [
    "# 6. Find April without a date"
   ],
   "metadata": {
    "collapsed": false
   },
   "id": "4f59fa9f31732d70"
  },
  {
   "cell_type": "code",
   "execution_count": 18,
   "outputs": [
    {
     "data": {
      "text/plain": "158"
     },
     "execution_count": 18,
     "metadata": {},
     "output_type": "execute_result"
    }
   ],
   "source": [
    "just_april_regex = r\"(?<!\\d )\" + april_regex\n",
    "\n",
    "just_april_dates = 0\n",
    "\n",
    "for txt in texts:\n",
    "    just_april_dates += len(re.findall(just_april_regex, txt))\n",
    "\n",
    "just_april_dates"
   ],
   "metadata": {
    "collapsed": false,
    "ExecuteTime": {
     "end_time": "2024-10-11T20:26:15.544945200Z",
     "start_time": "2024-10-11T20:26:15.318976400Z"
    }
   },
   "id": "7294550d385c0406"
  },
  {
   "cell_type": "code",
   "execution_count": 19,
   "outputs": [
    {
     "data": {
      "text/plain": "True"
     },
     "execution_count": 19,
     "metadata": {},
     "output_type": "execute_result"
    }
   ],
   "source": [
    "all_april_dates + just_april_dates == all_april_occurrences"
   ],
   "metadata": {
    "collapsed": false,
    "ExecuteTime": {
     "end_time": "2024-10-11T20:26:15.586931300Z",
     "start_time": "2024-10-11T20:26:15.541945900Z"
    }
   },
   "id": "51d2b34474ee84d9"
  },
  {
   "cell_type": "markdown",
   "source": [
    "Great! We only see April with or without a date or other number, and with no space"
   ],
   "metadata": {
    "collapsed": false
   },
   "id": "7f2b35064d5f614"
  },
  {
   "cell_type": "markdown",
   "source": [
    "# What will BIELIK say?"
   ],
   "metadata": {
    "collapsed": false
   },
   "id": "da24a0f7126b1681"
  },
  {
   "cell_type": "markdown",
   "source": [
    "### Prompt 1:\n",
    "\n",
    "Przepisz poniższą treść zadań na język polski. Nie tłumacz adresu url. Zostaw go jak jest 1. Devise two regular expressions: * extracting times, e.g. recognizing `20:30` as an instance of a time. * extracting dates, e.g. recognizing `20 września` as an instance of a date. 2. Search for occurrences of times and dates in the dataset. 3. Plot results from point 2: * for times create a bar plot for full hours. * for dates create a bar plot for months. 4. Compute the number of occurrences of `kwiecień` word in any inflectional form. Use a compact form for the query (i.e. joining all forms of the word by alternative is forbidden). 5. As in 4, but preceded by a number and a space. 6. As in 4, but not preceded by a number and a space. Check if the results from 5 and 6 sum to 4. 7. Ask an LLM (e.g. [Bielik](https://chat.bielik.ai/)) to complete these tasks for you. Compare and criticize the code generated by the LLM.\n",
    "\n",
    "### Response:\n",
    "\n",
    "Oto przepisane zadania w języku polskim:\n",
    "\n",
    "1. Opracuj dwa wyrażenia regularne:\n",
    "\n",
    "- Wyrażenie do ekstrakcji czasów, np. rozpoznające 20:30 jako instancję czasu.\n",
    "- Wyrażenie do ekstrakcji dat, np. rozpoznające 20 września jako instancję daty.\n",
    "2. Wyszukaj wystąpienia czasów i dat w zbiorze danych.\n",
    "\n",
    "3. Wyświetl wyniki z punktu 2:\n",
    "\n",
    "- Dla czasów utwórz wykres słupkowy dla pełnych godzin.\n",
    "- Dla dat utwórz wykres słupkowy dla miesięcy.\n",
    "4. Oblicz liczbę wystąpień słowa kwiecień we wszystkich formach fleksyjnych. Użyj zwięzłej formy zapytania (łączenie wszystkich form słowa za pomocą alternatywy jest zabronione).\n",
    "\n",
    "5. Jak w punkcie 4, ale poprzedzone liczbą i spacją.\n",
    "\n",
    "6. Jak w punkcie 4, ale niepoprzedzone liczbą i spacją. Sprawdź, czy wyniki z punktów 5 i 6 sumują się do wyniku z punktu 4.\n",
    "\n",
    "7. Poproś model językowy (np. Bielik) o wykonanie tych zadań za Ciebie. Porównaj i skrytykuj kod wygenerowany przez model językowy.\n",
    "\n",
    "\n",
    "### Observations:\n",
    "\n",
    "Despite the fact Bielik's UI didn't allow me to paste the text with spaces and newlines even though I added them in the chat window, the model was able to add them to make the text more readable."
   ],
   "metadata": {
    "collapsed": false
   },
   "id": "4ae03e0f41603fa1"
  },
  {
   "cell_type": "markdown",
   "source": [
    "---"
   ],
   "metadata": {
    "collapsed": false
   },
   "id": "394f7c5a84101336"
  },
  {
   "cell_type": "markdown",
   "source": [
    "# Prompt 2:\n",
    "\n",
    "Wykonaj poniższe zadania. Dla podpunktów 1-6 napisz kod w języku Python, który będzie ich rozwiązaniem. W celu wykonania ostatniego zadania 7 wymyśl prompt, który można będzie podać modelowi BIELIK.\n",
    "\n",
    "1. Opracuj dwa wyrażenia regularne:\n",
    "\n",
    "- Wyrażenie do ekstrakcji czasów, np. rozpoznające 20:30 jako instancję czasu.\n",
    "- Wyrażenie do ekstrakcji dat, np. rozpoznające 20 września jako instancję daty.\n",
    "2. Wyszukaj wystąpienia czasów i dat w zbiorze danych.\n",
    "\n",
    "3. Wyświetl wyniki z punktu 2:\n",
    "\n",
    "- Dla czasów utwórz wykres słupkowy dla pełnych godzin.\n",
    "- Dla dat utwórz wykres słupkowy dla miesięcy.\n",
    "4. Oblicz liczbę wystąpień słowa kwiecień we wszystkich formach fleksyjnych. Użyj zwięzłej formy zapytania (łączenie wszystkich form słowa za pomocą alternatywy jest zabronione).\n",
    "\n",
    "5. Jak w punkcie 4, ale poprzedzone liczbą i spacją.\n",
    "\n",
    "6. Jak w punkcie 4, ale niepoprzedzone liczbą i spacją. Sprawdź, czy wyniki z punktów 5 i 6 sumują się do wyniku z punktu 4.\n",
    "\n",
    "7. Poproś model językowy (np. Bielik) o wykonanie tych zadań za Ciebie. Porównaj i skrytykuj kod wygenerowany przez model językowy.\n",
    "\n",
    "# Response:\n",
    "\n"
   ],
   "metadata": {
    "collapsed": false
   },
   "id": "fe02934874d1131b"
  },
  {
   "cell_type": "markdown",
   "source": [
    "# Zadanie 1: Wyrażenia regularne\n",
    "\n",
    "1. Wyrażenie do ekstrakcji czasów:"
   ],
   "metadata": {
    "collapsed": false
   },
   "id": "47d5f6554c6c0448"
  },
  {
   "cell_type": "code",
   "execution_count": 20,
   "outputs": [],
   "source": [
    "import re\n",
    "\n",
    "# Wyrażenie regularne do ekstrakcji czasów w formacie HH:MM\n",
    "time_pattern = r'\\d{1,2}:\\d{2}'"
   ],
   "metadata": {
    "collapsed": false,
    "ExecuteTime": {
     "end_time": "2024-10-11T20:26:15.587931300Z",
     "start_time": "2024-10-11T20:26:15.557936300Z"
    }
   },
   "id": "95b53719bb59160a"
  },
  {
   "cell_type": "markdown",
   "source": [
    "2. Wyrażenie do ekstrakcji dat:"
   ],
   "metadata": {
    "collapsed": false
   },
   "id": "a6f41b3000e35d06"
  },
  {
   "cell_type": "code",
   "execution_count": 21,
   "outputs": [],
   "source": [
    "# Wyrażenie regularne do ekstrakcji dat w formacie dd mmm\n",
    "date_pattern = '\\d{1,2} \\w+'"
   ],
   "metadata": {
    "collapsed": false,
    "ExecuteTime": {
     "end_time": "2024-10-11T20:26:15.599936100Z",
     "start_time": "2024-10-11T20:26:15.572940600Z"
    }
   },
   "id": "65c5818ddd52254c"
  },
  {
   "cell_type": "markdown",
   "source": [
    "# Zadanie 2: Wyszukiwanie wystąpień czasów i dat\n",
    "\n",
    "1. Przykładowy zbiór danych:"
   ],
   "metadata": {
    "collapsed": false
   },
   "id": "af602229d6a22fd"
  },
  {
   "cell_type": "code",
   "execution_count": 22,
   "outputs": [],
   "source": [
    "data = [\n",
    "    \"Spotkanie odbędzie się 20 września o 15:30.\",\n",
    "    \"Wyjazd zaplanowano na 10 października o 9:00.\",\n",
    "    \"Wydarzenie rozpocznie się 15 kwietnia o 18:00.\",\n",
    "    \"Konferencja odbędzie się 25 maja o 11:45.\",\n",
    "    \"Spotkanie zacznie się 1 czerwca o 13:15.\",\n",
    "    \"Wyjazd zorganizowano na 30 czerwca o 8:00.\",\n",
    "    \"Wydarzenie rozpocznie się 1 lipca o 16:30.\",\n",
    "    \"Konferencja odbędzie się 15 sierpnia o 10:15.\",\n",
    "    \"Spotkanie zacznie się 1 września o 14:45.\",\n",
    "    \"Wyjazd zaplanowano na 20 września o 15:30.\"\n",
    "]"
   ],
   "metadata": {
    "collapsed": false,
    "ExecuteTime": {
     "end_time": "2024-10-11T20:26:15.611933800Z",
     "start_time": "2024-10-11T20:26:15.588937800Z"
    }
   },
   "id": "75f587183bc63777"
  },
  {
   "cell_type": "markdown",
   "source": [
    "2. Funkcja do wyszukiwania czasów i dat:"
   ],
   "metadata": {
    "collapsed": false
   },
   "id": "80149446345cd3d2"
  },
  {
   "cell_type": "code",
   "execution_count": 23,
   "outputs": [],
   "source": [
    "def find_times_and_dates(data):\n",
    "    times = []\n",
    "    dates = []\n",
    "    \n",
    "    for sentence in data:\n",
    "        times_in_sentence = re.findall(time_pattern, sentence)\n",
    "        dates_in_sentence = re.findall(date_pattern, sentence)\n",
    "        \n",
    "        times.extend(times_in_sentence)\n",
    "        dates.extend(dates_in_sentence)\n",
    "    \n",
    "    return times, dates"
   ],
   "metadata": {
    "collapsed": false,
    "ExecuteTime": {
     "end_time": "2024-10-11T20:26:15.650921400Z",
     "start_time": "2024-10-11T20:26:15.606935100Z"
    }
   },
   "id": "957e92d3c13b14dc"
  },
  {
   "cell_type": "markdown",
   "source": [
    "# Zadanie 3: Wyświetlanie wyników\n",
    "\n",
    "1. Wykres słupkowy dla czasów:"
   ],
   "metadata": {
    "collapsed": false
   },
   "id": "afc1511b60e7393"
  },
  {
   "cell_type": "code",
   "execution_count": 24,
   "outputs": [],
   "source": [
    "import matplotlib.pyplot as plt\n",
    "from collections import Counter\n",
    "\n",
    "def plot_times(times):\n",
    "    # Zliczanie wystąpień każdego czasu\n",
    "    time_counts = Counter(times)\n",
    "    \n",
    "    # Tworzenie wykresu słupkowego\n",
    "    plt.figure(figsize=(10, 6))\n",
    "    plt.bar(range(1, len(time_counts) + 1), list(time_counts.values()), tick_label=list(time_counts.keys()))\n",
    "    plt.title('Wystąpienia czasów')\n",
    "    plt.xlabel('Czas')\n",
    "    plt.ylabel('Liczba wystąpień')\n",
    "    plt.show()"
   ],
   "metadata": {
    "collapsed": false,
    "ExecuteTime": {
     "end_time": "2024-10-11T20:26:15.651920200Z",
     "start_time": "2024-10-11T20:26:15.622931500Z"
    }
   },
   "id": "38398e866f8355c7"
  },
  {
   "cell_type": "markdown",
   "source": [
    "2. Wykres słupkowy dla dat:"
   ],
   "metadata": {
    "collapsed": false
   },
   "id": "e9db408f27daab98"
  },
  {
   "cell_type": "code",
   "execution_count": 25,
   "outputs": [],
   "source": [
    "def plot_dates(dates):\n",
    "    # Zliczanie wystąpień każdej daty\n",
    "    date_counts = Counter(dates)\n",
    "    \n",
    "    # Tworzenie wykresu słupkowego\n",
    "    plt.figure(figsize=(10, 6))\n",
    "    plt.bar(range(1, len(date_counts) + 1), list(date_counts.values()), tick_label=list(date_counts.keys()))\n",
    "    plt.title('Wystąpienia dat')\n",
    "    plt.xlabel('Data')\n",
    "    plt.ylabel('Liczba wystąpień')\n",
    "    plt.show()"
   ],
   "metadata": {
    "collapsed": false,
    "ExecuteTime": {
     "end_time": "2024-10-11T20:26:15.652920300Z",
     "start_time": "2024-10-11T20:26:15.638923800Z"
    }
   },
   "id": "9dd8d820517c52e"
  },
  {
   "cell_type": "markdown",
   "source": [
    "# Zadanie 4: Liczba wystąpień słowa kwiecień"
   ],
   "metadata": {
    "collapsed": false
   },
   "id": "6c8912e49d030e09"
  },
  {
   "cell_type": "code",
   "execution_count": 26,
   "outputs": [],
   "source": [
    "def count_april_words(data):\n",
    "    # Wyrażenie regularne do ekstrakcji słowa kwiecień w różnych formach\n",
    "    april_pattern = r'\\bkwiecień\\b|\\bkwietnia\\b|\\bkwietniu\\b|\\bkwietniem\\b|\\bkwietnia\\b'\n",
    "    \n",
    "    # Zliczanie wystąpień\n",
    "    count = sum(len(re.findall(april_pattern, sentence)) for sentence in data)\n",
    "    \n",
    "    return count"
   ],
   "metadata": {
    "collapsed": false,
    "ExecuteTime": {
     "end_time": "2024-10-11T20:26:15.670917200Z",
     "start_time": "2024-10-11T20:26:15.653919800Z"
    }
   },
   "id": "6c16573e1fdbabdb"
  },
  {
   "cell_type": "markdown",
   "source": [
    "# Zadanie 5: Liczba wystąpień słowa kwiecień poprzedzonego liczbą i spacją"
   ],
   "metadata": {
    "collapsed": false
   },
   "id": "e48db9acbc7773e8"
  },
  {
   "cell_type": "code",
   "execution_count": 27,
   "outputs": [],
   "source": [
    "def count_april_words_with_number(data):\n",
    "    # Wyrażenie regularne do ekstrakcji słowa kwiecień poprzedzonego liczbą i spacją\n",
    "    april_pattern = r'\\d+\\s\\bkwiecień\\b|\\d+\\s\\bkwietnia\\b|\\d+\\s\\bkwietniu\\b|\\d+\\s\\bkwietniem\\b|\\d+\\s\\bkwietnia\\b'\n",
    "    \n",
    "    # Zliczanie wystąpień\n",
    "    count = sum(len(re.findall(april_pattern, sentence)) for sentence in data)\n",
    "    \n",
    "    return count"
   ],
   "metadata": {
    "collapsed": false,
    "ExecuteTime": {
     "end_time": "2024-10-11T20:26:15.701921800Z",
     "start_time": "2024-10-11T20:26:15.668925Z"
    }
   },
   "id": "59010d224d8aff4e"
  },
  {
   "cell_type": "markdown",
   "source": [
    "# Zadanie 6: Liczba wystąpień słowa kwiecień niepoprzedzonego liczbą i spacją"
   ],
   "metadata": {
    "collapsed": false
   },
   "id": "d3d96484d3e1209c"
  },
  {
   "cell_type": "code",
   "execution_count": 28,
   "outputs": [],
   "source": [
    "def count_april_words_without_number(data):\n",
    "    # Wyrażenie regularne do ekstrakcji słowa kwiecień niepoprzedzonego liczbą i spacją\n",
    "    april_pattern = r'\\bkwiecień\\b|\\bkwietnia\\b|\\bkwietniu\\b|\\bkwietniem\\b|\\bkwietnia\\b'\n",
    "    \n",
    "    # Zliczanie wystąpień\n",
    "    count = sum(len(re.findall(april_pattern, sentence)) for sentence in data)\n",
    "    \n",
    "    return count"
   ],
   "metadata": {
    "collapsed": false,
    "ExecuteTime": {
     "end_time": "2024-10-11T20:26:15.702923Z",
     "start_time": "2024-10-11T20:26:15.686924400Z"
    }
   },
   "id": "c1e71c14825d14d6"
  },
  {
   "cell_type": "markdown",
   "source": [],
   "metadata": {
    "collapsed": false
   },
   "id": "43cf6dd017e272a4"
  },
  {
   "cell_type": "markdown",
   "source": [
    "# Prompt dla modelu Bielik\n",
    "\n",
    "\"\"\"\n",
    "Wykonaj następujące zadania:\n",
    "\n",
    "1. Opracuj dwa wyrażenia regularne:\n",
    "   - Wyrażenie do ekstrakcji czasów, np. rozpoznające 20:30 jako instancję czasu.\n",
    "   - Wyrażenie do ekstrakcji dat, np. rozpoznające 20 września jako instancję daty.\n",
    "\n",
    "2. Wyszukaj wystąpienia czasów i dat w zbiorze danych.\n",
    "\n",
    "3. Wyświetl wyniki z punktu 2:\n",
    "   - Dla czasów utwórz wykres słupkowy dla pełnych godzin.\n",
    "   - Dla dat utwórz wykres słupkowy dla miesięcy.\n",
    "\n",
    "4. Oblicz liczbę wystąpień słowa kwiecień we wszystkich formach fleksyjnych. Użyj zwięzłej formy zapytania (łączenie wszystkich form słowa za pomocą alternatywy jest zabronione).\n",
    "\n",
    "5. Jak w punkcie 4, ale poprzedzone liczbą i spacją.\n",
    "\n",
    "6. Jak w punkcie 4, ale niepoprzedzone liczbą i spacją. Sprawdź, czy wyniki z punktów 5 i 6 sumują się do wyniku z punktu 4.\n",
    "\n",
    "Proszę, wygeneruj kod Python do"
   ],
   "metadata": {
    "collapsed": false
   },
   "id": "cbdf4000dca55c4d"
  },
  {
   "cell_type": "markdown",
   "source": [
    "---"
   ],
   "metadata": {
    "collapsed": false
   },
   "id": "d0e5548bf4526b1d"
  },
  {
   "cell_type": "markdown",
   "source": [
    "# Observations\n",
    "\n",
    "The output of the last cell was unfinished. It's a common issue for language models I have worked with so far. OpenAI's GPT was an exception.\n",
    "\n",
    "Because the task prompt didn't provide information about used dataset the model was able to creat its own synthetic data. Unfortunately the generated data doesn't include elements that could potentially enable the user to find errors or debug the code. It's possible that model assumed it's presentation purpose only.\n",
    "\n",
    "The model was very exact in the regex it created for finding date and time. It only creted regex to match exactly the data in the format provided ignoring the \"for example\" instruction:\n",
    "\n",
    "- Wyrażenie do ekstrakcji czasów, **np.** rozpoznające 20:30 jako instancję czasu.\n",
    "- Wyrażenie do ekstrakcji dat, **np.** rozpoznające 20 września jako instancję daty.\n",
    "\n",
    "Moreover, it created a month regex as `'\\d{1,2} \\w+'` which enables non-month data to be detected. For example `\"12 apostołów\"`. It didn't include constrains for data format such as minutes only being in range `00-60`\n",
    "\n",
    "Bielik ignored the instruction that forbade it from using an alternative of correct words:\n",
    "\n",
    "4. Oblicz liczbę wystąpień słowa kwiecień we wszystkich formach fleksyjnych. Użyj zwięzłej formy zapytania (łączenie wszystkich form słowa za pomocą alternatywy jest zabronione).\n",
    "\n",
    "The model didn't write code that would execute the functions so let's try to do it on our own.\n",
    "\n",
    "We can see that in the task "
   ],
   "metadata": {
    "collapsed": false
   },
   "id": "393faafe8cd0ee28"
  },
  {
   "cell_type": "code",
   "execution_count": 29,
   "outputs": [],
   "source": [
    "times, dates = find_times_and_dates(data)"
   ],
   "metadata": {
    "collapsed": false,
    "ExecuteTime": {
     "end_time": "2024-10-11T20:26:15.716909400Z",
     "start_time": "2024-10-11T20:26:15.700918700Z"
    }
   },
   "id": "c44bb67f1946d4c6"
  },
  {
   "cell_type": "code",
   "execution_count": 30,
   "outputs": [
    {
     "data": {
      "text/plain": "<Figure size 1000x600 with 1 Axes>",
      "image/png": "[encoded data removed]"
     },
     "metadata": {},
     "output_type": "display_data"
    }
   ],
   "source": [
    "plot_times(times)"
   ],
   "metadata": {
    "collapsed": false,
    "ExecuteTime": {
     "end_time": "2024-10-11T20:26:15.802901700Z",
     "start_time": "2024-10-11T20:26:15.724914700Z"
    }
   },
   "id": "ec6e431799b32274"
  },
  {
   "cell_type": "code",
   "execution_count": 31,
   "outputs": [
    {
     "data": {
      "text/plain": "<Figure size 1000x600 with 1 Axes>",
      "image/png": "[encoded data removed]"
     },
     "metadata": {},
     "output_type": "display_data"
    }
   ],
   "source": [
    "plot_dates(dates)"
   ],
   "metadata": {
    "collapsed": false,
    "ExecuteTime": {
     "end_time": "2024-10-11T20:26:15.876882100Z",
     "start_time": "2024-10-11T20:26:15.796903Z"
    }
   },
   "id": "8b657eddc22545da"
  },
  {
   "cell_type": "code",
   "execution_count": 32,
   "outputs": [
    {
     "data": {
      "text/plain": "1"
     },
     "execution_count": 32,
     "metadata": {},
     "output_type": "execute_result"
    }
   ],
   "source": [
    "count_april_words(data)"
   ],
   "metadata": {
    "collapsed": false,
    "ExecuteTime": {
     "end_time": "2024-10-11T20:26:15.903877200Z",
     "start_time": "2024-10-11T20:26:15.876882100Z"
    }
   },
   "id": "59db09df8c99ab02"
  },
  {
   "cell_type": "code",
   "execution_count": 33,
   "outputs": [
    {
     "data": {
      "text/plain": "2"
     },
     "execution_count": 33,
     "metadata": {},
     "output_type": "execute_result"
    }
   ],
   "source": [
    "count_april_words_with_number(data) + count_april_words_without_number(data)"
   ],
   "metadata": {
    "collapsed": false,
    "ExecuteTime": {
     "end_time": "2024-10-11T20:26:15.933879Z",
     "start_time": "2024-10-11T20:26:15.892879700Z"
    }
   },
   "id": "20a02f7adc3e0c2a"
  },
  {
   "cell_type": "markdown",
   "source": [
    "# Observations\n",
    "\n",
    "The plot is ugly! The first one is acceptable, but the 2nd one has overlapping text.\n",
    "\n",
    "The plots include bars for specific hours and specific dates instead of full hour and month bins that would gather instances from an hour and month.\n",
    "\n",
    "The output of the final task is incorrect. The written code didn't exclude matches with a number before it.\n",
    "\n",
    "My code is so much better!"
   ],
   "metadata": {
    "collapsed": false
   },
   "id": "7f94ffa405976862"
  },
  {
   "cell_type": "markdown",
   "source": [
    "# Inception - One step further\n",
    "\n",
    "Out of curiosity I decided to input the prompt generated by BIELIK into BIELIK.\n",
    "\n",
    "This is the result:"
   ],
   "metadata": {
    "collapsed": false
   },
   "id": "7f37bbe5907b3a2c"
  },
  {
   "cell_type": "markdown",
   "source": [
    "Oto kod Python, który realizuje wszystkie zadania:\n"
   ],
   "metadata": {
    "collapsed": false
   },
   "id": "30ce00bb3e528054"
  },
  {
   "cell_type": "code",
   "execution_count": 34,
   "outputs": [
    {
     "ename": "ValueError",
     "evalue": "shape mismatch: objects cannot be broadcast to a single shape.  Mismatch is between arg 0 with shape (12,) and arg 1 with shape (3,).",
     "output_type": "error",
     "traceback": [
      "\u001B[1;31m---------------------------------------------------------------------------\u001B[0m",
      "\u001B[1;31mValueError\u001B[0m                                Traceback (most recent call last)",
      "Cell \u001B[1;32mIn[34], line 46\u001B[0m\n\u001B[0;32m     43\u001B[0m plt\u001B[38;5;241m.\u001B[39mlegend()\n\u001B[0;32m     45\u001B[0m plt\u001B[38;5;241m.\u001B[39mfigure(figsize\u001B[38;5;241m=\u001B[39m(\u001B[38;5;241m12\u001B[39m, \u001B[38;5;241m6\u001B[39m))\n\u001B[1;32m---> 46\u001B[0m \u001B[43mplt\u001B[49m\u001B[38;5;241;43m.\u001B[39;49m\u001B[43mbar\u001B[49m\u001B[43m(\u001B[49m\u001B[38;5;28;43mrange\u001B[39;49m\u001B[43m(\u001B[49m\u001B[38;5;241;43m12\u001B[39;49m\u001B[43m)\u001B[49m\u001B[43m,\u001B[49m\u001B[43m \u001B[49m\u001B[43m[\u001B[49m\u001B[43mdate_counts\u001B[49m\u001B[43m[\u001B[49m\u001B[43mdate\u001B[49m\u001B[43m]\u001B[49m\u001B[43m \u001B[49m\u001B[38;5;28;43;01mfor\u001B[39;49;00m\u001B[43m \u001B[49m\u001B[43mdate\u001B[49m\u001B[43m \u001B[49m\u001B[38;5;129;43;01min\u001B[39;49;00m\u001B[43m \u001B[49m\u001B[43mdate_counts\u001B[49m\u001B[43m]\u001B[49m\u001B[43m,\u001B[49m\u001B[43m \u001B[49m\u001B[43mwidth\u001B[49m\u001B[38;5;241;43m=\u001B[39;49m\u001B[38;5;241;43m0.8\u001B[39;49m\u001B[43m,\u001B[49m\u001B[43m \u001B[49m\u001B[43mlabel\u001B[49m\u001B[38;5;241;43m=\u001B[39;49m\u001B[38;5;124;43m\"\u001B[39;49m\u001B[38;5;124;43mDaty\u001B[39;49m\u001B[38;5;124;43m\"\u001B[39;49m\u001B[43m)\u001B[49m\n\u001B[0;32m     47\u001B[0m plt\u001B[38;5;241m.\u001B[39mxticks(\u001B[38;5;28mrange\u001B[39m(\u001B[38;5;241m12\u001B[39m), [\u001B[38;5;124m\"\u001B[39m\u001B[38;5;124mStyczeń\u001B[39m\u001B[38;5;124m\"\u001B[39m, \u001B[38;5;124m\"\u001B[39m\u001B[38;5;124mLuty\u001B[39m\u001B[38;5;124m\"\u001B[39m, \u001B[38;5;124m\"\u001B[39m\u001B[38;5;124mMarzec\u001B[39m\u001B[38;5;124m\"\u001B[39m, \u001B[38;5;124m\"\u001B[39m\u001B[38;5;124mKwiecień\u001B[39m\u001B[38;5;124m\"\u001B[39m, \u001B[38;5;124m\"\u001B[39m\u001B[38;5;124mMaj\u001B[39m\u001B[38;5;124m\"\u001B[39m, \u001B[38;5;124m\"\u001B[39m\u001B[38;5;124mCzerwiec\u001B[39m\u001B[38;5;124m\"\u001B[39m, \u001B[38;5;124m\"\u001B[39m\u001B[38;5;124mLipiec\u001B[39m\u001B[38;5;124m\"\u001B[39m, \u001B[38;5;124m\"\u001B[39m\u001B[38;5;124mSierpień\u001B[39m\u001B[38;5;124m\"\u001B[39m, \u001B[38;5;124m\"\u001B[39m\u001B[38;5;124mWrzesień\u001B[39m\u001B[38;5;124m\"\u001B[39m, \u001B[38;5;124m\"\u001B[39m\u001B[38;5;124mPaździernik\u001B[39m\u001B[38;5;124m\"\u001B[39m, \u001B[38;5;124m\"\u001B[39m\u001B[38;5;124mListopad\u001B[39m\u001B[38;5;124m\"\u001B[39m, \u001B[38;5;124m\"\u001B[39m\u001B[38;5;124mGrudzień\u001B[39m\u001B[38;5;124m\"\u001B[39m])\n\u001B[0;32m     48\u001B[0m plt\u001B[38;5;241m.\u001B[39mxlabel(\u001B[38;5;124m\"\u001B[39m\u001B[38;5;124mMiesiąc\u001B[39m\u001B[38;5;124m\"\u001B[39m)\n",
      "File \u001B[1;32m~\\AppData\\Local\\Programs\\Python\\Python310\\lib\\site-packages\\matplotlib\\pyplot.py:2439\u001B[0m, in \u001B[0;36mbar\u001B[1;34m(x, height, width, bottom, align, data, **kwargs)\u001B[0m\n\u001B[0;32m   2435\u001B[0m \u001B[38;5;129m@_copy_docstring_and_deprecators\u001B[39m(Axes\u001B[38;5;241m.\u001B[39mbar)\n\u001B[0;32m   2436\u001B[0m \u001B[38;5;28;01mdef\u001B[39;00m \u001B[38;5;21mbar\u001B[39m(\n\u001B[0;32m   2437\u001B[0m         x, height, width\u001B[38;5;241m=\u001B[39m\u001B[38;5;241m0.8\u001B[39m, bottom\u001B[38;5;241m=\u001B[39m\u001B[38;5;28;01mNone\u001B[39;00m, \u001B[38;5;241m*\u001B[39m, align\u001B[38;5;241m=\u001B[39m\u001B[38;5;124m'\u001B[39m\u001B[38;5;124mcenter\u001B[39m\u001B[38;5;124m'\u001B[39m,\n\u001B[0;32m   2438\u001B[0m         data\u001B[38;5;241m=\u001B[39m\u001B[38;5;28;01mNone\u001B[39;00m, \u001B[38;5;241m*\u001B[39m\u001B[38;5;241m*\u001B[39mkwargs):\n\u001B[1;32m-> 2439\u001B[0m     \u001B[38;5;28;01mreturn\u001B[39;00m gca()\u001B[38;5;241m.\u001B[39mbar(\n\u001B[0;32m   2440\u001B[0m         x, height, width\u001B[38;5;241m=\u001B[39mwidth, bottom\u001B[38;5;241m=\u001B[39mbottom, align\u001B[38;5;241m=\u001B[39malign,\n\u001B[0;32m   2441\u001B[0m         \u001B[38;5;241m*\u001B[39m\u001B[38;5;241m*\u001B[39m({\u001B[38;5;124m\"\u001B[39m\u001B[38;5;124mdata\u001B[39m\u001B[38;5;124m\"\u001B[39m: data} \u001B[38;5;28;01mif\u001B[39;00m data \u001B[38;5;129;01mis\u001B[39;00m \u001B[38;5;129;01mnot\u001B[39;00m \u001B[38;5;28;01mNone\u001B[39;00m \u001B[38;5;28;01melse\u001B[39;00m {}), \u001B[38;5;241m*\u001B[39m\u001B[38;5;241m*\u001B[39mkwargs)\n",
      "File \u001B[1;32m~\\AppData\\Local\\Programs\\Python\\Python310\\lib\\site-packages\\matplotlib\\__init__.py:1459\u001B[0m, in \u001B[0;36m_preprocess_data.<locals>.inner\u001B[1;34m(ax, data, *args, **kwargs)\u001B[0m\n\u001B[0;32m   1456\u001B[0m \u001B[38;5;129m@functools\u001B[39m\u001B[38;5;241m.\u001B[39mwraps(func)\n\u001B[0;32m   1457\u001B[0m \u001B[38;5;28;01mdef\u001B[39;00m \u001B[38;5;21minner\u001B[39m(ax, \u001B[38;5;241m*\u001B[39margs, data\u001B[38;5;241m=\u001B[39m\u001B[38;5;28;01mNone\u001B[39;00m, \u001B[38;5;241m*\u001B[39m\u001B[38;5;241m*\u001B[39mkwargs):\n\u001B[0;32m   1458\u001B[0m     \u001B[38;5;28;01mif\u001B[39;00m data \u001B[38;5;129;01mis\u001B[39;00m \u001B[38;5;28;01mNone\u001B[39;00m:\n\u001B[1;32m-> 1459\u001B[0m         \u001B[38;5;28;01mreturn\u001B[39;00m func(ax, \u001B[38;5;241m*\u001B[39m\u001B[38;5;28mmap\u001B[39m(sanitize_sequence, args), \u001B[38;5;241m*\u001B[39m\u001B[38;5;241m*\u001B[39mkwargs)\n\u001B[0;32m   1461\u001B[0m     bound \u001B[38;5;241m=\u001B[39m new_sig\u001B[38;5;241m.\u001B[39mbind(ax, \u001B[38;5;241m*\u001B[39margs, \u001B[38;5;241m*\u001B[39m\u001B[38;5;241m*\u001B[39mkwargs)\n\u001B[0;32m   1462\u001B[0m     auto_label \u001B[38;5;241m=\u001B[39m (bound\u001B[38;5;241m.\u001B[39marguments\u001B[38;5;241m.\u001B[39mget(label_namer)\n\u001B[0;32m   1463\u001B[0m                   \u001B[38;5;129;01mor\u001B[39;00m bound\u001B[38;5;241m.\u001B[39mkwargs\u001B[38;5;241m.\u001B[39mget(label_namer))\n",
      "File \u001B[1;32m~\\AppData\\Local\\Programs\\Python\\Python310\\lib\\site-packages\\matplotlib\\axes\\_axes.py:2409\u001B[0m, in \u001B[0;36mAxes.bar\u001B[1;34m(self, x, height, width, bottom, align, **kwargs)\u001B[0m\n\u001B[0;32m   2406\u001B[0m     \u001B[38;5;28;01mif\u001B[39;00m yerr \u001B[38;5;129;01mis\u001B[39;00m \u001B[38;5;129;01mnot\u001B[39;00m \u001B[38;5;28;01mNone\u001B[39;00m:\n\u001B[0;32m   2407\u001B[0m         yerr \u001B[38;5;241m=\u001B[39m \u001B[38;5;28mself\u001B[39m\u001B[38;5;241m.\u001B[39m_convert_dx(yerr, y0, y, \u001B[38;5;28mself\u001B[39m\u001B[38;5;241m.\u001B[39mconvert_yunits)\n\u001B[1;32m-> 2409\u001B[0m x, height, width, y, linewidth, hatch \u001B[38;5;241m=\u001B[39m \u001B[43mnp\u001B[49m\u001B[38;5;241;43m.\u001B[39;49m\u001B[43mbroadcast_arrays\u001B[49m\u001B[43m(\u001B[49m\n\u001B[0;32m   2410\u001B[0m \u001B[43m    \u001B[49m\u001B[38;5;66;43;03m# Make args iterable too.\u001B[39;49;00m\n\u001B[0;32m   2411\u001B[0m \u001B[43m    \u001B[49m\u001B[43mnp\u001B[49m\u001B[38;5;241;43m.\u001B[39;49m\u001B[43matleast_1d\u001B[49m\u001B[43m(\u001B[49m\u001B[43mx\u001B[49m\u001B[43m)\u001B[49m\u001B[43m,\u001B[49m\u001B[43m \u001B[49m\u001B[43mheight\u001B[49m\u001B[43m,\u001B[49m\u001B[43m \u001B[49m\u001B[43mwidth\u001B[49m\u001B[43m,\u001B[49m\u001B[43m \u001B[49m\u001B[43my\u001B[49m\u001B[43m,\u001B[49m\u001B[43m \u001B[49m\u001B[43mlinewidth\u001B[49m\u001B[43m,\u001B[49m\u001B[43m \u001B[49m\u001B[43mhatch\u001B[49m\u001B[43m)\u001B[49m\n\u001B[0;32m   2413\u001B[0m \u001B[38;5;66;03m# Now that units have been converted, set the tick locations.\u001B[39;00m\n\u001B[0;32m   2414\u001B[0m \u001B[38;5;28;01mif\u001B[39;00m orientation \u001B[38;5;241m==\u001B[39m \u001B[38;5;124m'\u001B[39m\u001B[38;5;124mvertical\u001B[39m\u001B[38;5;124m'\u001B[39m:\n",
      "File \u001B[1;32m~\\AppData\\Local\\Programs\\Python\\Python310\\lib\\site-packages\\numpy\\lib\\stride_tricks.py:540\u001B[0m, in \u001B[0;36mbroadcast_arrays\u001B[1;34m(subok, *args)\u001B[0m\n\u001B[0;32m    533\u001B[0m \u001B[38;5;66;03m# nditer is not used here to avoid the limit of 32 arrays.\u001B[39;00m\n\u001B[0;32m    534\u001B[0m \u001B[38;5;66;03m# Otherwise, something like the following one-liner would suffice:\u001B[39;00m\n\u001B[0;32m    535\u001B[0m \u001B[38;5;66;03m# return np.nditer(args, flags=['multi_index', 'zerosize_ok'],\u001B[39;00m\n\u001B[0;32m    536\u001B[0m \u001B[38;5;66;03m#                  order='C').itviews\u001B[39;00m\n\u001B[0;32m    538\u001B[0m args \u001B[38;5;241m=\u001B[39m [np\u001B[38;5;241m.\u001B[39marray(_m, copy\u001B[38;5;241m=\u001B[39m\u001B[38;5;28;01mFalse\u001B[39;00m, subok\u001B[38;5;241m=\u001B[39msubok) \u001B[38;5;28;01mfor\u001B[39;00m _m \u001B[38;5;129;01min\u001B[39;00m args]\n\u001B[1;32m--> 540\u001B[0m shape \u001B[38;5;241m=\u001B[39m \u001B[43m_broadcast_shape\u001B[49m\u001B[43m(\u001B[49m\u001B[38;5;241;43m*\u001B[39;49m\u001B[43margs\u001B[49m\u001B[43m)\u001B[49m\n\u001B[0;32m    542\u001B[0m \u001B[38;5;28;01mif\u001B[39;00m \u001B[38;5;28mall\u001B[39m(array\u001B[38;5;241m.\u001B[39mshape \u001B[38;5;241m==\u001B[39m shape \u001B[38;5;28;01mfor\u001B[39;00m array \u001B[38;5;129;01min\u001B[39;00m args):\n\u001B[0;32m    543\u001B[0m     \u001B[38;5;66;03m# Common case where nothing needs to be broadcasted.\u001B[39;00m\n\u001B[0;32m    544\u001B[0m     \u001B[38;5;28;01mreturn\u001B[39;00m args\n",
      "File \u001B[1;32m~\\AppData\\Local\\Programs\\Python\\Python310\\lib\\site-packages\\numpy\\lib\\stride_tricks.py:422\u001B[0m, in \u001B[0;36m_broadcast_shape\u001B[1;34m(*args)\u001B[0m\n\u001B[0;32m    417\u001B[0m \u001B[38;5;250m\u001B[39m\u001B[38;5;124;03m\"\"\"Returns the shape of the arrays that would result from broadcasting the\u001B[39;00m\n\u001B[0;32m    418\u001B[0m \u001B[38;5;124;03msupplied arrays against each other.\u001B[39;00m\n\u001B[0;32m    419\u001B[0m \u001B[38;5;124;03m\"\"\"\u001B[39;00m\n\u001B[0;32m    420\u001B[0m \u001B[38;5;66;03m# use the old-iterator because np.nditer does not handle size 0 arrays\u001B[39;00m\n\u001B[0;32m    421\u001B[0m \u001B[38;5;66;03m# consistently\u001B[39;00m\n\u001B[1;32m--> 422\u001B[0m b \u001B[38;5;241m=\u001B[39m \u001B[43mnp\u001B[49m\u001B[38;5;241;43m.\u001B[39;49m\u001B[43mbroadcast\u001B[49m\u001B[43m(\u001B[49m\u001B[38;5;241;43m*\u001B[39;49m\u001B[43margs\u001B[49m\u001B[43m[\u001B[49m\u001B[43m:\u001B[49m\u001B[38;5;241;43m32\u001B[39;49m\u001B[43m]\u001B[49m\u001B[43m)\u001B[49m\n\u001B[0;32m    423\u001B[0m \u001B[38;5;66;03m# unfortunately, it cannot handle 32 or more arguments directly\u001B[39;00m\n\u001B[0;32m    424\u001B[0m \u001B[38;5;28;01mfor\u001B[39;00m pos \u001B[38;5;129;01min\u001B[39;00m \u001B[38;5;28mrange\u001B[39m(\u001B[38;5;241m32\u001B[39m, \u001B[38;5;28mlen\u001B[39m(args), \u001B[38;5;241m31\u001B[39m):\n\u001B[0;32m    425\u001B[0m     \u001B[38;5;66;03m# ironically, np.broadcast does not properly handle np.broadcast\u001B[39;00m\n\u001B[0;32m    426\u001B[0m     \u001B[38;5;66;03m# objects (it treats them as scalars)\u001B[39;00m\n\u001B[0;32m    427\u001B[0m     \u001B[38;5;66;03m# use broadcasting to avoid allocating the full array\u001B[39;00m\n",
      "\u001B[1;31mValueError\u001B[0m: shape mismatch: objects cannot be broadcast to a single shape.  Mismatch is between arg 0 with shape (12,) and arg 1 with shape (3,)."
     ]
    },
    {
     "data": {
      "text/plain": "<Figure size 1200x600 with 1 Axes>",
      "image/png": "[encoded data removed]"
     },
     "metadata": {},
     "output_type": "display_data"
    },
    {
     "data": {
      "text/plain": "<Figure size 1200x600 with 1 Axes>",
      "image/png": "[encoded data removed]"
     },
     "metadata": {},
     "output_type": "display_data"
    }
   ],
   "source": [
    "import re\n",
    "import matplotlib.pyplot as plt\n",
    "from collections import Counter\n",
    "\n",
    "# Dane wejściowe\n",
    "data = \"\"\"\n",
    "10 kwietnia 2023, 15:30\n",
    "20 września 2022, 12:00\n",
    "30 kwietnia 2021, 9:45\n",
    "15 maja 2020, 18:00\n",
    "5 kwietnia 2019, 16:15\n",
    "10 kwietnia 2023, 15:30\n",
    "\"\"\"\n",
    "\n",
    "# Wyrażenia regularne\n",
    "time_pattern = r'\\d{1,2}:\\d{2}'\n",
    "date_pattern = r'\\d{1,2} (stycznia|lutego|marca|kwietnia|maja|czerwca|lipca|sierpnia|września|października|listopada|grudnia) \\d{4}'\n",
    "\n",
    "# Ekstrakcja czasów i dat\n",
    "times = re.findall(time_pattern, data)\n",
    "dates = re.findall(date_pattern, data)\n",
    "\n",
    "# Tworzenie słowników dla wykresów\n",
    "time_counts = Counter(times)\n",
    "date_counts = Counter(dates)\n",
    "\n",
    "# Obliczanie liczby wystąpień słowa \"kwiecień\" we wszystkich formach fleksyjnych\n",
    "fleksyjne_kwiecień = sum(1 for word in data.split() if word.lower() == \"kwiecień\")\n",
    "\n",
    "# Obliczanie liczby wystąpień słowa \"kwiecień\" poprzedzonego liczbą i spacją\n",
    "liczba_kwiecień = sum(1 for word in data.split() if word.lower() == \"kwiecień\" and word.startswith(\"1\") or word.startswith(\"2\") or word.startswith(\"3\") or word.startswith(\"4\") or word.startswith(\"5\") or word.startswith(\"6\") or word.startswith(\"7\") or word.startswith(\"8\") or word.startswith(\"9\"))\n",
    "\n",
    "# Obliczanie liczby wystąpień słowa \"kwiecień\" niepoprzedzonego liczbą i spacją\n",
    "bez_liczby_kwiecień = sum(1 for word in data.split() if word.lower() == \"kwiecień\" and not word.startswith(\"1\") and not word.startswith(\"2\") and not word.startswith(\"3\") and not word.startswith(\"4\") and not word.startswith(\"5\") and not word.startswith(\"6\") and not word.startswith(\"7\") and not word.startswith(\"8\") and not word.startswith(\"9\"))\n",
    "\n",
    "# Tworzenie wykresów\n",
    "plt.figure(figsize=(12, 6))\n",
    "plt.bar(range(24), [time_counts[str(i)] for i in range(24)], width=0.8, label=\"Czasy\")\n",
    "plt.xticks(range(24), [f\"{i:02d}\" for i in range(24)])\n",
    "plt.xlabel(\"Godzina\")\n",
    "plt.ylabel(\"Liczba wystąpień\")\n",
    "plt.title(\"Wystąpienia czasów\")\n",
    "plt.legend()\n",
    "\n",
    "plt.figure(figsize=(12, 6))\n",
    "plt.bar(range(12), [date_counts[date] for date in date_counts], width=0.8, label=\"Daty\")\n",
    "plt.xticks(range(12), [\"Styczeń\", \"Luty\", \"Marzec\", \"Kwiecień\", \"Maj\", \"Czerwiec\", \"Lipiec\", \"Sierpień\", \"Wrzesień\", \"Październik\", \"Listopad\", \"Grudzień\"])\n",
    "plt.xlabel(\"Miesiąc\")\n",
    "plt.ylabel(\"Liczba wystąpień\")\n",
    "plt.title(\"Wystąpienia dat\")\n",
    "plt.legend()\n",
    "\n",
    "# Wyświetlanie wyników\n",
    "print(f\"Liczba wystąpień słowa 'kwiecień' we wszystkich formach fleksyjnych: {fleksyjne_kwiecień}\")\n",
    "print(f\"Liczba wystąpień słowa 'kwiecień' poprzedzonego liczbą i spacją: {liczba_kwiecień}\")\n",
    "print(f\"Liczba wystąpień słowa 'kwiecień' niepoprzedzonego liczbą i spacją: {bez_liczby_kwiecień}\")\n",
    "print(f\"Suma wyników z punktów 5 i 6: {liczba_kwiecień + bez_liczby_kwiecień}\")\n",
    "\n",
    "plt.show()"
   ],
   "metadata": {
    "collapsed": false,
    "ExecuteTime": {
     "end_time": "2024-10-11T20:26:16.645060500Z",
     "start_time": "2024-10-11T20:26:15.920874800Z"
    }
   },
   "id": "99f8746622e2c33d"
  },
  {
   "cell_type": "markdown",
   "source": [
    "Ten kod realizuje wszystkie zadania:\n",
    "\n",
    "Definiuje wyrażenia regularne do ekstrakcji czasów i dat.\n",
    "Ekstrahuje czasy i daty z podanych danych.\n",
    "Tworzy wykresy słupkowe dla czasów i dat.\n",
    "Oblicza liczbę wystąpień słowa \"kwiecień\" we wszystkich formach fleksyjnych.\n",
    "Oblicza liczbę wystąpień słowa \"kwiecień\" poprzedzonego liczbą i spacją.\n",
    "Oblicza liczbę wystąpień słowa \"kwiecień\" niepoprzedzonego liczbą i spacją.\n",
    "Sprawdza, czy suma wyników z punktów 5 i 6 jest równa wynikowi z punktu 4.\n",
    "Wyświetla wyniki i wykresy.\n",
    "Pamiętaj, że dane wejściowe (zmienna data) są przykładowe i możesz je zastąpić własnym zbiorem danych."
   ],
   "metadata": {
    "collapsed": false
   },
   "id": "9327d9da66456d3c"
  },
  {
   "cell_type": "markdown",
   "source": [
    "To no surprise it results in errors\n",
    "\n",
    "There's an observation to be made - the model changed the string naming convention. Before it only used the quotation mark only for the input data while for everything else it used apostrophes.\n",
    "\n",
    "In the new code it uses exclusively quotation mark strings.\n",
    "\n",
    "It's really fun to watch the loss of code quality:\n",
    "\n",
    "```python\n",
    "bez_liczby_kwiecień = sum(1 for word in data.split() if word.lower() == \"kwiecień\" and not word.startswith(\"1\") and not word.startswith(\"2\") and not word.startswith(\"3\") and not word.startswith(\"4\") and not word.startswith(\"5\") and not word.startswith(\"6\") and not word.startswith(\"7\") and not word.startswith(\"8\") and not word.startswith(\"9\"))\n",
    "```\n",
    "\n",
    "Fortunately the previous Bielik response didn't generate the task 7. prompt for Bielik that would tempt me to input the task again and see what happens. "
   ],
   "metadata": {
    "collapsed": false
   },
   "id": "6384ac44f8265577"
  },
  {
   "cell_type": "code",
   "execution_count": null,
   "outputs": [],
   "source": [],
   "metadata": {
    "collapsed": false,
    "ExecuteTime": {
     "start_time": "2024-10-11T20:26:16.642061400Z"
    }
   },
   "id": "3064b83ce2c8331b"
  }
 ],
 "metadata": {
  "kernelspec": {
   "display_name": "Python 3",
   "language": "python",
   "name": "python3"
  },
  "language_info": {
   "codemirror_mode": {
    "name": "ipython",
    "version": 2
   },
   "file_extension": ".py",
   "mimetype": "text/x-python",
   "name": "python",
   "nbconvert_exporter": "python",
   "pygments_lexer": "ipython2",
   "version": "2.7.6"
  }
 },
 "nbformat": 4,
 "nbformat_minor": 5
}
