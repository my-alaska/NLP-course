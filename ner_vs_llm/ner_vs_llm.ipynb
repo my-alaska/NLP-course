{
 "cells": [
  {
   "cell_type": "markdown",
   "id": "3657b63896964595",
   "metadata": {
    "collapsed": false
   },
   "source": [
    "# NER vs LLM\n",
    "\n",
    "---\n",
    "\n",
    "### Configure OLLama\n",
    "\n",
    "Install OLLama\n",
    "\n",
    "Open terminal and type:\n",
    "\n",
    "`ollama run SpeakLeash/bielik-11b-v2.3-instruct:Q4_K_M`\n"
   ]
  },
  {
   "cell_type": "code",
   "execution_count": 1,
   "id": "fe4d3081191a8c23",
   "metadata": {
    "collapsed": false,
    "ExecuteTime": {
     "end_time": "2024-12-04T15:58:40.615984300Z",
     "start_time": "2024-12-04T15:58:28.639855800Z"
    }
   },
   "outputs": [
    {
     "data": {
      "text/plain": "'Named Entity Recognition (NER) to zadanie przetwarzania języka naturalnego, które polega na identyfikowaniu i klasyfikowaniu jednostek nazwanych w tekście. Jednostki nazwane to fragmenty tekstu, które reprezentują konkretne byty lub pojęcia, takie jak osoby, organizacje, lokalizacje, daty, ilości i inne specjalne terminy. NER jest kluczowym elementem wielu aplikacji związanych z analizą tekstu, takich jak ekstrakcja informacji, tłumaczenie maszynowe, systemy rekomendacyjne i wiele innych.\\r\\n\\r\\nProblem Named Entity Recognition polega na tym, że teksty w języku naturalnym są pełne niejednoznaczności i kontekstowych zależności. Słowa mogą mieć różne znaczenia w zależności od kontekstu, a jednostki nazwane mogą być wyrażone na wiele sposobów. Na przykład, słowo \"John\" może oznaczać osobę lub być skrótem od liczby 900 (jak w zapisie daty 1864-03-15). Podobnie, nazwa miasta \"Warszawa\" może być napisana jako \"Warsaw\" lub \"Varsovie\" w różnych językach i kontekstach. \\r\\n\\r\\nDodatkowo, NER musi radzić sobie z różnorodnością języków i dialektów, a także z różnymi formatami zapisu dat, liczb i innych jednostek miar. Na przykład, data \"1 stycznia 2023\" może być zapisana jako \"01/01/23\", \"2023-01-01\" lub \"January 1, 2023\". \\r\\n\\r\\nW związku z tym, problem Named Entity Recognition polega na opracowaniu modeli i algorytmów, które są w stanie rozpoznać i sklasyfikować jednostki nazwane w tekście, uwzględniając kontekst, niejednoznaczności i różnorodność językową. To zadanie wymaga zaawansowanych technik przetwarzania języka naturalnego, takich jak uczenie maszynowe, sieci neuronowe i głębokie uczenie się, aby osiągnąć wysoką dokładność i skuteczność w rozpoznawaniu jednostek nazwanych.'"
     },
     "execution_count": 1,
     "metadata": {},
     "output_type": "execute_result"
    }
   ],
   "source": [
    "import json\n",
    "\n",
    "import pandas as pd\n",
    "import requests\n",
    "\n",
    "# This code returns an empty string...\n",
    "\n",
    "\n",
    "def chat_ollama(text):\n",
    "    url = \"http://localhost:11434/api/chat\"\n",
    "\n",
    "    payload = {\n",
    "        \"model\": \"SpeakLeash/bielik-11b-v2.3-instruct:Q4_K_M\",\n",
    "        \"messages\": [{\"role\": \"user\", \"content\": text}],\n",
    "        \"stream\": False,\n",
    "    }\n",
    "\n",
    "    response = requests.post(url, json=payload)\n",
    "\n",
    "    # Parse the response\n",
    "    if response.status_code == 200:\n",
    "        return response.json()[\"message\"][\"content\"]\n",
    "\n",
    "    return None\n",
    "\n",
    "\n",
    "question = \"Możesz opowiedzieć mi o problemie Named Entity Recognition?\"\n",
    "\n",
    "chat_ollama(question)"
   ]
  },
  {
   "cell_type": "code",
   "execution_count": 2,
   "id": "53109ee9844a45c5",
   "metadata": {
    "collapsed": false,
    "ExecuteTime": {
     "end_time": "2024-12-04T15:58:40.622993800Z",
     "start_time": "2024-12-04T15:58:40.617983600Z"
    }
   },
   "outputs": [],
   "source": [
    "url = \"http://localhost:11434/api/generate\"\n",
    "\n",
    "\n",
    "def prompt_ollama(text):\n",
    "    payload = {\n",
    "        \"model\": \"SpeakLeash/bielik-11b-v2.3-instruct:Q4_K_M\",\n",
    "        \"prompt\": text,\n",
    "        \"context\": [],\n",
    "        \"options\": {\"top_k\": 10, \"temperature\": 0},\n",
    "        \"stream\": False,\n",
    "    }\n",
    "\n",
    "    response = requests.post(url, data=json.dumps(payload))\n",
    "\n",
    "    # Parse the response\n",
    "    if response.status_code == 200:\n",
    "        return response.json()[\"response\"]\n",
    "\n",
    "    return None"
   ]
  },
  {
   "cell_type": "code",
   "execution_count": 3,
   "id": "b6be02d3-0f4c-4444-85fc-85208d2bd0de",
   "metadata": {
    "ExecuteTime": {
     "end_time": "2024-12-04T15:58:43.155388Z",
     "start_time": "2024-12-04T15:58:40.621994Z"
    }
   },
   "outputs": [
    {
     "data": {
      "text/plain": "\"['Kraków', 'miastem', 'Polsce']\""
     },
     "execution_count": 3,
     "metadata": {},
     "output_type": "execute_result"
    }
   ],
   "source": [
    "prompt_ollama(\n",
    "    \"Identify so called named entities in this sentence: 'Kraków jest największym miastem w Polsce'. After that list out the entities in a form of strings in a python list. I want your response to only include the python list without any additional code or \\\"```\\\" characters. Be careful to use the polish form of the words.\"\n",
    ")"
   ]
  },
  {
   "cell_type": "code",
   "execution_count": 4,
   "outputs": [
    {
     "data": {
      "text/plain": "'Tak, potrafię mówić po polsku. W czym mogę Ci pomóc?'"
     },
     "execution_count": 4,
     "metadata": {},
     "output_type": "execute_result"
    }
   ],
   "source": [
    "prompt_ollama(\"Czy potrafisz mówić po polsku?\")"
   ],
   "metadata": {
    "collapsed": false,
    "ExecuteTime": {
     "end_time": "2024-12-04T15:58:45.714828500Z",
     "start_time": "2024-12-04T15:58:43.155388Z"
    }
   },
   "id": "9eb6ff8633ef6c8e"
  },
  {
   "cell_type": "markdown",
   "id": "d4d3a6061ed99ee4",
   "metadata": {
    "collapsed": false
   },
   "source": [
    "### Take 1000 passages from fiqa corpus"
   ]
  },
  {
   "cell_type": "code",
   "execution_count": 5,
   "id": "8659417aeb1d6159",
   "metadata": {
    "collapsed": false,
    "ExecuteTime": {
     "end_time": "2024-12-04T15:58:48.364261900Z",
     "start_time": "2024-12-04T15:58:45.705815800Z"
    }
   },
   "outputs": [],
   "source": [
    "from datasets import load_dataset\n",
    "from numpy.random import choice\n",
    "\n",
    "fiqa_corpus = load_dataset(\"clarin-knext/fiqa-pl\", \"corpus\")[\"corpus\"]\n",
    "\n",
    "fiqa_corpus = fiqa_corpus[\"text\"]\n",
    "fiqa_idx = choice(len(fiqa_corpus), 100, replace=False)\n",
    "fiqa_corpus = [fiqa_corpus[i] for i in fiqa_idx]"
   ]
  },
  {
   "cell_type": "markdown",
   "id": "11459d8c3dacc20f",
   "metadata": {
    "collapsed": false
   },
   "source": [
    "---\n",
    "\n",
    "### NER baseline"
   ]
  },
  {
   "cell_type": "code",
   "execution_count": 6,
   "id": "bb79bacc2f8db69c",
   "metadata": {
    "collapsed": false,
    "ExecuteTime": {
     "end_time": "2024-12-04T15:58:50.476637300Z",
     "start_time": "2024-12-04T15:58:48.366261900Z"
    }
   },
   "outputs": [],
   "source": [
    "import spacy\n",
    "\n",
    "nlp = spacy.load(\"pl_core_news_sm\")\n",
    "\n",
    "\n",
    "def get_ents(text):\n",
    "    doc = nlp(text)\n",
    "    entity_dict = {}\n",
    "    for ent in doc.ents:\n",
    "        text, label = ent.text, ent.label_\n",
    "        if (text, label) not in entity_dict.keys():\n",
    "            entity_dict[(text, label)] = 0\n",
    "        entity_dict[(text, label)] += 1\n",
    "    return entity_dict"
   ]
  },
  {
   "cell_type": "code",
   "execution_count": 7,
   "id": "abb224b7fb0f5fe4",
   "metadata": {
    "collapsed": false,
    "ExecuteTime": {
     "end_time": "2024-12-04T15:58:50.489261800Z",
     "start_time": "2024-12-04T15:58:50.476637300Z"
    }
   },
   "outputs": [],
   "source": [
    "prompt = (\n",
    "    \"Chcę, abyś wymienił encje nazwane w polskim tekście, który Ci podam, i przypisał je do jednej z 6 kategorii.\"\n",
    "    \"Encje nazwane (eng. named entities) określają wybraną charakterystyczną jednostkę za pomocą zdefiniowanej nazwy.\"\n",
    "    \"6 kategorii, do których powinieneś przypisać encje nazwane: \\n\"\n",
    "    \"date - format daty/czasu: precyzyjna data, rok, itp. np. 11 Września. \\n\"\n",
    "    \"geogName - charakterystyczne obiekty geograficzne: rzeki, góry, itp. np. Wisła, Giewont. \\n\"\n",
    "    \"orgName - pełne nazwy organizacji: nazwy firm, itp. np. Microsoft, Bank PKO. \"\n",
    "    \"persName - znane osoby: politycy, celebryci, postacie historyczne itp. np. Artur Rojek, Papież Franciszek. \\n\"\n",
    "    \"placeName - jednostki polityczne: miasta, państwa, itd. np. Kraków, Czechy, Australia, Bojszowy Nowe. \\n\"\n",
    "    \"time - Godzina. np. 18:30. \\n\"\n",
    "    \"Zignoruj fragmenty tekstu nie będące charakterystycznymi encjami nazwanymi. \"\n",
    "    \"Wynik powinien być listą krotek. Każda krotka powinna składać się z encji nazwanej i odpowiadającej jej kategorii (jednej z wymienionych). \"\n",
    "    \"Przykładowy format poprawnego wyniku dla tekstu: \\n\"\n",
    "    '\"Ostatnim razem w górach izerskich byłem 11 września\": [(\"góry izerskie\", \"geogName\"), (\"11 września\", \"date\")] \\n'\n",
    "    '\"Nigdy nie byłem w stanach zjednoczonych, ale wiem kto to Barack Obama\": [(\"Stany Zjednoczone\", \"placeName\"), (\"Barack Obama\", \"persName\")] \\n'\n",
    "    \"Nie dodawaj żadnych dodatkowych informacji, wyjaśnień, ani kodu w swojej odpowiedzi. Zwróć jedynie poprawną listą języka Python. \"\n",
    "    \"Tekst: \"\n",
    ")"
   ]
  },
  {
   "cell_type": "code",
   "execution_count": 8,
   "outputs": [],
   "source": [
    "import re\n",
    "\n",
    "\n",
    "def extract_list(text):\n",
    "    regex = r\"\\[[^\\[\\]]*\\]\"\n",
    "    return re.findall(regex, text)"
   ],
   "metadata": {
    "collapsed": false,
    "ExecuteTime": {
     "end_time": "2024-12-04T15:58:50.490262200Z",
     "start_time": "2024-12-04T15:58:50.480652600Z"
    }
   },
   "id": "48494c59a77123ba"
  },
  {
   "cell_type": "code",
   "execution_count": 37,
   "id": "fb30282b-1ff5-441d-b6b5-ec7cb5041d9e",
   "metadata": {
    "ExecuteTime": {
     "end_time": "2024-12-04T16:18:49.466889900Z",
     "start_time": "2024-12-04T16:18:49.463367400Z"
    }
   },
   "outputs": [],
   "source": [
    "from ast import literal_eval\n",
    "\n",
    "\n",
    "# We use spacy to lemmatize if possible as the llm seems to be oblivious to the intricacy of case declension\n",
    "def get_llm_ents(text):\n",
    "    response = chat_ollama(prompt + text)\n",
    "\n",
    "    print(response)\n",
    "\n",
    "    lists = extract_list(response)\n",
    "    if not lists or len(lists[0]) == 0:\n",
    "        return {}\n",
    "    response = lists[0]\n",
    "\n",
    "    entity_dict = {}\n",
    "    response = literal_eval(response)\n",
    "    if len(response) == 0 or len(response[0]) != 2:\n",
    "        return {}\n",
    "    for entity, label in response:\n",
    "        ents_tmp = list(nlp(entity).sents)\n",
    "        if len(ents_tmp):\n",
    "            lemma = \" \".join([l.lemma_ for l in ents_tmp[0]])\n",
    "        else:\n",
    "            lemma = entity\n",
    "        if (lemma, label) not in entity_dict.keys():\n",
    "            entity_dict[(lemma, label)] = 0\n",
    "        entity_dict[(lemma, label)] += 1\n",
    "    return entity_dict"
   ]
  },
  {
   "cell_type": "code",
   "execution_count": 10,
   "id": "8d7801ef-7f2d-439b-b00b-c9f54cfaf1f1",
   "metadata": {
    "ExecuteTime": {
     "end_time": "2024-12-04T15:58:53.672731200Z",
     "start_time": "2024-12-04T15:58:50.488262Z"
    }
   },
   "outputs": [
    {
     "name": "stdout",
     "output_type": "stream",
     "text": [
      "[(\"Kraków\", \"placeName\"), (\"Polska\", \"placeName\"), (\"Stany Zjednoczone\", \"placeName\"), (\"Michael Jackson\", \"persName\")]\n"
     ]
    },
    {
     "data": {
      "text/plain": "{('Kraków', 'placeName'): 1,\n ('Polska', 'placeName'): 1,\n ('Stany Zjednoczone', 'placeName'): 1,\n ('Michael Jackson', 'persName'): 1}"
     },
     "execution_count": 10,
     "metadata": {},
     "output_type": "execute_result"
    }
   ],
   "source": [
    "example_text = \"Wczoraj w Krakowie miało miejsce spotkanie prezydentów Polski i Stanów Zjednoczonych. Polacy cieszyli się z wizyty Michaela Jacksona\"\n",
    "\n",
    "get_llm_ents(example_text)"
   ]
  },
  {
   "cell_type": "markdown",
   "id": "607e7325-b82d-4a08-a2ec-1d98496830db",
   "metadata": {},
   "source": [
    "---"
   ]
  },
  {
   "cell_type": "markdown",
   "id": "d0943b14-2001-4aca-b3b4-467504704cd2",
   "metadata": {},
   "source": [
    "### Compare spaCy to PHI-3\n",
    "\n",
    "I gave up on trying to run it without providing the examples.\n",
    "\n",
    "The returned results were so bad that parsing the outputs was practically impossible.\n",
    "\n",
    "It's safe to conclude that few shot learning can drastically improve the quality of the response."
   ]
  },
  {
   "cell_type": "code",
   "execution_count": 11,
   "outputs": [],
   "source": [
    "from pathlib import Path\n",
    "import pickle\n",
    "\n",
    "save_path = Path(\"data\")\n",
    "save_path.mkdir(exist_ok=True, parents=True)"
   ],
   "metadata": {
    "collapsed": false,
    "ExecuteTime": {
     "end_time": "2024-12-04T15:58:53.672731200Z",
     "start_time": "2024-12-04T15:58:53.661972800Z"
    }
   },
   "id": "71371e038e294c8c"
  },
  {
   "cell_type": "code",
   "execution_count": 12,
   "id": "1dabaf2a-a8f5-4bb5-961b-16ba06500e2a",
   "metadata": {
    "ExecuteTime": {
     "end_time": "2024-12-04T15:58:53.672731200Z",
     "start_time": "2024-12-04T15:58:53.665107100Z"
    }
   },
   "outputs": [],
   "source": [
    "from tqdm import tqdm\n",
    "\n",
    "if not (save_path / \"fiqa_spacy.pkl\").exists():\n",
    "    fiqa_spacy = [get_ents(text) for text in tqdm(fiqa_corpus)]\n",
    "\n",
    "    with open(save_path / \"fiqa_spacy.pkl\", \"wb\") as fp:\n",
    "        pickle.dump(fiqa_spacy, fp)\n",
    "\n",
    "with open(save_path / \"fiqa_spacy.pkl\", \"rb\") as fp:\n",
    "    fiqa_spacy = pickle.load(fp)"
   ]
  },
  {
   "cell_type": "code",
   "execution_count": 13,
   "id": "6f432afc-2caa-441b-841c-b7790c8585cd",
   "metadata": {
    "ExecuteTime": {
     "end_time": "2024-12-04T15:58:53.672731200Z",
     "start_time": "2024-12-04T15:58:53.670115Z"
    }
   },
   "outputs": [],
   "source": [
    "if not (save_path / \"fiqa_llm.pkl\").exists():\n",
    "    fiqa_llm = []\n",
    "    for text in tqdm(fiqa_corpus):\n",
    "        fiqa_llm.append(get_llm_ents(text))\n",
    "\n",
    "    with open(save_path / \"fiqa_llm.pkl\", \"wb\") as fp:\n",
    "        pickle.dump(fiqa_llm, fp)\n",
    "\n",
    "with open(save_path / \"fiqa_llm.pkl\", \"rb\") as fp:\n",
    "    fiqa_llm = pickle.load(fp)"
   ]
  },
  {
   "cell_type": "code",
   "execution_count": 14,
   "id": "1085470f-9af9-4ea9-9cd5-d10b954bc974",
   "metadata": {
    "ExecuteTime": {
     "end_time": "2024-12-04T15:58:53.684858600Z",
     "start_time": "2024-12-04T15:58:53.673730200Z"
    }
   },
   "outputs": [],
   "source": [
    "# with open(save_path / 'fiqa_llm_few_shot.pkl', 'wb') as fp:\n",
    "#     pickle.dump(fiqa_llm_few_shot, fp)"
   ]
  },
  {
   "cell_type": "code",
   "execution_count": 15,
   "id": "a7ea8071-179c-41ba-9fe1-53529053eba4",
   "metadata": {
    "ExecuteTime": {
     "end_time": "2024-12-04T15:58:53.684858600Z",
     "start_time": "2024-12-04T15:58:53.677517900Z"
    }
   },
   "outputs": [],
   "source": [
    "def get_ent_cat_count(entity_dict_list):\n",
    "    entities, categories = {}, {}\n",
    "    for d in entity_dict_list:\n",
    "        for (entity, category), count in d.items():\n",
    "            if entity not in entities.keys():\n",
    "                entities[entity] = 0\n",
    "            if category not in categories.keys():\n",
    "                categories[category] = 0\n",
    "            entities[entity] += count\n",
    "            categories[category] += count\n",
    "    entities = sorted(list(entities.items()), key=lambda x: x[1], reverse=True)\n",
    "    categories = sorted(list(categories.items()), key=lambda x: x[1], reverse=True)\n",
    "    return entities, categories"
   ]
  },
  {
   "cell_type": "code",
   "execution_count": 16,
   "id": "0c4dcbaa-76d3-449a-ba0a-62b11c23c820",
   "metadata": {
    "ExecuteTime": {
     "end_time": "2024-12-04T15:58:53.684858600Z",
     "start_time": "2024-12-04T15:58:53.681519Z"
    }
   },
   "outputs": [],
   "source": [
    "spacy_entities, spacy_categories = get_ent_cat_count(fiqa_spacy)\n",
    "llm_entities, llm_categories = get_ent_cat_count(fiqa_llm)\n",
    "# few_shot_entities, few_shot_categories = get_ent_cat_count(fiqa_llm_few_shot)"
   ]
  },
  {
   "cell_type": "code",
   "execution_count": 17,
   "outputs": [
    {
     "data": {
      "text/plain": "[('orgName', 141),\n ('placeName', 70),\n ('persName', 66),\n ('date', 18),\n ('geogName', 16)]"
     },
     "execution_count": 17,
     "metadata": {},
     "output_type": "execute_result"
    }
   ],
   "source": [
    "spacy_categories"
   ],
   "metadata": {
    "collapsed": false,
    "ExecuteTime": {
     "end_time": "2024-12-04T15:58:53.698219Z",
     "start_time": "2024-12-04T15:58:53.684858600Z"
    }
   },
   "id": "4a5904d6052a5d32"
  },
  {
   "cell_type": "code",
   "execution_count": 18,
   "outputs": [
    {
     "data": {
      "text/plain": "[('CFA', 23),\n ('MBA', 16),\n ('USA', 12),\n ('Google', 5),\n ('HSA', 5),\n ('Indiach', 4),\n ('SS', 4),\n ('LLC', 4),\n ('eBay', 3),\n ('Forex', 3),\n ('IRS', 3),\n ('SIP', 3),\n ('Amazon', 3),\n ('CFD', 3),\n ('Apple', 3),\n ('Sydney', 3),\n ('CBV', 3),\n ('Stanach Zjednoczonych', 2),\n ('TPS', 2),\n ('amerykańskimi', 2),\n ('Wielkiej Brytanii', 2),\n ('BB', 2),\n ('Columbia', 2),\n ('Whartona', 2),\n ('Aptery', 2)]"
     },
     "execution_count": 18,
     "metadata": {},
     "output_type": "execute_result"
    }
   ],
   "source": [
    "spacy_entities[:25]"
   ],
   "metadata": {
    "collapsed": false,
    "ExecuteTime": {
     "end_time": "2024-12-04T15:58:53.698219Z",
     "start_time": "2024-12-04T15:58:53.687436Z"
    }
   },
   "id": "fba58294e86ed16"
  },
  {
   "cell_type": "code",
   "execution_count": 19,
   "id": "3a82c125-5a74-4161-882a-45403312aa74",
   "metadata": {
    "ExecuteTime": {
     "end_time": "2024-12-04T15:58:53.725750200Z",
     "start_time": "2024-12-04T15:58:53.690976500Z"
    }
   },
   "outputs": [
    {
     "data": {
      "text/plain": "[('orgName', 123),\n ('date', 55),\n ('placeName', 32),\n ('time', 17),\n ('persName', 15),\n ('geogName', 6),\n ('service', 4),\n ('currency', 2),\n ('', 2),\n ('object', 2),\n ('number', 1)]"
     },
     "execution_count": 19,
     "metadata": {},
     "output_type": "execute_result"
    }
   ],
   "source": [
    "llm_categories"
   ]
  },
  {
   "cell_type": "code",
   "execution_count": 20,
   "id": "6af82cb6-61e7-4d29-97e8-93a121e9142c",
   "metadata": {
    "ExecuteTime": {
     "end_time": "2024-12-04T15:58:53.725750200Z",
     "start_time": "2024-12-04T15:58:53.694775Z"
    }
   },
   "outputs": [
    {
     "data": {
      "text/plain": "[('1987', 33),\n ('Stany Zjednoczone', 7),\n ('wielki Brytania', 3),\n ('Barack Obama', 2),\n ('Amazon', 2),\n ('USA', 2),\n ('rezerwa Federalny', 2),\n ('UPS', 2),\n ('USPS', 2),\n ('fałszywy równoważność', 1),\n ('być prawie pewny', 1),\n ('dane', 1),\n ('lewicow źródło', 1),\n ('przeciwnik', 1),\n ('naukowy', 1),\n ('Mindwin', 1),\n ('rynek rolny', 1),\n ('rynek towarowy', 1),\n ('uniwersytet', 1),\n ('kawiarnia', 1),\n ('bank godzina', 1),\n ('Fort Lauderdale', 1),\n ('elektrownia na paliwo kopalny', 1),\n ('Wall Street', 1),\n ('Brexit', 1)]"
     },
     "execution_count": 20,
     "metadata": {},
     "output_type": "execute_result"
    }
   ],
   "source": [
    "llm_entities[:25]"
   ]
  },
  {
   "cell_type": "markdown",
   "source": [],
   "metadata": {
    "collapsed": false
   },
   "id": "343ee9b0254f5aeb"
  },
  {
   "cell_type": "markdown",
   "source": [
    "We can see that the results of llm retrieval is horrible in comparison to spaCy's ner. The model hallucinated several new classes and has numerous false positives."
   ],
   "metadata": {
    "collapsed": false
   },
   "id": "245acdcc3fb56706"
  },
  {
   "cell_type": "code",
   "execution_count": 66,
   "id": "f58cc1c7-93ec-4d3e-8fa1-93488f4d9b6d",
   "metadata": {
    "ExecuteTime": {
     "end_time": "2024-12-04T16:34:33.186438800Z",
     "start_time": "2024-12-04T16:34:33.181148600Z"
    }
   },
   "outputs": [],
   "source": [
    "import pandas as pd\n",
    "\n",
    "df = pd.read_csv(\"annotations.csv\")"
   ]
  },
  {
   "cell_type": "code",
   "execution_count": 63,
   "outputs": [],
   "source": [
    "class_map = {\n",
    "    \"PER\": \"persName\",\n",
    "    \"LOC\": \"placeName\",\n",
    "    \"ORG\": \"orgName\",\n",
    "    \"GPE\": \"geogName\",\n",
    "    \"DATE\": \"date\",\n",
    "    \"TIME\": \"time\",\n",
    "}\n",
    "\n",
    "\n",
    "def extract_from_annotation(annotation):\n",
    "    entity_dict = {}\n",
    "    for entity, category, _ in annotation:\n",
    "        ents_tmp = list(nlp(entity).sents)\n",
    "        if len(ents_tmp):\n",
    "            entity = \" \".join([l.lemma_ for l in ents_tmp[0]])\n",
    "\n",
    "        category = class_map[category]\n",
    "        if (entity, category) not in entity_dict.keys():\n",
    "            entity_dict[(entity, category)] = 0\n",
    "        entity_dict[(entity, category)] += 1\n",
    "    return entity_dict"
   ],
   "metadata": {
    "collapsed": false,
    "ExecuteTime": {
     "end_time": "2024-12-04T16:34:10.069684500Z",
     "start_time": "2024-12-04T16:34:10.066136100Z"
    }
   },
   "id": "843bd5c58895f247"
  },
  {
   "cell_type": "code",
   "execution_count": 68,
   "outputs": [],
   "source": [
    "texts = df[\"Tekst\"]\n",
    "entities = [extract_from_annotation(literal_eval(e)) for e in df[\"Encje\"]]"
   ],
   "metadata": {
    "collapsed": false,
    "ExecuteTime": {
     "end_time": "2024-12-04T16:34:44.164562400Z",
     "start_time": "2024-12-04T16:34:43.955235100Z"
    }
   },
   "id": "134b9f579190aa1f"
  },
  {
   "cell_type": "code",
   "execution_count": 38,
   "outputs": [
    {
     "name": "stderr",
     "output_type": "stream",
     "text": [
      "  5%|▌         | 1/19 [00:03<00:56,  3.16s/it]"
     ]
    },
    {
     "name": "stdout",
     "output_type": "stream",
     "text": [
      "[(\"Jake Paul\", \"persName\"), (\"Mike Tyson\", \"persName\"), (\"AT&T Stadium\", \"orgName\"), (\"Arlington\", \"placeName\"), (\"Teksas\", \"placeName\")]\n"
     ]
    },
    {
     "name": "stderr",
     "output_type": "stream",
     "text": [
      " 11%|█         | 2/19 [00:06<00:50,  2.99s/it]"
     ]
    },
    {
     "name": "stdout",
     "output_type": "stream",
     "text": [
      "[(\"Ridley Scott\", \"persName\"), (\"pierwsza część\", \"date\"), (\"Acacius\", \"persName\"), (\"Pedro Pascal\", \"persName\")]\n"
     ]
    },
    {
     "name": "stderr",
     "output_type": "stream",
     "text": [
      " 16%|█▌        | 3/19 [00:08<00:46,  2.88s/it]"
     ]
    },
    {
     "name": "stdout",
     "output_type": "stream",
     "text": [
      "[(\"Phoenix Suns\", \"orgName\"), (\"Beala\", \"persName\"), (\"Kevin Durant\", \"persName\")]\n"
     ]
    },
    {
     "name": "stderr",
     "output_type": "stream",
     "text": [
      " 21%|██        | 4/19 [00:11<00:43,  2.87s/it]"
     ]
    },
    {
     "name": "stdout",
     "output_type": "stream",
     "text": [
      "[(\"Karol Nawrocki\", \"persName\"), (\"Instytut Pamięci Narodowej\", \"orgName\"), (\"wyborach prezydenckich\", \"time\")]\n"
     ]
    },
    {
     "name": "stderr",
     "output_type": "stream",
     "text": [
      " 26%|██▋       | 5/19 [00:14<00:39,  2.84s/it]"
     ]
    },
    {
     "name": "stdout",
     "output_type": "stream",
     "text": [
      "[(\"Brandin Podziemski\", \"persName\"), (\"Golden State Warriors\", \"orgName\"), (\"2023\", \"date\")]\n"
     ]
    },
    {
     "name": "stderr",
     "output_type": "stream",
     "text": [
      " 32%|███▏      | 6/19 [00:16<00:35,  2.70s/it]"
     ]
    },
    {
     "name": "stdout",
     "output_type": "stream",
     "text": [
      "[(\"Langchain\", \"orgName\")]\n"
     ]
    },
    {
     "name": "stderr",
     "output_type": "stream",
     "text": [
      " 37%|███▋      | 7/19 [00:19<00:32,  2.74s/it]"
     ]
    },
    {
     "name": "stdout",
     "output_type": "stream",
     "text": [
      "[(\"Collegium Humanum\", \"orgName\"), (\"Krzysztof Bosak\", \"persName\"), (\"2021\", \"date\")]\n"
     ]
    },
    {
     "name": "stderr",
     "output_type": "stream",
     "text": [
      " 42%|████▏     | 8/19 [00:22<00:31,  2.82s/it]"
     ]
    },
    {
     "name": "stdout",
     "output_type": "stream",
     "text": [
      "[(\"Świąteczna Strefa Zabawy LEGO\", \"eventName\"), (\"Pałac Kultury i Nauki\", \"placeName\"), (\"Warszawa\", \"placeName\")]\n"
     ]
    },
    {
     "name": "stderr",
     "output_type": "stream",
     "text": [
      " 47%|████▋     | 9/19 [00:25<00:27,  2.73s/it]"
     ]
    },
    {
     "name": "stdout",
     "output_type": "stream",
     "text": [
      "[(\"NX\", \"orgName\"), (\"Lexus\", \"orgName\")]\n"
     ]
    },
    {
     "name": "stderr",
     "output_type": "stream",
     "text": [
      " 53%|█████▎    | 10/19 [00:29<00:27,  3.09s/it]"
     ]
    },
    {
     "name": "stdout",
     "output_type": "stream",
     "text": [
      "[(\"Algieria\", \"placeName\"), (\"Boliwia\", \"placeName\"), (\"Macedonia Północna\", \"placeName\"), (\"Indie\", \"placeName\"), (\"Chiny\", \"placeName\"), (\"Wietnam\", \"placeName\"), (\"Kolumbia\", \"placeName\"), (\"Irak\", \"placeName\"), (\"Egipt\", \"placeName\"), (\"Indonezja\", \"placeName\"), (\"Turcja\", \"placeName\")]\n"
     ]
    },
    {
     "name": "stderr",
     "output_type": "stream",
     "text": [
      " 58%|█████▊    | 11/19 [00:32<00:24,  3.07s/it]"
     ]
    },
    {
     "name": "stdout",
     "output_type": "stream",
     "text": [
      "[(\"Wojciech Szczęsny\", \"persName\"), (\"FC Barcelona\", \"orgName\"), (\"Marc-Andre ter Stegen\", \"persName\"), (\"Inaki Pena\", \"persName\")]\n"
     ]
    },
    {
     "name": "stderr",
     "output_type": "stream",
     "text": [
      " 63%|██████▎   | 12/19 [00:35<00:21,  3.08s/it]"
     ]
    },
    {
     "name": "stdout",
     "output_type": "stream",
     "text": [
      "[(\"Legia\", \"orgName\"), (\"Liga Konferencji\", \"time\"), (\"Chelsea\", \"orgName\"), (\"Jagiellonia Białystok\", \"placeName\"), (\"słoweńskie Celje\", \"geogName\")]\n"
     ]
    },
    {
     "name": "stderr",
     "output_type": "stream",
     "text": [
      " 68%|██████▊   | 13/19 [00:38<00:18,  3.03s/it]"
     ]
    },
    {
     "name": "stdout",
     "output_type": "stream",
     "text": [
      "[(\"Interlagos\", \"geogName\"), (\"Sao Paulo\", \"placeName\"), (\"Max Verstappen\", \"persName\"), (\"Lando Norris\", \"persName\")]\n"
     ]
    },
    {
     "name": "stderr",
     "output_type": "stream",
     "text": [
      " 74%|███████▎  | 14/19 [00:40<00:14,  2.89s/it]"
     ]
    },
    {
     "name": "stdout",
     "output_type": "stream",
     "text": [
      "[(\"Robert Lewandowski\", \"persName\"), (\"Barcelona\", \"orgName\")]\n"
     ]
    },
    {
     "name": "stderr",
     "output_type": "stream",
     "text": [
      " 79%|███████▉  | 15/19 [00:43<00:11,  2.90s/it]"
     ]
    },
    {
     "name": "stdout",
     "output_type": "stream",
     "text": [
      "[(\"Iga Świątek\", \"persName\"), (\"Międzynarodowa Agencja ds. Integralności Tenisa\", \"orgName\"), (\"12 sierpnia\", \"date\")]\n"
     ]
    },
    {
     "name": "stderr",
     "output_type": "stream",
     "text": [
      " 84%|████████▍ | 16/19 [00:46<00:08,  2.81s/it]"
     ]
    },
    {
     "name": "stdout",
     "output_type": "stream",
     "text": [
      "[(\"Jeremy Sochan\", \"persName\"), (\"San Antonio Spurs\", \"orgName\")]\n"
     ]
    },
    {
     "name": "stderr",
     "output_type": "stream",
     "text": [
      " 89%|████████▉ | 17/19 [00:48<00:05,  2.79s/it]"
     ]
    },
    {
     "name": "stdout",
     "output_type": "stream",
     "text": [
      "[(\"Chiny\", \"orgName\"), (\"Rosja\", \"orgName\"), (\"Korea Południowa\", \"placeName\")]\n"
     ]
    },
    {
     "name": "stderr",
     "output_type": "stream",
     "text": [
      " 95%|█████████▍| 18/19 [00:51<00:02,  2.84s/it]"
     ]
    },
    {
     "name": "stdout",
     "output_type": "stream",
     "text": [
      "[(\"Gladiator 2\", \"orgName\"), (\"Paul Mescal\", \"persName\"), (\"Królestwo niebieskie\", \"placeName\"), (\"Orlando Bloom\", \"persName\")]\n"
     ]
    },
    {
     "name": "stderr",
     "output_type": "stream",
     "text": [
      "100%|██████████| 19/19 [00:54<00:00,  2.89s/it]"
     ]
    },
    {
     "name": "stdout",
     "output_type": "stream",
     "text": [
      "[(\"Yi Peng\", \"orgName\"), (\"duńskie służby\", \"orgName\"), (\"cieśnina Kattegat\", \"geogName\"), (\"Chiny\", \"placeName\")]\n"
     ]
    },
    {
     "name": "stderr",
     "output_type": "stream",
     "text": [
      "\n"
     ]
    }
   ],
   "source": [
    "from tqdm import tqdm\n",
    "\n",
    "if not (save_path / \"predictions.pkl\").exists():\n",
    "    predictions = []\n",
    "\n",
    "    for text in tqdm(texts):\n",
    "        predictions.append(get_llm_ents(text))\n",
    "\n",
    "    with open(save_path / \"predictions.pkl\", \"wb\") as fp:\n",
    "        pickle.dump(predictions, fp)\n",
    "\n",
    "with open(save_path / \"predictions.pkl\", \"rb\") as fp:\n",
    "    predictions = pickle.load(fp)"
   ],
   "metadata": {
    "collapsed": false,
    "ExecuteTime": {
     "end_time": "2024-12-04T16:19:47.849605600Z",
     "start_time": "2024-12-04T16:18:52.987122400Z"
    }
   },
   "id": "60354d9207c42124"
  },
  {
   "cell_type": "code",
   "execution_count": 74,
   "outputs": [],
   "source": [
    "def get_TP_FP_FN(y_test, y_pred, use_class=False):\n",
    "    if not use_class:\n",
    "        y_test = {k[0]: v for k, v in y_test.items()}\n",
    "        y_pred = {k[0]: v for k, v in y_pred.items()}\n",
    "\n",
    "    TP = FP = FN = 0\n",
    "\n",
    "    for e in y_pred:\n",
    "        if e in y_test:\n",
    "            pred = y_pred[e]\n",
    "            test = y_test[e]\n",
    "            if pred == test:\n",
    "                TP += pred\n",
    "            elif pred > test:\n",
    "                TP += test\n",
    "                FP += pred - test\n",
    "            else:\n",
    "                TP += pred\n",
    "                FN += test - pred\n",
    "        else:\n",
    "            FP += y_pred[e]\n",
    "\n",
    "    for e in y_test:\n",
    "        if e not in y_pred:\n",
    "            FN += y_test[e]\n",
    "\n",
    "    return TP, FP, FN"
   ],
   "metadata": {
    "collapsed": false,
    "ExecuteTime": {
     "end_time": "2024-12-04T16:46:20.298714100Z",
     "start_time": "2024-12-04T16:46:20.265724600Z"
    }
   },
   "id": "937d1dd0c12f1e7d"
  },
  {
   "cell_type": "code",
   "execution_count": 75,
   "outputs": [],
   "source": [
    "scores = [get_TP_FP_FN(t, p) for t, p in zip(entities, predictions)]"
   ],
   "metadata": {
    "collapsed": false,
    "ExecuteTime": {
     "end_time": "2024-12-04T16:46:20.987050900Z",
     "start_time": "2024-12-04T16:46:20.984737100Z"
    }
   },
   "id": "7bcbbc79c18a407c"
  },
  {
   "cell_type": "code",
   "execution_count": 77,
   "outputs": [],
   "source": [
    "TP = sum([scr[0] for scr in scores])\n",
    "FP = sum([scr[1] for scr in scores])\n",
    "FN = sum([scr[2] for scr in scores])"
   ],
   "metadata": {
    "collapsed": false,
    "ExecuteTime": {
     "end_time": "2024-12-04T16:47:19.876386Z",
     "start_time": "2024-12-04T16:47:19.872878Z"
    }
   },
   "id": "7105c1c583a44b32"
  },
  {
   "cell_type": "code",
   "execution_count": 80,
   "outputs": [
    {
     "data": {
      "text/plain": "(58, 11, 36)"
     },
     "execution_count": 80,
     "metadata": {},
     "output_type": "execute_result"
    }
   ],
   "source": [
    "TP, FP, FN"
   ],
   "metadata": {
    "collapsed": false,
    "ExecuteTime": {
     "end_time": "2024-12-04T16:47:28.007891100Z",
     "start_time": "2024-12-04T16:47:27.976060Z"
    }
   },
   "id": "a0f41c717b218e9e"
  },
  {
   "cell_type": "code",
   "execution_count": 82,
   "outputs": [],
   "source": [
    "prec = TP / (TP + FP)\n",
    "rec = TP / (TP + FN)\n",
    "f1 = 2 * (prec * rec) / (prec + rec)"
   ],
   "metadata": {
    "collapsed": false,
    "ExecuteTime": {
     "end_time": "2024-12-04T16:49:50.137123600Z",
     "start_time": "2024-12-04T16:49:50.133435500Z"
    }
   },
   "id": "163edae8b1661970"
  },
  {
   "cell_type": "code",
   "execution_count": 83,
   "outputs": [
    {
     "name": "stdout",
     "output_type": "stream",
     "text": [
      "Precission : 0.8405797101449275\n",
      "Recall     : 0.6170212765957447\n",
      "f1 score   : 0.7116564417177915\n"
     ]
    }
   ],
   "source": [
    "print(f\"Precission : {prec}\")\n",
    "print(f\"Recall     : {rec}\")\n",
    "print(f\"f1 score   : {f1}\")"
   ],
   "metadata": {
    "collapsed": false,
    "ExecuteTime": {
     "end_time": "2024-12-04T16:49:50.442739500Z",
     "start_time": "2024-12-04T16:49:50.438737500Z"
    }
   },
   "id": "c919bc57e2b9d83d"
  },
  {
   "cell_type": "markdown",
   "source": [
    "The model skips around 40% of entities it should be detecting but it only 15% of it's predictions are false. \n",
    "\n",
    "I'm surprised by how well it worked"
   ],
   "metadata": {
    "collapsed": false
   },
   "id": "d01ca1fface3a68d"
  },
  {
   "cell_type": "code",
   "execution_count": null,
   "outputs": [],
   "source": [],
   "metadata": {
    "collapsed": false
   },
   "id": "969e67cbb217a9cb"
  }
 ],
 "metadata": {
  "kernelspec": {
   "display_name": "Python 3 (ipykernel)",
   "language": "python",
   "name": "python3"
  },
  "language_info": {
   "codemirror_mode": {
    "name": "ipython",
    "version": 3
   },
   "file_extension": ".py",
   "mimetype": "text/x-python",
   "name": "python",
   "nbconvert_exporter": "python",
   "pygments_lexer": "ipython3",
   "version": "3.11.9"
  }
 },
 "nbformat": 4,
 "nbformat_minor": 5
}
