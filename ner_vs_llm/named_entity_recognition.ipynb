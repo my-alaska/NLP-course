{
 "cells": [
  {
   "cell_type": "markdown",
   "source": [
    "# NER vs LLM\n",
    "\n",
    "---\n",
    "\n",
    "### Configure OLLama\n",
    "\n",
    "Install OLLama\n",
    "\n",
    "Open terminal and type:\n",
    "\n",
    "`ollama run phi3:3.8b`\n",
    "\n"
   ],
   "metadata": {
    "collapsed": false
   },
   "id": "3657b63896964595"
  },
  {
   "cell_type": "code",
   "execution_count": 60,
   "outputs": [
    {
     "name": "stdout",
     "output_type": "stream",
     "text": [
      "Response:\n",
      " \n"
     ]
    }
   ],
   "source": [
    "import json\n",
    "import requests\n",
    "\n",
    "# This code returns an empty string...\n",
    "\n",
    "url = \"http://localhost:11434/api/chat\" \n",
    "\n",
    "question = \"Hi. Can you help me?\"\n",
    "\n",
    "payload = {\n",
    "    \"model\": \"phi3:3.8b\",\n",
    "    \"message\":[{\"role\":\"user\",\"content\": question}],\n",
    "    \"stream\": False,\n",
    "}\n",
    "\n",
    "response = requests.post(url, json=payload)\n",
    "\n",
    "# Parse the response\n",
    "if response.status_code == 200:\n",
    "    print(\"Response:\\n\", response.json()[\"message\"][\"content\"])\n",
    "else:\n",
    "    print(\"Error:\\n\", response.status_code)"
   ],
   "metadata": {
    "collapsed": false,
    "ExecuteTime": {
     "end_time": "2024-11-29T20:08:11.884036600Z",
     "start_time": "2024-11-29T20:08:09.832499100Z"
    }
   },
   "id": "fe4d3081191a8c23"
  },
  {
   "cell_type": "code",
   "execution_count": 99,
   "outputs": [
    {
     "name": "stdout",
     "output_type": "stream",
     "text": [
      "Response:\n",
      " ['Kraków', 'POLAND']\n"
     ]
    }
   ],
   "source": [
    "url = \"http://localhost:11434/api/generate\" \n",
    "\n",
    "payload = {\n",
    "    \"model\": \"phi3:3.8b\",\n",
    "    \"prompt\": \"Identify so called named entities in this sentence: \\'Kraków jest największym miastem w Polsce\\'. After that list out the entities in a form of strings in a python list. I want your response to only include the python list without any additional code or \\\"```\\\" characters. Be careful to use the polish form of the words.\",\n",
    "    \"context\":[1],\n",
    "    \"options\":{\n",
    "        \"top_k\":10\n",
    "    },\n",
    "    \"stream\": False,\n",
    "}\n",
    "\n",
    "response = requests.post(url, data=json.dumps(payload))\n",
    "\n",
    "# Parse the response\n",
    "if response.status_code == 200:\n",
    "    print(\"Response:\\n\", response.json()[\"response\"])\n",
    "else:\n",
    "    print(\"Error:\\n\", response.status_code)"
   ],
   "metadata": {
    "collapsed": false,
    "ExecuteTime": {
     "end_time": "2024-11-29T20:29:57.341570300Z",
     "start_time": "2024-11-29T20:29:54.980158500Z"
    }
   },
   "id": "53109ee9844a45c5"
  },
  {
   "cell_type": "markdown",
   "source": [
    "### Take 1000 passages from fiqa corpus"
   ],
   "metadata": {
    "collapsed": false
   },
   "id": "d4d3a6061ed99ee4"
  },
  {
   "cell_type": "code",
   "execution_count": 1,
   "outputs": [],
   "source": [
    "from datasets import load_dataset\n",
    "from numpy.random import choice\n",
    "\n",
    "fiqa_corpus = load_dataset(\"clarin-knext/fiqa-pl\", \"corpus\")[\"corpus\"]\n",
    "\n",
    "fiqa_corpus = fiqa_corpus[\"text\"]\n",
    "fiqa_idx = choice(len(fiqa_corpus), 1000, replace=False)\n",
    "fiqa_corpus = [fiqa_corpus[i] for i in fiqa_idx]"
   ],
   "metadata": {
    "collapsed": false,
    "ExecuteTime": {
     "end_time": "2024-11-23T20:48:09.073973700Z",
     "start_time": "2024-11-23T20:48:03.724604800Z"
    }
   },
   "id": "8659417aeb1d6159"
  },
  {
   "cell_type": "markdown",
   "source": [
    "---\n",
    "\n",
    "### NER baseline"
   ],
   "metadata": {
    "collapsed": false
   },
   "id": "11459d8c3dacc20f"
  },
  {
   "cell_type": "code",
   "execution_count": 95,
   "outputs": [],
   "source": [
    "import spacy\n",
    "\n",
    "nlp = spacy.load(\"pl_core_news_sm\")\n",
    "\n",
    "def get_ents(text):\n",
    "    doc = nlp(text)\n",
    "    entity_dict = {}\n",
    "    for ent in doc.ents:\n",
    "        text, label = ent.text, ent.label_\n",
    "        if (text, label) not in entity_dict.keys():\n",
    "            entity_dict[(text, label)] = 0\n",
    "        entity_dict[(text, label)] += 1\n",
    "    return entity_dict"
   ],
   "metadata": {
    "collapsed": false,
    "ExecuteTime": {
     "end_time": "2024-11-29T20:29:24.917025500Z",
     "start_time": "2024-11-29T20:29:24.886681600Z"
    }
   },
   "id": "bb79bacc2f8db69c"
  },
  {
   "cell_type": "code",
   "execution_count": 96,
   "outputs": [
    {
     "data": {
      "text/plain": "{('Krakowie', 'placeName'): 1,\n ('Polski', 'placeName'): 1,\n ('Stanów Zjednoczonych', 'placeName'): 1}"
     },
     "execution_count": 96,
     "metadata": {},
     "output_type": "execute_result"
    }
   ],
   "source": [
    "get_ents(\n",
    "    \"Wczoraj w Krakowie miało miejsce spotkanie prezydentów Polski i Stanów Zjednoczonych.\"\n",
    ")"
   ],
   "metadata": {
    "collapsed": false,
    "ExecuteTime": {
     "end_time": "2024-11-29T20:29:25.203455200Z",
     "start_time": "2024-11-29T20:29:25.182083600Z"
    }
   },
   "id": "c8d2bfecc9d79d58"
  },
  {
   "cell_type": "code",
   "execution_count": null,
   "outputs": [],
   "source": [],
   "metadata": {
    "collapsed": false
   },
   "id": "abb224b7fb0f5fe4"
  }
 ],
 "metadata": {
  "kernelspec": {
   "display_name": "Python 3",
   "language": "python",
   "name": "python3"
  },
  "language_info": {
   "codemirror_mode": {
    "name": "ipython",
    "version": 2
   },
   "file_extension": ".py",
   "mimetype": "text/x-python",
   "name": "python",
   "nbconvert_exporter": "python",
   "pygments_lexer": "ipython2",
   "version": "2.7.6"
  }
 },
 "nbformat": 4,
 "nbformat_minor": 5
}
