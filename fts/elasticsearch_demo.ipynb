{
 "cells": [
  {
   "cell_type": "markdown",
   "source": [
    "# Full Text Search with Elasticsearch\n",
    "\n",
    "Under windows, download and unzip the elasticsearch-8.15.2 in this directory.\n",
    "\n",
    "In `elasticsearch-8.15.2/config/elasticsearch.yml` change the contents of security settings :\n",
    "\n",
    "```\n",
    "# Enable security features\n",
    "xpack.security.enabled: false\n",
    "\n",
    "xpack.security.enrollment.enabled: false\n",
    "```\n",
    "\n",
    "Run the following command:\n",
    "\n",
    "```\n",
    "elasticsearch-8.15.2\\bin\\elasticsearch.bat\n",
    "```\n",
    "\n",
    "---\n",
    "\n",
    "### import needed libraries"
   ],
   "metadata": {
    "collapsed": false
   },
   "id": "5f17e07d535c8ee"
  },
  {
   "cell_type": "code",
   "execution_count": 1,
   "id": "2c279726-7f06-4da4-9dbb-5257274e9b13",
   "metadata": {
    "ExecuteTime": {
     "end_time": "2024-10-21T16:37:43.844455Z",
     "start_time": "2024-10-21T16:37:43.158686700Z"
    }
   },
   "outputs": [],
   "source": [
    "from datasets import load_dataset\n",
    "import json\n",
    "import requests"
   ]
  },
  {
   "cell_type": "markdown",
   "source": [
    "### Create urls and headers for requests"
   ],
   "metadata": {
    "collapsed": false
   },
   "id": "702db3fd4acf5bee"
  },
  {
   "cell_type": "code",
   "execution_count": 2,
   "outputs": [],
   "source": [
    "headers = {\"Content-Type\": \"application/json\"}\n",
    "elastic_url = \"http://localhost:9200/pol\"\n",
    "bulk_url = \"http://localhost:9200/pol/_bulk\"\n",
    "search_url = \"http://localhost:9200/pol/_search?pretty\""
   ],
   "metadata": {
    "collapsed": false,
    "ExecuteTime": {
     "end_time": "2024-10-21T16:37:43.871296900Z",
     "start_time": "2024-10-21T16:37:43.846297400Z"
    }
   },
   "id": "1205aebbc3cbd1a1"
  },
  {
   "cell_type": "markdown",
   "source": [
    "### Clean up the elasticsearch index"
   ],
   "metadata": {
    "collapsed": false
   },
   "id": "2d275476f8a846b4"
  },
  {
   "cell_type": "code",
   "execution_count": 3,
   "outputs": [
    {
     "name": "stdout",
     "output_type": "stream",
     "text": [
      "{\"acknowledged\":true}\n"
     ]
    },
    {
     "name": "stderr",
     "output_type": "stream",
     "text": [
      "  % Total    % Received % Xferd  Average Speed   Time    Time     Time  Current\n",
      "                                 Dload  Upload   Total   Spent    Left  Speed\n",
      "\n",
      "  0     0    0     0    0     0      0      0 --:--:-- --:--:-- --:--:--     0\n",
      "100    21  100    21    0     0    346      0 --:--:-- --:--:-- --:--:--   350\n"
     ]
    }
   ],
   "source": [
    "!curl -X DELETE \"localhost:9200/pol\""
   ],
   "metadata": {
    "collapsed": false,
    "ExecuteTime": {
     "end_time": "2024-10-21T16:37:43.984298100Z",
     "start_time": "2024-10-21T16:37:43.860297400Z"
    }
   },
   "id": "9d7f8d68e348c319"
  },
  {
   "cell_type": "markdown",
   "source": [
    "### Create analyzer"
   ],
   "metadata": {
    "collapsed": false
   },
   "id": "3c168986451dd45b"
  },
  {
   "cell_type": "code",
   "execution_count": null,
   "outputs": [],
   "source": [
    "synonym_list = [\n",
    "    \"kwiecień, kwi, IV\",\n",
    "    \"styczeń, sty, I\",\n",
    "    \"luty, lut, II\",\n",
    "    \"marzec, mar, III\",\n",
    "    \"maj, V\",\n",
    "    \"czerwiec, cze, VI\",\n",
    "    \"lipiec, lip, VII\",\n",
    "    \"sierpień, sie, VIII\",\n",
    "    \"wrzesień, wrz, IX\",\n",
    "    \"październik, paź, X\",\n",
    "    \"listopad, lis, XI\",\n",
    "    \"grudzień, gru, XII\",\n",
    "]"
   ],
   "metadata": {
    "collapsed": false
   },
   "id": "ebaabcf103353f53"
  },
  {
   "cell_type": "code",
   "execution_count": 4,
   "outputs": [
    {
     "data": {
      "text/plain": "{'acknowledged': True, 'shards_acknowledged': True, 'index': 'pol'}"
     },
     "execution_count": 4,
     "metadata": {},
     "output_type": "execute_result"
    }
   ],
   "source": [
    "analyzer_settings = {\n",
    "    \"settings\": {\n",
    "        \"analysis\": {\n",
    "            \"filter\": {\n",
    "                \"polish_synonym\": {\n",
    "                    \"type\": \"synonym\",\n",
    "                    \"synonyms\": synonym_list,\n",
    "                }\n",
    "            },\n",
    "            \"analyzer\": {\n",
    "                \"polish_with_synonyms\": {\n",
    "                    \"tokenizer\": \"standard\",\n",
    "                    \"filter\": [\n",
    "                        \"lowercase\",\n",
    "                        \"polish_synonym\",\n",
    "                        \"morfologik_stem\",\n",
    "                        \"lowercase\",\n",
    "                    ],\n",
    "                },\n",
    "                \"polish\": {\n",
    "                    \"tokenizer\": \"standard\",\n",
    "                    \"filter\": [\"lowercase\", \"morfologik_stem\", \"lowercase\"],\n",
    "                },\n",
    "            },\n",
    "        }\n",
    "    },\n",
    "    \"mappings\": {\n",
    "        \"properties\": {\n",
    "            \"text_synonyms\": {\n",
    "                \"type\": \"text\",\n",
    "                \"analyzer\": \"polish_with_synonyms\",\n",
    "                \"fields\": {\"keyword\": {\"type\": \"keyword\"}},\n",
    "            },\n",
    "            \"text\": {\n",
    "                \"type\": \"text\",\n",
    "                \"analyzer\": \"polish\",\n",
    "                \"fields\": {\"keyword\": {\"type\": \"keyword\"}},\n",
    "            },\n",
    "        }\n",
    "    },\n",
    "}\n",
    "\n",
    "analyzer_settings = json.dumps(analyzer_settings)\n",
    "\n",
    "# send the analyzer settings and mappings to elasticsearch\n",
    "response = requests.put(\n",
    "    elastic_url,\n",
    "    headers=headers,\n",
    "    data=analyzer_settings,\n",
    ")\n",
    "\n",
    "response.json()"
   ],
   "metadata": {
    "collapsed": false,
    "ExecuteTime": {
     "end_time": "2024-10-21T16:37:44.205304300Z",
     "start_time": "2024-10-21T16:37:43.973297200Z"
    }
   },
   "id": "af9802007f3b0d3d"
  },
  {
   "cell_type": "markdown",
   "source": [
    "### Load the corpus into elasticsearch\n",
    "\n",
    "We use fiqa-pl dataset"
   ],
   "metadata": {
    "collapsed": false
   },
   "id": "f8ec116e43909c79"
  },
  {
   "cell_type": "code",
   "execution_count": 5,
   "id": "de803fb3-0061-4dfc-a01d-2ec3e4d68f2b",
   "metadata": {
    "ExecuteTime": {
     "end_time": "2024-10-21T16:38:29.941327800Z",
     "start_time": "2024-10-21T16:37:44.195299Z"
    }
   },
   "outputs": [
    {
     "name": "stdout",
     "output_type": "stream",
     "text": [
      "200\n",
      "False\n"
     ]
    }
   ],
   "source": [
    "fiqa = load_dataset(\"clarin-knext/fiqa-pl\", \"corpus\")\n",
    "\n",
    "fiqa_corpus = fiqa[\"corpus\"]\n",
    "fiqa_queries = fiqa[\"queries\"]\n",
    "\n",
    "# create data index\n",
    "data = []\n",
    "for _id, text in zip(fiqa_corpus[\"_id\"], fiqa_corpus[\"text\"]):\n",
    "    id_head = json.dumps(\n",
    "        {\"index\": {\"_index\": \"pol\", \"_id\": str(_id)}}, ensure_ascii=False\n",
    "    )\n",
    "    # to create double index for synonyms and no synonyms we need to input the text data twice\n",
    "    # this is not optimal\n",
    "    content = json.dumps({\"text_synonyms\": text, \"text\": text}, ensure_ascii=False)\n",
    "    data.append(id_head)\n",
    "    data.append(content)\n",
    "\n",
    "# join the bul data\n",
    "bulk_data = \"\\n\".join([item for item in data]) + \"\\n\"\n",
    "\n",
    "response = requests.post(\n",
    "    bulk_url, headers=headers, data=bulk_data, verify=False, auth=(\"xxx\", \"xxx\")\n",
    ")\n",
    "\n",
    "print(response.status_code)\n",
    "print(response.json()[\"errors\"])"
   ]
  },
  {
   "cell_type": "markdown",
   "source": [
    "### Create function to retrieve the number of files and occurrences of given word under certain index field"
   ],
   "metadata": {
    "collapsed": false
   },
   "id": "e5c148e653f47484"
  },
  {
   "cell_type": "code",
   "execution_count": 6,
   "outputs": [],
   "source": [
    "def retrieve_counts(field, word):\n",
    "    # get number of documents that contain the searched word\n",
    "    query_dict = {\"query\": {\"match\": {field: word}}}\n",
    "    query = json.dumps(query_dict)\n",
    "    response = requests.get(search_url, headers=headers, data=query)\n",
    "    n_documents = response.json()[\"hits\"][\"total\"][\"value\"]\n",
    "\n",
    "    # retrieve the document ids\n",
    "    query_dict = {\n",
    "        \"size\": n_documents,\n",
    "        \"query\": {\"match\": {field: word}},\n",
    "        \"_source\": False,\n",
    "    }\n",
    "    query = json.dumps(query_dict)\n",
    "    response = requests.get(search_url, headers=headers, data=query)\n",
    "    doc_ids = [idx[\"_id\"] for idx in response.json()[\"hits\"][\"hits\"]]\n",
    "\n",
    "    # count occurrences in all documents\n",
    "    word_count = 0\n",
    "    for idx in doc_ids:\n",
    "        termvectors_url = f\"http://localhost:9200/pol/_termvectors/{idx}?pretty\"\n",
    "\n",
    "        query_dict = {\n",
    "            \"fields\": [field],\n",
    "            \"term_statistics\": False,\n",
    "            \"field_statistics\": False,\n",
    "            \"positions\": False,\n",
    "            \"offsets\": False,\n",
    "        }\n",
    "\n",
    "        query = json.dumps(query_dict)\n",
    "        response = requests.get(termvectors_url, headers=headers, data=query)\n",
    "        data = response.json()[\"term_vectors\"][field][\"terms\"][word]\n",
    "        word_count += data[\"term_freq\"]\n",
    "\n",
    "    return len(doc_ids), word_count"
   ],
   "metadata": {
    "collapsed": false,
    "ExecuteTime": {
     "end_time": "2024-10-21T16:38:30.001319900Z",
     "start_time": "2024-10-21T16:38:29.939331Z"
    }
   },
   "id": "5c2f0dc258a128e1"
  },
  {
   "cell_type": "markdown",
   "source": [
    "### Get number of documents and term occurrences for kwiecień without synonyms"
   ],
   "metadata": {
    "collapsed": false
   },
   "id": "830e1b25b872d115"
  },
  {
   "cell_type": "code",
   "execution_count": 7,
   "outputs": [
    {
     "name": "stdout",
     "output_type": "stream",
     "text": [
      "number of documents without synonyms   : 257\n",
      "number of occurrences without synonyms : 353\n"
     ]
    }
   ],
   "source": [
    "count_docs, count_words = retrieve_counts(\"text\", \"kwiecień\")\n",
    "\n",
    "print(f\"number of documents without synonyms   : {count_docs}\")\n",
    "print(f\"number of occurrences without synonyms : {count_words}\")"
   ],
   "metadata": {
    "collapsed": false,
    "ExecuteTime": {
     "end_time": "2024-10-21T16:38:32.691985500Z",
     "start_time": "2024-10-21T16:38:29.956321600Z"
    }
   },
   "id": "350a71c4c7b5c26a"
  },
  {
   "cell_type": "markdown",
   "source": [
    "### Get number of documents and term occurrences for kwiecień with synonyms"
   ],
   "metadata": {
    "collapsed": false
   },
   "id": "6e18a2d4c1a50fdd"
  },
  {
   "cell_type": "code",
   "execution_count": 8,
   "outputs": [
    {
     "name": "stdout",
     "output_type": "stream",
     "text": [
      "number of documents with synonyms   : 306\n",
      "number of occurrences with synonyms : 439\n"
     ]
    }
   ],
   "source": [
    "count_docs, count_words = retrieve_counts(\"text_synonyms\", \"kwiecień\")\n",
    "\n",
    "print(f\"number of documents with synonyms   : {count_docs}\")\n",
    "print(f\"number of occurrences with synonyms : {count_words}\")"
   ],
   "metadata": {
    "collapsed": false,
    "ExecuteTime": {
     "end_time": "2024-10-21T16:38:33.580643400Z",
     "start_time": "2024-10-21T16:38:32.671984700Z"
    }
   },
   "id": "de9125caabab3ca6"
  },
  {
   "cell_type": "markdown",
   "source": [
    "### Dowload fiqa-pl-grels"
   ],
   "metadata": {
    "collapsed": false
   },
   "id": "6b8621ca0a56999c"
  },
  {
   "cell_type": "code",
   "execution_count": 27,
   "outputs": [],
   "source": [
    "fiqa_qa = load_dataset(\"clarin-knext/fiqa-pl-qrels\")"
   ],
   "metadata": {
    "collapsed": false,
    "ExecuteTime": {
     "end_time": "2024-10-21T17:07:29.053007Z",
     "start_time": "2024-10-21T17:07:21.788168400Z"
    }
   },
   "id": "ad9ce80922b737b8"
  },
  {
   "cell_type": "code",
   "execution_count": 28,
   "outputs": [],
   "source": [
    "query_ids = fiqa_qa[\"test\"][\"query-id\"]\n",
    "corpus_ids = fiqa_qa[\"test\"][\"corpus-id\"]"
   ],
   "metadata": {
    "collapsed": false,
    "ExecuteTime": {
     "end_time": "2024-10-21T17:07:29.068620300Z",
     "start_time": "2024-10-21T17:07:29.054007Z"
    }
   },
   "id": "b73ae97a33ebcd8b"
  },
  {
   "cell_type": "code",
   "execution_count": null,
   "outputs": [],
   "source": [],
   "metadata": {
    "collapsed": false
   },
   "id": "3f4aaed502ef9f0c"
  }
 ],
 "metadata": {
  "kernelspec": {
   "display_name": "Python 3 (ipykernel)",
   "language": "python",
   "name": "python3"
  },
  "language_info": {
   "codemirror_mode": {
    "name": "ipython",
    "version": 3
   },
   "file_extension": ".py",
   "mimetype": "text/x-python",
   "name": "python",
   "nbconvert_exporter": "python",
   "pygments_lexer": "ipython3",
   "version": "3.10.0"
  }
 },
 "nbformat": 4,
 "nbformat_minor": 5
}
