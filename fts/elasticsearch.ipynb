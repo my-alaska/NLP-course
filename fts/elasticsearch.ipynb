{
 "cells": [
  {
   "cell_type": "markdown",
   "id": "5f17e07d535c8ee",
   "metadata": {
    "collapsed": false
   },
   "source": [
    "# Full Text Search with elasticsearch\n",
    "\n",
    "## 1. and 2. Install elasticsearch and morfologik\n",
    "\n",
    "Under windows, download and unzip the elasticsearch-8.15.2 in this directory.\n",
    "\n",
    "In `elasticsearch-8.15.2/config/elasticsearch.yml` change the contents of security settings :\n",
    "\n",
    "```\n",
    "# Enable security features\n",
    "xpack.security.enabled: false\n",
    "\n",
    "xpack.security.enrollment.enabled: false\n",
    "```\n",
    "\n",
    "Install morfologik:\n",
    "\n",
    "```\n",
    "elasticsearch-8.15.2\\bin\\elasticsearch-plugin install pl.allegro.tech.elasticsearch.plugin:elasticsearch-analysis-morfologik:8.15.2\n",
    "```\n",
    "\n",
    "\n",
    "Run the following command:\n",
    "\n",
    "```\n",
    "elasticsearch-8.15.2\\bin\\elasticsearch.bat\n",
    "```\n",
    "\n",
    "---\n",
    "\n",
    "### Import needed libraries\n",
    "\n",
    "As elasticsearch python package 8.15.2 isn't out yet, instead of reinstalling elasticsearch as 8.15.1 version I decided to make my life harder by using requests"
   ]
  },
  {
   "cell_type": "code",
   "execution_count": 1,
   "id": "2c279726-7f06-4da4-9dbb-5257274e9b13",
   "metadata": {
    "ExecuteTime": {
     "end_time": "2024-10-21T19:58:36.331067600Z",
     "start_time": "2024-10-21T19:58:35.672461100Z"
    }
   },
   "outputs": [],
   "source": [
    "import numpy as np\n",
    "from datasets import load_dataset\n",
    "import json\n",
    "import requests"
   ]
  },
  {
   "cell_type": "markdown",
   "id": "a3b97db5-393a-4837-850d-d756b92b7a62",
   "metadata": {},
   "source": [
    "---"
   ]
  },
  {
   "cell_type": "markdown",
   "id": "702db3fd4acf5bee",
   "metadata": {
    "collapsed": false
   },
   "source": [
    "### Create urls and headers for requests"
   ]
  },
  {
   "cell_type": "code",
   "execution_count": 2,
   "id": "1205aebbc3cbd1a1",
   "metadata": {
    "ExecuteTime": {
     "end_time": "2024-10-21T19:58:36.348065800Z",
     "start_time": "2024-10-21T19:58:36.333066900Z"
    },
    "collapsed": false
   },
   "outputs": [],
   "source": [
    "headers = {\"Content-Type\": \"application/json\"}\n",
    "elastic_url = \"http://localhost:9200/pol\"\n",
    "bulk_url = \"http://localhost:9200/pol/_bulk\"\n",
    "search_url = \"http://localhost:9200/pol/_search?pretty\""
   ]
  },
  {
   "cell_type": "markdown",
   "id": "2d275476f8a846b4",
   "metadata": {
    "collapsed": false
   },
   "source": [
    "### Clean up the elasticsearch index"
   ]
  },
  {
   "cell_type": "code",
   "execution_count": 3,
   "id": "9d7f8d68e348c319",
   "metadata": {
    "ExecuteTime": {
     "end_time": "2024-10-21T19:58:36.522062Z",
     "start_time": "2024-10-21T19:58:36.347065300Z"
    },
    "collapsed": false
   },
   "outputs": [
    {
     "name": "stdout",
     "output_type": "stream",
     "text": [
      "{\"acknowledged\":true}\n"
     ]
    },
    {
     "name": "stderr",
     "output_type": "stream",
     "text": [
      "  % Total    % Received % Xferd  Average Speed   Time    Time     Time  Current\n",
      "                                 Dload  Upload   Total   Spent    Left  Speed\n",
      "\n",
      "  0     0    0     0    0     0      0      0 --:--:-- --:--:-- --:--:--     0\n",
      "100    21  100    21    0     0    434      0 --:--:-- --:--:-- --:--:--   437\n"
     ]
    },
    {
     "name": "stdout",
     "output_type": "stream",
     "text": [
      "{\"acknowledged\":true}\n"
     ]
    },
    {
     "name": "stderr",
     "output_type": "stream",
     "text": [
      "  % Total    % Received % Xferd  Average Speed   Time    Time     Time  Current\n",
      "                                 Dload  Upload   Total   Spent    Left  Speed\n",
      "\n",
      "  0     0    0     0    0     0      0      0 --:--:-- --:--:-- --:--:--     0\n",
      "100    21  100    21    0     0    437      0 --:--:-- --:--:-- --:--:--   446\n"
     ]
    }
   ],
   "source": [
    "!curl -X DELETE \"localhost:9200/pol\"\n",
    "!curl -X DELETE \"localhost:9200/pol_without_lemmatizer\""
   ]
  },
  {
   "cell_type": "markdown",
   "id": "90081829-e0fb-4757-8719-b381405cdc2b",
   "metadata": {},
   "source": [
    "---"
   ]
  },
  {
   "cell_type": "markdown",
   "id": "3c168986451dd45b",
   "metadata": {
    "collapsed": false
   },
   "source": [
    "## 3. and 4. Create analyzers with and without synonyms\n",
    "\n",
    "First create a list of synonyms compatible with elasticsearch"
   ]
  },
  {
   "cell_type": "code",
   "execution_count": 4,
   "id": "ebaabcf103353f53",
   "metadata": {
    "ExecuteTime": {
     "end_time": "2024-10-21T19:58:36.568062100Z",
     "start_time": "2024-10-21T19:58:36.522062Z"
    },
    "collapsed": false
   },
   "outputs": [],
   "source": [
    "synonym_list = [\n",
    "    \"kwiecień, kwi, IV\",\n",
    "    \"styczeń, sty, I\",\n",
    "    \"luty, lut, II\",\n",
    "    \"marzec, mar, III\",\n",
    "    \"maj, V\",\n",
    "    \"czerwiec, cze, VI\",\n",
    "    \"lipiec, lip, VII\",\n",
    "    \"sierpień, sie, VIII\",\n",
    "    \"wrzesień, wrz, IX\",\n",
    "    \"październik, paź, X\",\n",
    "    \"listopad, lis, XI\",\n",
    "    \"grudzień, gru, XII\",\n",
    "]"
   ]
  },
  {
   "cell_type": "markdown",
   "id": "615e62fe45a47365",
   "metadata": {
    "collapsed": false
   },
   "source": [
    "Then buld analyzer with settings and mapping"
   ]
  },
  {
   "cell_type": "code",
   "execution_count": 5,
   "id": "af9802007f3b0d3d",
   "metadata": {
    "ExecuteTime": {
     "end_time": "2024-10-21T19:58:36.755065700Z",
     "start_time": "2024-10-21T19:58:36.540090700Z"
    },
    "collapsed": false
   },
   "outputs": [
    {
     "data": {
      "text/plain": [
       "{'acknowledged': True, 'shards_acknowledged': True, 'index': 'pol'}"
      ]
     },
     "execution_count": 5,
     "metadata": {},
     "output_type": "execute_result"
    }
   ],
   "source": [
    "analyzer_settings = {\n",
    "    \"settings\": {\n",
    "        \"analysis\": {\n",
    "            \"filter\": {\n",
    "                \"polish_synonym\": {\n",
    "                    \"type\": \"synonym\",\n",
    "                    \"synonyms\": synonym_list,\n",
    "                }\n",
    "            },\n",
    "            \"analyzer\": {\n",
    "                \"polish_with_synonyms\": {\n",
    "                    \"tokenizer\": \"standard\",\n",
    "                    \"filter\": [\n",
    "                        \"lowercase\",\n",
    "                        \"polish_synonym\",\n",
    "                        \"morfologik_stem\",\n",
    "                        \"lowercase\",\n",
    "                    ],\n",
    "                },\n",
    "                \"polish\": {\n",
    "                    \"tokenizer\": \"standard\",\n",
    "                    \"filter\": [\"lowercase\", \"morfologik_stem\", \"lowercase\"],\n",
    "                },\n",
    "            },\n",
    "        }\n",
    "    },\n",
    "    \"mappings\": {\n",
    "        \"properties\": {\n",
    "            \"text_synonyms\": {\n",
    "                \"type\": \"text\",\n",
    "                \"analyzer\": \"polish_with_synonyms\",\n",
    "                \"fields\": {\"keyword\": {\"type\": \"keyword\"}},\n",
    "            },\n",
    "            \"text\": {\n",
    "                \"type\": \"text\",\n",
    "                \"analyzer\": \"polish\",\n",
    "                \"fields\": {\"keyword\": {\"type\": \"keyword\"}},\n",
    "            },\n",
    "        }\n",
    "    },\n",
    "}\n",
    "\n",
    "analyzer_settings = json.dumps(analyzer_settings)\n",
    "\n",
    "# send the analyzer settings and mappings to elasticsearch\n",
    "response = requests.put(\n",
    "    elastic_url,\n",
    "    headers=headers,\n",
    "    data=analyzer_settings,\n",
    ")\n",
    "\n",
    "response.json()"
   ]
  },
  {
   "cell_type": "markdown",
   "id": "8f3b0879-7147-4c11-8551-0c02b8258fdc",
   "metadata": {},
   "source": [
    "---"
   ]
  },
  {
   "cell_type": "markdown",
   "id": "f8ec116e43909c79",
   "metadata": {
    "collapsed": false
   },
   "source": [
    "## 5. and 6. Create and load the fiqa-pl corpus index into elasticsearch\n",
    "\n",
    "Fetch fiqa-pl corpus and build and index. Then post it in elasticsearch as bulk data"
   ]
  },
  {
   "cell_type": "code",
   "execution_count": 6,
   "id": "de803fb3-0061-4dfc-a01d-2ec3e4d68f2b",
   "metadata": {
    "ExecuteTime": {
     "end_time": "2024-10-21T19:59:21.712834300Z",
     "start_time": "2024-10-21T19:58:36.745058800Z"
    }
   },
   "outputs": [
    {
     "name": "stdout",
     "output_type": "stream",
     "text": [
      "200\n",
      "False\n"
     ]
    }
   ],
   "source": [
    "fiqa_corpus = load_dataset(\"clarin-knext/fiqa-pl\", \"corpus\")[\"corpus\"]\n",
    "\n",
    "# create data index\n",
    "data = []\n",
    "for _id, text in zip(fiqa_corpus[\"_id\"], fiqa_corpus[\"text\"]):\n",
    "    id_head = json.dumps(\n",
    "        {\"index\": {\"_index\": \"pol\", \"_id\": str(_id)}}, ensure_ascii=False\n",
    "    )\n",
    "    # to create double index for synonyms and no synonyms we need to input the text data twice\n",
    "    # this is not optimal\n",
    "    content = json.dumps({\"text_synonyms\": text, \"text\": text}, ensure_ascii=False)\n",
    "    data.append(id_head)\n",
    "    data.append(content)\n",
    "\n",
    "# join the bul data\n",
    "bulk_data = \"\\n\".join([item for item in data]) + \"\\n\"\n",
    "\n",
    "response = requests.post(bulk_url, headers=headers, data=bulk_data)\n",
    "\n",
    "print(response.status_code)\n",
    "print(response.json()[\"errors\"])"
   ]
  },
  {
   "cell_type": "markdown",
   "id": "dac4679a-f02b-4380-960f-20bcb781c77c",
   "metadata": {},
   "source": [
    "---"
   ]
  },
  {
   "cell_type": "markdown",
   "id": "e5c148e653f47484",
   "metadata": {
    "collapsed": false
   },
   "source": [
    "## 7. Count files and occurrences\n",
    "\n",
    "Create function to retrieve the number of files and occurrences of given word under certain index field (`\"text\"` or `\"text_synonyms\"`)"
   ]
  },
  {
   "cell_type": "code",
   "execution_count": 7,
   "id": "5c2f0dc258a128e1",
   "metadata": {
    "ExecuteTime": {
     "end_time": "2024-10-21T19:59:21.757840500Z",
     "start_time": "2024-10-21T19:59:21.712834300Z"
    },
    "collapsed": false
   },
   "outputs": [],
   "source": [
    "def retrieve_counts(field, word):\n",
    "    # get number of documents that contain the searched word\n",
    "    query_dict = {\"query\": {\"match\": {field: word}}}\n",
    "    query = json.dumps(query_dict)\n",
    "    response = requests.get(search_url, headers=headers, data=query)\n",
    "    n_documents = response.json()[\"hits\"][\"total\"][\"value\"]\n",
    "\n",
    "    # retrieve the document ids\n",
    "    query_dict = {\n",
    "        \"size\": n_documents,\n",
    "        \"query\": {\"match\": {field: word}},\n",
    "        \"_source\": False,\n",
    "    }\n",
    "    query = json.dumps(query_dict)\n",
    "    response = requests.get(search_url, headers=headers, data=query)\n",
    "    doc_ids = [idx[\"_id\"] for idx in response.json()[\"hits\"][\"hits\"]]\n",
    "\n",
    "    # count occurrences in all documents using termvectors\n",
    "    word_count = 0\n",
    "    for idx in doc_ids:\n",
    "        termvectors_url = f\"http://localhost:9200/pol/_termvectors/{idx}?pretty\"\n",
    "\n",
    "        query_dict = {\n",
    "            \"fields\": [field],\n",
    "            \"term_statistics\": False,\n",
    "            \"field_statistics\": False,\n",
    "            \"positions\": False,\n",
    "            \"offsets\": False,\n",
    "        }\n",
    "\n",
    "        query = json.dumps(query_dict)\n",
    "        response = requests.get(termvectors_url, headers=headers, data=query)\n",
    "        data = response.json()[\"term_vectors\"][field][\"terms\"][word]\n",
    "        word_count += data[\"term_freq\"]\n",
    "\n",
    "    return len(doc_ids), word_count"
   ]
  },
  {
   "cell_type": "markdown",
   "id": "71e1f620-3494-4b22-8be6-797d39917eb6",
   "metadata": {},
   "source": [
    "---"
   ]
  },
  {
   "cell_type": "markdown",
   "id": "830e1b25b872d115",
   "metadata": {
    "collapsed": false
   },
   "source": [
    "### Get number of documents and term occurrences for kwiecień without synonyms"
   ]
  },
  {
   "cell_type": "code",
   "execution_count": 8,
   "id": "350a71c4c7b5c26a",
   "metadata": {
    "ExecuteTime": {
     "end_time": "2024-10-21T19:59:24.339780700Z",
     "start_time": "2024-10-21T19:59:21.728835300Z"
    },
    "collapsed": false
   },
   "outputs": [
    {
     "name": "stdout",
     "output_type": "stream",
     "text": [
      "number of documents without synonyms   : 257\n",
      "number of occurrences without synonyms : 353\n"
     ]
    }
   ],
   "source": [
    "count_docs, count_words = retrieve_counts(\"text\", \"kwiecień\")\n",
    "\n",
    "print(f\"number of documents without synonyms   : {count_docs}\")\n",
    "print(f\"number of occurrences without synonyms : {count_words}\")"
   ]
  },
  {
   "cell_type": "markdown",
   "id": "6e18a2d4c1a50fdd",
   "metadata": {
    "collapsed": false
   },
   "source": [
    "### Get number of documents and term occurrences for kwiecień with synonyms"
   ]
  },
  {
   "cell_type": "code",
   "execution_count": 9,
   "id": "de9125caabab3ca6",
   "metadata": {
    "ExecuteTime": {
     "end_time": "2024-10-21T19:59:25.299628700Z",
     "start_time": "2024-10-21T19:59:24.339780700Z"
    },
    "collapsed": false
   },
   "outputs": [
    {
     "name": "stdout",
     "output_type": "stream",
     "text": [
      "number of documents with synonyms   : 306\n",
      "number of occurrences with synonyms : 439\n"
     ]
    }
   ],
   "source": [
    "count_docs, count_words = retrieve_counts(\"text_synonyms\", \"kwiecień\")\n",
    "\n",
    "print(f\"number of documents with synonyms   : {count_docs}\")\n",
    "print(f\"number of occurrences with synonyms : {count_words}\")"
   ]
  },
  {
   "cell_type": "markdown",
   "id": "4a255f2261aac513",
   "metadata": {
    "collapsed": false
   },
   "source": [
    "We can see that scores are clearly better for analyzer that uses month synonyms"
   ]
  },
  {
   "cell_type": "markdown",
   "id": "3c25a3c2-6d9b-4108-83eb-ddc0fb2528fb",
   "metadata": {},
   "source": [
    "---"
   ]
  },
  {
   "cell_type": "markdown",
   "id": "6b8621ca0a56999c",
   "metadata": {
    "collapsed": false
   },
   "source": [
    "## 8. Dowload fiqa-pl-grels and fiqa-pl queries"
   ]
  },
  {
   "cell_type": "code",
   "execution_count": 10,
   "id": "b73ae97a33ebcd8b",
   "metadata": {
    "ExecuteTime": {
     "end_time": "2024-10-21T19:59:33.779463900Z",
     "start_time": "2024-10-21T19:59:25.301629200Z"
    },
    "collapsed": false
   },
   "outputs": [],
   "source": [
    "fiqa_queries = load_dataset(\"clarin-knext/fiqa-pl\", \"queries\")[\"queries\"]\n",
    "fiqa_qa = load_dataset(\"clarin-knext/fiqa-pl-qrels\")[\"test\"]"
   ]
  },
  {
   "cell_type": "code",
   "execution_count": 11,
   "id": "c5e5fc60d419232d",
   "metadata": {
    "ExecuteTime": {
     "end_time": "2024-10-21T19:59:33.815498700Z",
     "start_time": "2024-10-21T19:59:33.780463Z"
    },
    "collapsed": false
   },
   "outputs": [],
   "source": [
    "# create map query id -> query text\n",
    "query_map = {\n",
    "    int(idx): q for idx, q in zip(fiqa_queries[\"_id\"], fiqa_queries[\"text\"]) if int(idx)\n",
    "}\n",
    "\n",
    "# create map query id -> relevant corpus ids\n",
    "query_corpus_map = {}\n",
    "for query_id, corpus_id in zip(fiqa_qa[\"query-id\"], fiqa_qa[\"corpus-id\"]):\n",
    "    if query_id not in query_corpus_map:\n",
    "        query_corpus_map[query_id] = []\n",
    "    query_corpus_map[query_id].append(corpus_id)"
   ]
  },
  {
   "cell_type": "markdown",
   "id": "d3fcb469-5766-49fb-a121-84e832d52dbe",
   "metadata": {},
   "source": [
    "---"
   ]
  },
  {
   "cell_type": "markdown",
   "id": "3e74383a91ba51cc",
   "metadata": {
    "collapsed": false
   },
   "source": [
    "## 9. Compute NDCG@5 for all queries"
   ]
  },
  {
   "cell_type": "code",
   "execution_count": 12,
   "id": "7e9f75b9fc0bec82",
   "metadata": {
    "ExecuteTime": {
     "end_time": "2024-10-21T19:59:33.830498600Z",
     "start_time": "2024-10-21T19:59:33.817500100Z"
    },
    "collapsed": false
   },
   "outputs": [],
   "source": [
    "def ndcg_at_k(field, k, search_url, printing=False):\n",
    "    # create logarithm vector to avoid unnecessary computations later\n",
    "    logs = np.log2(np.arange(2, 2 + k))\n",
    "\n",
    "    # iterate over all queries to compute ndcg for each of them\n",
    "    ndcg_list = []\n",
    "    for query_id, corpus_id_list in query_corpus_map.items():\n",
    "        query_text = query_map[query_id]\n",
    "\n",
    "        query_dict = {\"query\": {\"match\": {field: query_text}}, \"size\": k}\n",
    "\n",
    "        query_request = json.dumps(query_dict)\n",
    "        response = requests.post(search_url, headers=headers, data=query_request)\n",
    "        data = response.json()\n",
    "        hits = [int(h[\"_id\"]) for h in data[\"hits\"][\"hits\"]]\n",
    "\n",
    "        # sometimes the list of correct matches is shorter than k\n",
    "        # in  those cases we pad with 0s\n",
    "        idcg = [1 if i < len(corpus_id_list) else 0 for i in range(k)]\n",
    "        dcg = [1 if h in corpus_id_list else 0 for h in hits]\n",
    "\n",
    "        # this part of code is for exercise 10 and 11 only - analysis of example results\n",
    "        if printing:\n",
    "            if printing == \"0\" and np.sum(dcg) == 0:\n",
    "                print(query_text, end=\"\\n\\n\")\n",
    "                for d in data[\"hits\"][\"hits\"]:\n",
    "                    print(d[\"_source\"][\"text_synonyms\"])\n",
    "                    print()\n",
    "                return\n",
    "            if printing == \"45\" and np.sum(dcg) == 2 and dcg[3] and dcg[4]:\n",
    "                print(query_text, end=\"\\n\\n\")\n",
    "                for d in data[\"hits\"][\"hits\"]:\n",
    "                    print(d[\"_source\"][\"text_synonyms\"])\n",
    "                    print()\n",
    "                return\n",
    "            if printing == \"1\" and dcg[0]:\n",
    "                print(query_text, end=\"\\n\\n\")\n",
    "                for d in data[\"hits\"][\"hits\"]:\n",
    "                    print(d[\"_source\"][\"text_synonyms\"])\n",
    "                    print()\n",
    "                return\n",
    "\n",
    "        idcg = np.array(idcg) / logs\n",
    "        dcg = np.array(dcg) / logs\n",
    "\n",
    "        ndcg_list.append(dcg.sum() / idcg.sum())\n",
    "\n",
    "    return np.mean(ndcg_list)"
   ]
  },
  {
   "cell_type": "markdown",
   "id": "5e693d64-f3a2-4f7b-9138-d876381e02ff",
   "metadata": {},
   "source": [
    "---"
   ]
  },
  {
   "cell_type": "markdown",
   "id": "9d4b0b3666221183",
   "metadata": {
    "collapsed": false
   },
   "source": [
    "### NDCG@5 without synonyms"
   ]
  },
  {
   "cell_type": "code",
   "execution_count": 13,
   "id": "df27cffa519112aa",
   "metadata": {
    "ExecuteTime": {
     "end_time": "2024-10-21T19:59:36.728598300Z",
     "start_time": "2024-10-21T19:59:33.829498500Z"
    },
    "collapsed": false
   },
   "outputs": [
    {
     "data": {
      "text/plain": [
       "0.1851291130797741"
      ]
     },
     "execution_count": 13,
     "metadata": {},
     "output_type": "execute_result"
    }
   ],
   "source": [
    "ndcg_at_k(\"text\", 5, search_url)"
   ]
  },
  {
   "cell_type": "markdown",
   "id": "f66d5b530e1bdbfb",
   "metadata": {
    "collapsed": false
   },
   "source": [
    "### NDCG@5 with synonyms"
   ]
  },
  {
   "cell_type": "code",
   "execution_count": 14,
   "id": "e48d52be18ef9dbb",
   "metadata": {
    "ExecuteTime": {
     "end_time": "2024-10-21T19:59:39.626311100Z",
     "start_time": "2024-10-21T19:59:36.731599Z"
    },
    "collapsed": false
   },
   "outputs": [
    {
     "data": {
      "text/plain": [
       "0.1858026377473443"
      ]
     },
     "execution_count": 14,
     "metadata": {},
     "output_type": "execute_result"
    }
   ],
   "source": [
    "ndcg_at_k(\"text_synonyms\", 5, search_url)"
   ]
  },
  {
   "cell_type": "markdown",
   "id": "ef7ad0a853a0a193",
   "metadata": {
    "collapsed": false
   },
   "source": [
    "We can notice a very small improvement in search results. It's not surprising as not all queries rely on month names. Most of the results will be similar."
   ]
  },
  {
   "cell_type": "markdown",
   "id": "10154a3e-d77d-4353-8a26-7259d68c348b",
   "metadata": {},
   "source": [
    "---"
   ]
  },
  {
   "cell_type": "markdown",
   "id": "d573b4447f78e8a6",
   "metadata": {
    "collapsed": false
   },
   "source": [
    "### Modify analyzer to remove morfologik lemmatizer\n",
    "\n",
    "We have to create new analyzers"
   ]
  },
  {
   "cell_type": "code",
   "execution_count": 15,
   "id": "bee43a313d971eb3",
   "metadata": {
    "ExecuteTime": {
     "end_time": "2024-10-21T19:59:39.816306100Z",
     "start_time": "2024-10-21T19:59:39.627309400Z"
    },
    "collapsed": false
   },
   "outputs": [
    {
     "data": {
      "text/plain": [
       "{'acknowledged': True,\n",
       " 'shards_acknowledged': True,\n",
       " 'index': 'pol_without_lemmatizer'}"
      ]
     },
     "execution_count": 15,
     "metadata": {},
     "output_type": "execute_result"
    }
   ],
   "source": [
    "new_analyzer_settings = {\n",
    "    \"settings\": {\n",
    "        \"analysis\": {\n",
    "            \"filter\": {\n",
    "                \"polish_synonym\": {\n",
    "                    \"type\": \"synonym\",\n",
    "                    \"synonyms\": synonym_list,\n",
    "                }\n",
    "            },\n",
    "            \"analyzer\": {\n",
    "                \"polish_with_synonyms\": {\n",
    "                    \"tokenizer\": \"standard\",\n",
    "                    \"filter\": [\n",
    "                        \"lowercase\",\n",
    "                        \"polish_synonym\",\n",
    "                        \"lowercase\",\n",
    "                    ],\n",
    "                },\n",
    "                \"polish\": {\n",
    "                    \"tokenizer\": \"standard\",\n",
    "                    \"filter\": [\"lowercase\", \"lowercase\"],\n",
    "                },\n",
    "            },\n",
    "        }\n",
    "    },\n",
    "    \"mappings\": {\n",
    "        \"properties\": {\n",
    "            \"text_synonyms\": {\n",
    "                \"type\": \"text\",\n",
    "                \"analyzer\": \"polish_with_synonyms\",\n",
    "                \"fields\": {\"keyword\": {\"type\": \"keyword\"}},\n",
    "            },\n",
    "            \"text\": {\n",
    "                \"type\": \"text\",\n",
    "                \"analyzer\": \"polish\",\n",
    "                \"fields\": {\"keyword\": {\"type\": \"keyword\"}},\n",
    "            },\n",
    "        }\n",
    "    },\n",
    "}\n",
    "\n",
    "new_analyzer_settings = json.dumps(new_analyzer_settings)\n",
    "\n",
    "response = requests.put(\n",
    "    elastic_url + \"_without_lemmatizer\",\n",
    "    headers=headers,\n",
    "    data=new_analyzer_settings,\n",
    ")\n",
    "\n",
    "response.json()"
   ]
  },
  {
   "cell_type": "markdown",
   "id": "e5a3b1d0d42e866a",
   "metadata": {
    "collapsed": false
   },
   "source": [
    "To use the new analyzer without polish lemmatizer we have to reindex the data"
   ]
  },
  {
   "cell_type": "code",
   "execution_count": 16,
   "id": "a06307207557ac45",
   "metadata": {
    "ExecuteTime": {
     "end_time": "2024-10-21T19:59:47.484313Z",
     "start_time": "2024-10-21T19:59:39.817307300Z"
    },
    "collapsed": false
   },
   "outputs": [
    {
     "data": {
      "text/plain": [
       "{'took': 6719,\n",
       " 'timed_out': False,\n",
       " 'total': 57638,\n",
       " 'updated': 0,\n",
       " 'created': 57638,\n",
       " 'deleted': 0,\n",
       " 'batches': 58,\n",
       " 'version_conflicts': 0,\n",
       " 'noops': 0,\n",
       " 'retries': {'bulk': 0, 'search': 0},\n",
       " 'throttled_millis': 0,\n",
       " 'requests_per_second': -1.0,\n",
       " 'throttled_until_millis': 0,\n",
       " 'failures': []}"
      ]
     },
     "execution_count": 16,
     "metadata": {},
     "output_type": "execute_result"
    }
   ],
   "source": [
    "reindex = {\"source\": {\"index\": \"pol\"}, \"dest\": {\"index\": \"pol_without_lemmatizer\"}}\n",
    "\n",
    "response = requests.post(\n",
    "    \"http://localhost:9200/_reindex\",\n",
    "    headers=headers,\n",
    "    data=json.dumps(reindex),\n",
    ")\n",
    "\n",
    "response.json()"
   ]
  },
  {
   "cell_type": "markdown",
   "id": "ee99c2c2-5ed8-4ffe-9b64-15dc430f506f",
   "metadata": {},
   "source": [
    "---"
   ]
  },
  {
   "cell_type": "markdown",
   "id": "d4bf7020ce21c47e",
   "metadata": {
    "collapsed": false
   },
   "source": [
    "### NDCG@5 without synonyms and lemmatizer"
   ]
  },
  {
   "cell_type": "code",
   "execution_count": 17,
   "id": "b7ed9c8bbf9688fd",
   "metadata": {
    "ExecuteTime": {
     "end_time": "2024-10-21T19:59:47.530312200Z",
     "start_time": "2024-10-21T19:59:47.484313Z"
    },
    "collapsed": false
   },
   "outputs": [],
   "source": [
    "new_search_url = \"http://localhost:9200/pol_without_lemmatizer/_search?pretty\""
   ]
  },
  {
   "cell_type": "code",
   "execution_count": 18,
   "id": "3f6796266982e950",
   "metadata": {
    "ExecuteTime": {
     "end_time": "2024-10-21T19:59:49.560148900Z",
     "start_time": "2024-10-21T19:59:47.501312100Z"
    },
    "collapsed": false
   },
   "outputs": [
    {
     "data": {
      "text/plain": [
       "0.12444419614599363"
      ]
     },
     "execution_count": 18,
     "metadata": {},
     "output_type": "execute_result"
    }
   ],
   "source": [
    "ndcg_at_k(\"text\", 5, new_search_url)"
   ]
  },
  {
   "cell_type": "markdown",
   "id": "8cf70d80f6f1556b",
   "metadata": {
    "collapsed": false
   },
   "source": [
    "### NDCG@5 with synonyms and without lemmatizer"
   ]
  },
  {
   "cell_type": "code",
   "execution_count": 19,
   "id": "6b01ca09dbbfe88f",
   "metadata": {
    "ExecuteTime": {
     "end_time": "2024-10-21T19:59:51.788226200Z",
     "start_time": "2024-10-21T19:59:49.561676Z"
    },
    "collapsed": false
   },
   "outputs": [
    {
     "data": {
      "text/plain": [
       "0.1331294076376364"
      ]
     },
     "execution_count": 19,
     "metadata": {},
     "output_type": "execute_result"
    }
   ],
   "source": [
    "ndcg_at_k(\"text_synonyms\", 5, new_search_url)"
   ]
  },
  {
   "cell_type": "markdown",
   "id": "a2afe815f89e6430",
   "metadata": {
    "collapsed": false
   },
   "source": [
    "The results are significantly worse without the use of lemmatizer. It was not unexpected since the text analysis tends to be more chaotic for a language that is unknown to the used tool"
   ]
  },
  {
   "cell_type": "markdown",
   "id": "03b395a0-5813-4ca7-93a8-9691526935ee",
   "metadata": {},
   "source": [
    "---"
   ]
  },
  {
   "cell_type": "markdown",
   "id": "d676b28c8722640b",
   "metadata": {
    "collapsed": false
   },
   "source": [
    "### Question 1. What are the strengths and weaknesses of regular expressions versus full text search regarding processing of text?\n",
    "\n",
    "Regular expressions are easy very precise. They don't treat the text as a language and can be used for finding patterns in all sorts of character sequences. Regular expression don't require creating additional big data structures such as fts index. However, with fts, many things can be simplified and automated. To search for all forms of month names, creating a proper regex will pose a much harder task than using fts "
   ]
  },
  {
   "cell_type": "markdown",
   "id": "202a4392a0069a18",
   "metadata": {
    "collapsed": false
   },
   "source": [
    "### Question 2. Can an LLM be applied in the context of searching for documents? Justify your answer, excluding the obvious observation that an LLM can be used to formulate the answer.\n",
    "\n",
    "An LLM can be used to create a brief summary of text. Searching through such summary might yield worse results as they will not contain all information, but having a list of such briefs greatly improve the search speed.\n",
    "\n",
    "Additionally a language model can be used to assess how well the context of query matches the context of the summary."
   ]
  },
  {
   "cell_type": "markdown",
   "id": "aded1657c8dd7684",
   "metadata": {
    "collapsed": false
   },
   "source": [
    "---"
   ]
  },
  {
   "cell_type": "markdown",
   "id": "8fff567e-6a2e-4aa2-91cc-a580e276a6a6",
   "metadata": {},
   "source": [
    "---"
   ]
  },
  {
   "cell_type": "markdown",
   "id": "b2185757-635e-4f83-afef-1a009a59d621",
   "metadata": {},
   "source": [
    "---"
   ]
  },
  {
   "cell_type": "markdown",
   "id": "17b27f93-bc02-44c2-8b57-d4e153109936",
   "metadata": {},
   "source": [
    "---"
   ]
  },
  {
   "cell_type": "markdown",
   "id": "12620268aeaaf79a",
   "metadata": {
    "collapsed": false
   },
   "source": [
    "### Analyze example results (additional tasks 10 and 11)\n",
    "\n",
    "When no results are found"
   ]
  },
  {
   "cell_type": "code",
   "execution_count": 20,
   "id": "1db79bd94b2f01e7",
   "metadata": {
    "ExecuteTime": {
     "end_time": "2024-10-21T19:59:51.846232300Z",
     "start_time": "2024-10-21T19:59:51.788226200Z"
    },
    "collapsed": false
   },
   "outputs": [
    {
     "name": "stdout",
     "output_type": "stream",
     "text": [
      "1 EIN prowadzący działalność pod wieloma nazwami firm\n",
      "\n",
      "„Tak, możesz utworzyć konto firmowe PayPal bez sformalizowania firmy za pomocą dokumentów rządowych itp. Mówiąc najprościej, „prowadzenie firmy” oznacza po prostu „prowadzenie działalności jako” (D/B/A) nazwa handlowa.Możesz użyć adresu prywatnej skrzynki pocztowej, takiej jak te podane w sklepie UPS.Poproś dziecko ze stoiskiem z lemoniadą lub pudełkiem ciasteczek Girl Scout - wystarczy, że załatwisz formalności rządowe, takie jak rejestracja LLC lub uzyskanie podatku EIN po przekroczeniu pewnych progów działalności, a płacenie za rzeczy generalnie nie jest tym. Ponadto niektóre firmy, w przypadku niektórych relacji, będą wymagały formalności biznesowych, takich jak EIN, co z kolei będzie wymagało stworzenia nazwy handlowej i rejestrując go w państwie. Na przykład, jeśli założysz tradycyjne konto sprzedawcy kart kredytowych, prawdopodobnie będą tego chcieli”.\n",
      "\n",
      "Nie należy zakładać firmy w USA tylko po to, aby uzyskać numer identyfikacyjny wymagany do formularza W-8BEN. Zakładając firmę z siedzibą w USA, zapisałbyś się na wiele dodatkowych kłopotów! Nie potrzebujesz tego. Jesteś firmą europejską, a nie amerykańską. Sprzedaż do USA nie wymaga posiadania amerykańskiej firmy. (Możesz jednak zastanowić się, jaką formę działalności powinieneś prowadzić w swoim kraju.) W każdym razie, aby rozwiązać swoje najpilniejsze obawy, powinieneś po prostu uzyskać tylko numer EIN. Zobacz businessready.ca - co to jest W8-BEN?. Cytat: [...] Istnieją inne powody, aby wypełnić formularz W8-BEN, ale dla większości z was jest to upewnienie się, że nie wstrzymują 30% płatności, co dla małej firmy jest dużym problemem . [...] Jak uzyskać jeden z tych numerów identyfikacyjnych podatnika EIN US? EIN to skrót od Employer Identification Number, który jest Twoim stałym numerem i może być używany do większości Twoich potrzeb biznesowych (np. ubieganie się o licencje na prowadzenie działalności, składanie podatków, jeśli dotyczy, itp.). Możesz złożyć wniosek, wypełniając formularz SS-4, ale łatwiejszy, preferowany sposób jest online. Jednak na IRS.gov – Online EIN: Często zadawane pytania znalazłem następującą ciekawostkę: P. Czy jakiekolwiek typy podmiotów są wykluczone z ubiegania się o EIN przez Internet? A. [...] Osoby zarejestrowane poza Stanami Zjednoczonymi lub terytoriami USA nie mogą ubiegać się o numer EIN online. Zadzwoń do nas pod numer (267) 941-1099 (nie jest to numer bezpłatny) w godzinach od 6:00 do 23:00. Czas wschodni. Proponuję więc zadzwonić do IRS i opisać swoją sytuację: jesteś firmą z siedzibą w Europie (jeden właściciel?) i sprzedajesz produkty klientowi z USA i chciałbyś poprosić o numer EIN, aby móc dostarczyć klientowi numer W- 8BEN. IRS powinien być w stanie doradzić Ci właściwy sposób działania. Zastrzeżenie: nie jestem prawnikiem. Rozważ zasięgnięcie profesjonalnej porady.\n",
      "\n",
      "„W zależności od tego, w jaki sposób czek został wystawiony, możesz złożyć wniosek DBA („prowadzący działalność jako””), który poda lokalną nazwę firmy. Następnie otwórz konto pod tą nazwą i zdeponuj czek. Lub po prostu wróć do klienta i powiedz „hej, nie mam jeszcze otwartego konta firmowego; czy mogę wymienić ten czek na wystawiony na mnie osobiście?”. nazwa firmy. (Naprawdę muszę złożyć ten DBA!)\"\n",
      "\n",
      "Tak, jesteś właścicielem firmy, a Twój numer SSN jest wymieniony w Załączniku C. Informacje zawarte w Załączniku C dotyczą Twojej firmy nie posiadającej osobowości prawnej jako wykonawcy; jest to jednoosobowa działalność gospodarcza. Możesz zdecydować się na prowadzenie tej działalności pod własnym nazwiskiem, np. Tim Taylor (otrzymywanie płatności czekami wystawionymi na Tima Taylora) lub zmodyfikowaną nazwą, taką jak Tim the Tool Man Taylor (często określana jako DBA - Doing Business as), pod nazwą firmy, taką jak Tool Time itp. z firmą adres będący adresem domowym lub oddzielnym lokalem, sprawdzanie rachunków itp. i wszystko to, o czym IRS chce wiedzieć w Załączniku C. Informacje o firmie, która zapłaciła, nie są wymienione w Załączniku C.\n",
      "\n",
      "„Małe firmy są często regulowane lokalnymi przepisami i prawem stanowym. Na małej arenie o małej odpowiedzialności powinieneś być w stanie ujść na sucho z DBA (robienie biznesu jako), takie jak DBA „„Jay's Gem””. zezwolenie na prowadzenie działalności może pochodzić ze stanowego identyfikatora podatkowego i zadowolić dostawcę, ale federalny numer EIN można uzyskać z IRS i może być on niezbędny do ubiegania się o zezwolenie na prowadzenie działalności. Nie zaszkodzi porozmawiać z lokalną izbą handlową lub jeśli masz pytania dotyczące lokalnych wymagań, stanowych agencji małych firm”.\n"
     ]
    }
   ],
   "source": [
    "ndcg_at_k(\"text_synonyms\", 5, search_url, \"0\")"
   ]
  },
  {
   "cell_type": "markdown",
   "id": "e3cefaa479d02a3b",
   "metadata": {
    "collapsed": false
   },
   "source": [
    "All of the above results talk about the topic of the query \"prowadzący działalność pod wieloma nazwami firm\"\n",
    "\n",
    "The query isn't very specific so many topics matched it. Quite possibly some of them were more related to it than the intended results because of how vague it was.\n",
    "\n",
    "---\n",
    "\n",
    "When results are found on the 4th and 5th position"
   ]
  },
  {
   "cell_type": "code",
   "execution_count": 21,
   "id": "bbc0c462582980a4",
   "metadata": {
    "ExecuteTime": {
     "end_time": "2024-10-21T19:59:52.879390Z",
     "start_time": "2024-10-21T19:59:51.820226Z"
    },
    "collapsed": false
   },
   "outputs": [
    {
     "name": "stdout",
     "output_type": "stream",
     "text": [
      "Plusy i minusy Pożyczki tylko na odsetki\n",
      "\n",
      "Stopa limitu obejmuje wszelkie odsetki od kredytu hipotecznego, a nie spłaty kredytu hipotecznego. Stopa ograniczenia reprezentuje dochód netto, który jest czynszem brutto minus wszystkie koszty, w tym odsetki od pożyczki. Spłaty kredytu hipotecznego stanowią część Twoich obliczeń przepływów pieniężnych, a nie Twoich obliczeń zwrotu. ROI to kalkulacja, która oblicza Twój dochód netto w porównaniu z początkową inwestycją, czyli Twoją zaliczką plus koszty, a nie wartością nieruchomości.\n",
      "\n",
      "HELOCs zazwyczaj mają 10 lat losowania i 5 lat zwrotu. W czasie losowania możesz płacić odsetki tylko jeśli chcesz. Stawka może wynosić od Prime minus 1,5 do Prime plus (dość trochę). Oczywiście zawsze możesz rozejrzeć się za lepszą ofertą niż obecnie, o ile masz kapitał w swoim domu.\n",
      "\n",
      "Kluczem do zrozumienia kredytu hipotecznego jest przyjrzenie się harmonogramowi amortyzacji. Włóż 100k, 4,5% odsetek, 30 lat, 360 miesięcznych płatności i spójrz na wyniki. Powinieneś otrzymywać około 507 miesięcznych płatności P&I. Amortyzacja to tylko część pożyczki, depozyt na podatki i ubezpieczenie oraz dopłaty do PMI są dodatkowo płatne. Otrzymasz listę wszystkich płatności zgodnych z wprowadzonymi liczbami. Nie będą one dokładnie odpowiadać temu, co naprawdę otrzymujesz w przypadku kredytu hipotecznego, ale są wystarczająco zbliżone, aby zademonstrować sposób działania amortyzacji i zaplanować budżet. W przypadku tych warunków, przy równych płatnościach miesięcznych, zaczniesz płacić 74% odsetek od pierwszej płatności. Z każdą następną płatnością ten procent spada. Sposób, w jaki to wszystko jest obliczane, odbywa się za pomocą równań wartości pieniądza w czasie. https://en.wikipedia.org/wiki/Time_value_of_money. Czytaj powoli, zrozum, jak działają równania, a następnie spójrz na wzór na powtarzającą się płatność i wartość bieżącą. Służy do znajdowania miesięcznej płatności. Możesz sprawdzić, czy formuła działa, korzystając z ich odpowiedzi i tworząc arkusz kalkulacyjny z następującymi kolumnami: Poprzednie saldo, płatność, odsetki, nowe saldo. Każda linia reprezentuje miesiąc. Oblicz odsetki jak poprzednie saldo * APR/12. Oblicz nowe saldo jako poprzednie saldo minus płatność plus odsetki. Przepracuj to wszystko, aby otrzymać pożyczkę na 1 rok, a zrozumiesz o wiele lepiej.\n",
      "\n",
      "„Biorąc pod uwagę obecne niskie stopy procentowe – załóżmy 4% – może to być realna opcja dla wielu osób. Załóżmy również, że Twoja rzeczywista stopa procentowa po uwzględnieniu kwestii podatkowych wynosi około 3%. całkiem uczciwe z liczbami. Teraz każdy dolar, który zaoszczędzisz co miesiąc w oparciu o oszczędności i zainwestujesz z wyższym zwrotem netto większym niż 3%, będzie w rzeczywistości „darmowymi pieniędzmi”. Zasadniczo stawiasz na swoją zdolność do inwestowania powyżej 3%. Nawet jeśli stosujesz konserwatywną historyczną stopę zwrotu na rynku, powinieneś netto znacznie lepiej niż 3%. Te pieniądze będą znaczące po 10 latach. Załóżmy, że zarabiasz średnio 8% na swoich pieniądzach w ciągu 10 lat lat. Cóż, uzyskasz dodatkowe 77 000 USD, jeśli będziesz płacić odsetki tylko wtedy, gdy płacisz średnio 500 USD miesięcznie na odsetki od konwencjonalnej pożyczki. To całkiem przeciętny dom w USA. Kto nie chce 77 000 USD (więcej niż w porównaniu do zwykłego dyrektora). Więc po 10 latach masz ve taką samą kwotę kapitału plus 77 000 $, biorąc pod uwagę, że bierzesz wszystkie zaoszczędzone pieniądze i inwestujesz je przy powyższych ograniczeniach. Sugerowałbym, aby ludzie byli zainteresowani tylko wtedy, gdy są gotowi sumiennie odłożyć pieniądze, tak jak mieli konwencjonalną pożyczkę. Innym scenariuszem byłby bogatszy właściciel domu (który może być w stanie spłacić dom w dowolnym momencie), aby czerpać ulgi podatkowe i tanie pieniądze na inwestycje. Plusy: Minusy: Sidenote: Jeśli ludzie pytają, jak to jest opłacalne. Cóż, robię to od 8 lat. Zarobiłem dodatkowe 110K. Mam mniej niż 500 dolarów, które odkładam każdego miesiąca, ponieważ mój dom jest własnością około 30%, ale zarabiałem średnio prawie 14% w ciągu ostatnich 8 lat. Moje pieniądze trafiają na konto e-handlu automatycznie co miesiąc, stamtąd przelewam je do różnych funduszy (zdywersyfikowanych według sektora i regionu). Dosłownie spędzam nad tym kilka minut w miesiącu i naprawdę udaję, że nie ma tam pieniędzy. Miłe jest również to, że bank uzna około połowy tego jako aktywa płynne, gdy będę musiał renegocjować kolejną pożyczkę”.\n",
      "\n",
      "Plusy: Minusy: Przed bańką mieszkaniową konwencjonalną mądrością było kupowanie jak największej ilości domów, a tym samym pożyczanie tyle, na ile możesz sobie pozwolić. Ponieważ zmienne stawki prowadzą do niższych kredytów hipotecznych, wielu preferowało je, ponieważ można było kupić więcej domów. To oczywiście prowadzi do utraty domu i wielu tysięcy dolarów przez wiele osób. Bańka nie jest konieczna, aby wywołać łańcuch wydarzeń, które mogą doprowadzić do utraty domu. Jeśli pożyczkobiorca tylko z odsetkami spóźnia się z płatnością, często powoduje to wzrost stopy procentowej. Połącz to z kilkoma innymi rzeczami, które mogą się wydarzyć negatywnie, i jesteś na górze. IMO to nie jest mądre.\n"
     ]
    }
   ],
   "source": [
    "ndcg_at_k(\"text_synonyms\", 5, search_url, \"45\")"
   ]
  },
  {
   "cell_type": "markdown",
   "id": "385271843b665dd5",
   "metadata": {
    "collapsed": false
   },
   "source": [
    "All of the above texts touch a topic mentioned in the query. It's moderately precise but does not use enough keywords that could move the most relevant results higher in the list\n",
    "\n",
    "---\n",
    "\n",
    "When the result appears on the first position"
   ]
  },
  {
   "cell_type": "code",
   "execution_count": 22,
   "id": "8ddfab90fb8d9e5",
   "metadata": {
    "ExecuteTime": {
     "end_time": "2024-10-21T19:59:52.972168400Z",
     "start_time": "2024-10-21T19:59:52.879390Z"
    },
    "collapsed": false
   },
   "outputs": [
    {
     "name": "stdout",
     "output_type": "stream",
     "text": [
      "Jak rozliczyć zarobione i wydane pieniądze przed założeniem firmowych kont bankowych?\n",
      "\n",
      "Środki zarobione i wydane przed otwarciem dedykowanego konta firmowego należy sklasyfikować według ich pochodzenia. Na przykład, jeśli Twoja firma uzyskała dochód, gdzie trafiły te pieniądze? Jeśli weźmiesz pieniądze osobiście, zostanie to uznane za „dystrybucję” lub „pożyczkę”. To od Ciebie zależy, którą z dwóch opcji wybierzesz. Z drugiej strony, jeśli Twoja firma miała wydatek, który zapłaciłeś osobiście, zostanie to uznane za „wkład kapitałowy” lub „pożyczkę” od Ciebie. Jeśli zdecydujesz się rejestrować te transakcje jako pożyczki, możesz je skompensować razem, więc nie potrzebujesz dwóch oddzielnych kont, pożyczki dla ciebie i pożyczki od ciebie. Kiedy otwierano konto bankowe, skąd pochodziła wpłata początkowa? Jeśli pochodzi z Twoich osobistych środków, jest to „wkład kapitałowy” lub „pożyczka” od Ciebie. Z dźwięku twojego pytania, zdeponowałeś to, co pozostało po poprzednich przychodach/wydatkach. To w rezultacie przywróciłoby konto „pożyczki” z powrotem do zera, jeśli wybierzesz tę trasę. Powyższe dotyczy również sposobu rejestrowania wszelkich wydatków, które możesz osobiście zapłacić za firmę (jeśli takie istnieją) w przyszłości. Ponieważ transakcje te nie były realizowane za pośrednictwem dedykowanego firmowego konta bankowego, nie można ich rejestrować w Quickbooks jako czeki i depozyty. Zamiast tego możesz użyć wpisów do dziennika. Za każdy otrzymany dochód obciążysz swój rachunek kapitałowy/pożyczkowy i uznasz swoje konto dochodów. W przypadku jakichkolwiek wydatków obciążysz odpowiednie konto wydatków i uznasz swoje konto dystrybucyjne/pożyczkowe. Ponadto, zakładając rachunek kredytowy, należy wybrać rodzaj Aktywa bieżące lub Zobowiązanie bieżące. Rachunek wpłat i dystrybucji kapitału powinien być typu Equity. Mam nadzieję że to pomoże!\n",
      "\n",
      "„Zgadzam się z resztą odpowiedzi – prawdopodobnie lepiej będzie, jeśli użyjesz go do jakiejś przewidywalnej, ryczałtowej, powtarzającej się comiesięcznej usługi, takiej jak NetFlix, lub przekaż darowiznę na cele charytatywne, jeśli lubisz tego typu rzeczy. Ale od tego czasu nie było to, o co pytałeś, postaram się odpowiedzieć: Jeśli nie masz nic przeciwko wyrzucaniu pieniędzy, wyślij pieniądze do siebie za pomocą systemu PayPal. Oto jak: Załóż konto firmowe PayPal i użyj osobistego konta PayPal, aby wysyłaj do niego środki, konfigurując subskrypcję PayPal. PayPal mówi: „Możesz mieć jedno konto konsumenckie i jedno konto firmowe”. Konto firmowe PayPal Payments Standard nie ma miesięcznej opłaty – tylko opłaty transakcyjne. Według PayPal „” w celu skonfigurowania powtarzającej się płatności, [należy] utworzyć przycisk Subskrypcja lub Płatności cykliczne na karcie Usługi sprzedawcy „” (na Koncie biznesowym). Następnie należy kliknąć link/przycisk, aby skonfigurować subskrypcję z Twoje osobiste konto PayPal, aby wysyłać pieniądze do Twojej firmy konto ss na automatycznym harmonogramie. Możesz wtedy, w wolnym czasie, odesłać pieniądze z powrotem na swoje konto osobiste bez ponoszenia drugiej opłaty transakcyjnej, a następnie odesłać je z powrotem na swoje konto bankowe. Lub, jeśli Twoje konto bankowe nie jest jeszcze powiązane z kontem osobistym, możesz zamiast tego powiązać je z kontem firmowym i zdeponować środki na swoim koncie bankowym. Niestety tego kroku nie można zautomatyzować. Ponownie, powtórzę, znacznie lepiej jest używać go do czegoś, co się powtarza”.\n",
      "\n",
      "Twoje rzeczywiste pytanie nie ma nic wspólnego z technicznym problemem połączenia konta PayPal z kontem bankowym. Chodzi o rozliczanie pieniędzy. To znaczy, co uważasz za dochód i co możesz udowodnić podatnikowi. Tak, będziesz musiał oddzielić pieniądze. Połączenie z kontem firmowym to prawdopodobnie droga. Od tego momentu chodzi o to, jak śledzisz pieniądze i rozliczasz je. Jak prowadzisz księgowość, to inna kwestia. A zatem: Nie, nie staje się to automatycznie dochodem firmy tylko dlatego, że trafia na firmowe konto bankowe. Nadal musisz śledzić wspomniany dochód i ubiegać się o niego gdzieś na jakimś formularzu podatkowym. Celem oddzielnego konta biznesowego jest uniknięcie pomieszania pieniędzy, które może prowadzić do utraty ochrony przed odpowiedzialnością w postaci inkorporacji. Bank nie rozlicza za Ciebie podatków.\n",
      "\n",
      "Aby odpowiedzieć na pierwsze pytanie, musisz zapoznać się z warunkami korzystania z usługi PayPal. Wyobrażam sobie, że możesz, ponieważ moja żona i ja mamy osobiste konta PayPal pod tym samym adresem. Gdy otrzymasz pieniądze, nadawcy zobaczą tylko (pełne) imię i nazwisko na Twoim koncie, kwotę oraz identyfikator transakcji. Jeśli założysz konto firmowe, imię i nazwisko na Twoim koncie zostanie zastąpione nazwą firmy. Twój adres pocztowy nie będzie widoczny. Tak, PayPal zapewnia opcję eksportu historii transakcji. Dla porównania: jeśli Twój wolumen przekracza 20 000 USD w 200 lub więcej transakcjach, i tak wystawi formularz 1099-K. To zależy od metody płatności. Przelewy bankowe są natychmiastowe, gdy karty wymagają opóźnienia w rozliczeniu. PayPal zapewnia ochronę kupujących, więc będę bardzo obowiązkowy rejestrować wszystkie wykonane przez Ciebie prace, aby przedstawić dowód ukończenia, na wypadek gdyby ktoś zakwestionował płatność. Spory mogą mieć miejsce do 45 dni od daty transakcji. Obciążenia zwrotne mogą mieć miejsce 120 dni lub więcej po transakcji (w zależności od sieci kart).\n",
      "\n",
      "To nadal jest aktywa, ponieważ trzymasz je w swoich księgach na oprocentowanym koncie. I nadal jest to również zobowiązanie, ponieważ jak zauważasz, pieniądze nie są technicznie twoje i jesteś winien je najemcy, dopóki nie rozliczysz się na koniec najmu/okresu najmu. Dlatego sugerowałbym założenie kaucji na dwóch rachunkach - rachunku aktywów i rachunku pasywów. Te dwie rzeczy zniosą się nawzajem, więc nie zwiększy to twojej wartości netto ani kapitału własnego. Jeśli pieniądze znajdują się na koncie bankowym, które jest udostępniane do innych celów, możesz utworzyć konto podrzędne dla depozytu zabezpieczającego: Aktywa->Oszczędności->Bank->Depozyt zabezpieczający: 1500 USD, a zobowiązaniem może być po prostu: Pasywa->Depozyt zabezpieczający : 1500 USD Oczywiście możesz je zmodyfikować, aby najlepiej pasowały do ​​struktury Twojego konta (np. Organizuj według właściwości itp.). Wreszcie, zamiast przelewać pieniądze z konta „dochodowego” na konto oszczędnościowe, przelewasz je bezpośrednio z konta pasywnego za jednym razem:\n"
     ]
    }
   ],
   "source": [
    "ndcg_at_k(\"text_synonyms\", 5, search_url, \"1\")"
   ]
  },
  {
   "cell_type": "markdown",
   "id": "9c241230cd3de1fe",
   "metadata": {
    "collapsed": false
   },
   "source": [
    "The query created by the above text is very clear and precise. Because of that the first retrieved result already matches it well.\n",
    "\n",
    "The above examples show how precision of language can impact the search results when using a full text search"
   ]
  },
  {
   "cell_type": "code",
   "execution_count": null,
   "id": "624d4f7f-7a15-441c-8169-762cfcced14f",
   "metadata": {},
   "outputs": [],
   "source": []
  }
 ],
 "metadata": {
  "kernelspec": {
   "display_name": "Python 3 (ipykernel)",
   "language": "python",
   "name": "python3"
  },
  "language_info": {
   "codemirror_mode": {
    "name": "ipython",
    "version": 3
   },
   "file_extension": ".py",
   "mimetype": "text/x-python",
   "name": "python",
   "nbconvert_exporter": "python",
   "pygments_lexer": "ipython3",
   "version": "3.10.0"
  }
 },
 "nbformat": 4,
 "nbformat_minor": 5
}
