{
 "cells": [
  {
   "cell_type": "markdown",
   "id": "3657b63896964595",
   "metadata": {
    "collapsed": false
   },
   "source": [
    "# RAG\n",
    "\n",
    "---\n",
    "\n",
    "### Configure OLLama\n",
    "\n",
    "Install OLLama\n",
    "\n",
    "Open terminal and type:\n",
    "\n",
    "`ollama run phi3:3.8b`\n",
    "\n",
    "and \n",
    "\n",
    "`ollama serve`\n",
    "\n",
    "Then set up chat with ollama:"
   ]
  },
  {
   "cell_type": "code",
   "execution_count": 1,
   "id": "fe4d3081191a8c23",
   "metadata": {
    "collapsed": false,
    "ExecuteTime": {
     "end_time": "2025-01-11T17:48:52.355125400Z",
     "start_time": "2025-01-11T17:48:52.117994200Z"
    }
   },
   "outputs": [],
   "source": [
    "import json\n",
    "import requests\n",
    "\n",
    "\n",
    "def chat_ollama(text):\n",
    "    url = \"http://localhost:11434/api/chat\"\n",
    "\n",
    "    payload = {\n",
    "        \"model\": \"phi3:3.8b\",\n",
    "        \"messages\": [{\"role\": \"user\", \"content\": text}],\n",
    "        \"stream\": False,\n",
    "    }\n",
    "\n",
    "    response = requests.post(url, json=payload)\n",
    "\n",
    "    # Parse the response\n",
    "    if response.status_code == 200:\n",
    "        return response.json()[\"message\"][\"content\"]\n",
    "\n",
    "    return None"
   ]
  },
  {
   "cell_type": "markdown",
   "source": [
    "Using `generate` endpoint"
   ],
   "metadata": {
    "collapsed": false
   },
   "id": "2594ec7d3bc4375c"
  },
  {
   "cell_type": "code",
   "execution_count": 2,
   "id": "53109ee9844a45c5",
   "metadata": {
    "collapsed": false,
    "ExecuteTime": {
     "end_time": "2025-01-11T17:48:52.370884100Z",
     "start_time": "2025-01-11T17:48:52.354124900Z"
    }
   },
   "outputs": [],
   "source": [
    "url = \"http://localhost:11434/api/generate\"\n",
    "\n",
    "\n",
    "def prompt_ollama(text):\n",
    "    payload = {\n",
    "        \"model\": \"phi3:3.8b\",\n",
    "        \"prompt\": text,\n",
    "        \"context\": [],\n",
    "        \"options\": {\"top_k\": 10, \"temperature\": 0},\n",
    "        \"stream\": False,\n",
    "    }\n",
    "\n",
    "    response = requests.post(url, data=json.dumps(payload))\n",
    "\n",
    "    # Parse the response\n",
    "    if response.status_code == 200:\n",
    "        return response.json()[\"response\"]\n",
    "\n",
    "    return None"
   ]
  },
  {
   "cell_type": "code",
   "execution_count": 3,
   "outputs": [
    {
     "data": {
      "text/plain": "'RAG stands for \"Rapid Application Development.\" It\\'s a software development methodology that emphasizes quick, iterative prototyping and testing. The goal of Rapid Application Development (RAD) is to produce applications faster by involving the client in every stage of development through rapid prototyping and continuous user feedback. This approach allows for adjustments based on real-time input from users or stakeholdselicitating changes throughout the project, which can lead to a more refined final product that better meets their needs. RAD typically involves less planning but requires strong teamwork and collaboration between developers, clients, and end-users.'"
     },
     "execution_count": 3,
     "metadata": {},
     "output_type": "execute_result"
    }
   ],
   "source": [
    "prompt_ollama(\"Briefly explain what RAG is\")"
   ],
   "metadata": {
    "collapsed": false,
    "ExecuteTime": {
     "end_time": "2025-01-11T17:48:55.450070900Z",
     "start_time": "2025-01-11T17:48:52.359877100Z"
    }
   },
   "id": "9401e041dc3f3151"
  },
  {
   "cell_type": "markdown",
   "source": [
    "### Configure Qdrant\n",
    "\n",
    "Pull image\n",
    "\n",
    "```\n",
    "docker pull qdrant/qdrant\n",
    "```\n",
    "\n",
    "\n",
    "Then, run the service:\n",
    "(on windows)\n",
    "```\n",
    "docker run -p 6333:6333 -p 6334:6334 -v .\\qdrant_storage:\\qdrant\\storage:z qdrant/qdrant\n",
    "```"
   ],
   "metadata": {
    "collapsed": false
   },
   "id": "ec2443ccb897cb7"
  },
  {
   "cell_type": "code",
   "execution_count": 4,
   "outputs": [],
   "source": [
    "from qdrant_client import QdrantClient\n",
    "\n",
    "client = QdrantClient(url=\"http://localhost:6333\")"
   ],
   "metadata": {
    "collapsed": false,
    "ExecuteTime": {
     "end_time": "2025-01-11T17:48:56.261314500Z",
     "start_time": "2025-01-11T17:48:55.446070300Z"
    }
   },
   "id": "6bb5b0461d730621"
  },
  {
   "cell_type": "code",
   "execution_count": 5,
   "outputs": [
    {
     "data": {
      "text/plain": "True"
     },
     "execution_count": 5,
     "metadata": {},
     "output_type": "execute_result"
    }
   ],
   "source": [
    "from qdrant_client.http.models import VectorParams, Distance\n",
    "\n",
    "collection_name = \"rag_collection_nlp_course\"\n",
    "client.delete_collection(collection_name=collection_name)\n",
    "client.create_collection(\n",
    "    collection_name=collection_name,\n",
    "    vectors_config=VectorParams(size=384, distance=Distance.COSINE),\n",
    ")"
   ],
   "metadata": {
    "collapsed": false,
    "ExecuteTime": {
     "end_time": "2025-01-11T17:48:56.371523800Z",
     "start_time": "2025-01-11T17:48:56.262314800Z"
    }
   },
   "id": "66e574113ffb3864"
  },
  {
   "cell_type": "markdown",
   "source": [
    "### Load the pdf\n",
    "\n",
    "Example paper is [this paper](https://doi.org/10.1016/j.softx.2024.101944) about efficient molecular fingerprint computation."
   ],
   "metadata": {
    "collapsed": false
   },
   "id": "5fee28b609d16b5b"
  },
  {
   "cell_type": "code",
   "execution_count": 6,
   "outputs": [],
   "source": [
    "from langchain.document_loaders import PyPDFLoader\n",
    "\n",
    "documents = PyPDFLoader(\"paper.pdf\").load()"
   ],
   "metadata": {
    "collapsed": false,
    "ExecuteTime": {
     "end_time": "2025-01-11T17:48:57.292121300Z",
     "start_time": "2025-01-11T17:48:56.365738600Z"
    }
   },
   "id": "d6cf4286dba2e203"
  },
  {
   "cell_type": "markdown",
   "source": [
    "### Split the pdf"
   ],
   "metadata": {
    "collapsed": false
   },
   "id": "21ea6398ac898140"
  },
  {
   "cell_type": "code",
   "execution_count": 7,
   "outputs": [],
   "source": [
    "from langchain_text_splitters import RecursiveCharacterTextSplitter\n",
    "\n",
    "splitter = RecursiveCharacterTextSplitter(\n",
    "    chunk_size=1000, chunk_overlap=200, separators=[\"\\n\", \" \", \"\"]\n",
    ")\n",
    "\n",
    "documents = splitter.split_documents(documents)"
   ],
   "metadata": {
    "collapsed": false,
    "ExecuteTime": {
     "end_time": "2025-01-11T17:48:57.302856600Z",
     "start_time": "2025-01-11T17:48:57.293121700Z"
    }
   },
   "id": "cb2edffd2ecee0fa"
  },
  {
   "cell_type": "markdown",
   "source": [
    "### Store the vectors"
   ],
   "metadata": {
    "collapsed": false
   },
   "id": "5bc9f51533d3b388"
  },
  {
   "cell_type": "code",
   "execution_count": 8,
   "outputs": [
    {
     "name": "stdout",
     "output_type": "stream",
     "text": [
      "WARNING:tensorflow:From C:\\Users\\piotr\\AppData\\Local\\Programs\\Python\\Python311\\Lib\\site-packages\\tf_keras\\src\\losses.py:2976: The name tf.losses.sparse_softmax_cross_entropy is deprecated. Please use tf.compat.v1.losses.sparse_softmax_cross_entropy instead.\n"
     ]
    },
    {
     "name": "stderr",
     "output_type": "stream",
     "text": [
      "C:\\Users\\piotr\\AppData\\Local\\Temp\\ipykernel_19888\\398197933.py:5: LangChainDeprecationWarning: The class `Qdrant` was deprecated in LangChain 0.1.2 and will be removed in 0.5.0. Use :class:`~QdrantVectorStore` instead.\n",
      "  vector_store = Qdrant(client=client, collection_name=collection_name, embeddings=embeddings_model)\n"
     ]
    }
   ],
   "source": [
    "from langchain_huggingface import HuggingFaceEmbeddings\n",
    "from langchain_qdrant import Qdrant\n",
    "\n",
    "embeddings_model = HuggingFaceEmbeddings(\n",
    "    model_name=\"sentence-transformers/all-MiniLM-L6-v2\"\n",
    ")\n",
    "vector_store = Qdrant(\n",
    "    client=client, collection_name=collection_name, embeddings=embeddings_model\n",
    ")\n",
    "vector_store.add_documents(documents)\n",
    "pass"
   ],
   "metadata": {
    "collapsed": false,
    "ExecuteTime": {
     "end_time": "2025-01-11T17:49:12.899853500Z",
     "start_time": "2025-01-11T17:48:57.302856600Z"
    }
   },
   "id": "72d4c884887571a3"
  },
  {
   "cell_type": "markdown",
   "source": [
    "### Create RAG pipeline"
   ],
   "metadata": {
    "collapsed": false
   },
   "id": "b2ed637b9ca29830"
  },
  {
   "cell_type": "code",
   "execution_count": 9,
   "outputs": [],
   "source": [
    "from langchain.chains.retrieval_qa.base import RetrievalQA\n",
    "from langchain_ollama import OllamaLLM\n",
    "\n",
    "retriever = vector_store.as_retriever(search_type=\"similarity\")\n",
    "llm = OllamaLLM(model=\"phi3:3.8b\")\n",
    "rag_chain = RetrievalQA.from_chain_type(llm=llm, retriever=retriever)"
   ],
   "metadata": {
    "collapsed": false,
    "ExecuteTime": {
     "end_time": "2025-01-11T17:49:13.542080400Z",
     "start_time": "2025-01-11T17:49:12.894564900Z"
    }
   },
   "id": "1d439be6640a1d85"
  },
  {
   "cell_type": "markdown",
   "source": [
    "### Compare answers"
   ],
   "metadata": {
    "collapsed": false
   },
   "id": "a712dc6f0cb54bd"
  },
  {
   "cell_type": "code",
   "execution_count": 10,
   "outputs": [],
   "source": [
    "def compare_answers(question):\n",
    "    print(question)\n",
    "\n",
    "    response_llm = prompt_ollama(question)\n",
    "    print(\"\\nLLM answer:\")\n",
    "    print(response_llm)\n",
    "\n",
    "    response_rag = rag_chain.invoke(question)[\"result\"]\n",
    "    print(\"\\nRAG answer:\")\n",
    "    print(response_rag)"
   ],
   "metadata": {
    "collapsed": false,
    "ExecuteTime": {
     "end_time": "2025-01-11T17:49:13.549105600Z",
     "start_time": "2025-01-11T17:49:13.542080400Z"
    }
   },
   "id": "f730706f10300daa"
  },
  {
   "cell_type": "code",
   "execution_count": 11,
   "outputs": [
    {
     "name": "stdout",
     "output_type": "stream",
     "text": [
      "What are molecular fingerprints?\n",
      "\n",
      "LLM answer:\n",
      "Molecular fingerprints, also known as chemical descriptors or structural representations of a compound's structure in cheminformatics and computational chemistry, provide a unique identifier for the molecde based on its atomic composition and arrangement. They serve to represent molecules numerically so that they can be easily compared using computer algorithms without needing their full 3D structures. Molecular fingerprints are typically binary or count-based vectors where each element corresponds to the presence (or absence, in some cases) of specific substructures within a molecule such as functional groups, rings, and other chemical features. These representations facilitate rapid similarity searching among large databases of compounds for drug discovery, virtual screening, and predictive modeling applications by allowing quick comparison based on structural or property similarities without the need to visualize complex 3D structures directly.\n",
      "\n",
      "RAG answer:\n",
      "Molecular fingerprints are feature extraction algorithms that encode structural information about molecules as vectors for computational chemistry applications such as machine learning. These representations simplify complex chemical structures into a format understandable by computers, allowing them to process and analyze large sets of compounds efficiently within various cheminformatics tasks including similarity searching, clustering, virtual screening, visualization, property prediction, etc.\n",
      "\n",
      "Molecular fingerprints come in different flavors that capture distinct aspects of molecules—some are based sole0nally on the 2D or topological structure (like ECFP - Extended Connectivity Fingerprints) while others also consider three-dimensional conformational information to better represent stereochemical and spatial properties. The choice between these depends largely on the specific requirements of a chemoinformatics task, such as whether we need faster calculations with simpler fingerprints or more detailed chemical structures that account for 3D conformation in cases where this is relevant (e.g., studying protein-ligand interactions).\n",
      "\n",
      "In summary, molecular fingerprints are crucial tools to transform the multidimensional and intricate world of chemistry into digestible data points suitable for computational analysis through machine learning or other predictive modeling techniques in cheminformatics workflows.\n"
     ]
    }
   ],
   "source": [
    "compare_answers(\"What are molecular fingerprints?\")"
   ],
   "metadata": {
    "collapsed": false,
    "ExecuteTime": {
     "end_time": "2025-01-11T17:49:18.515467800Z",
     "start_time": "2025-01-11T17:49:13.546105Z"
    }
   },
   "id": "aa8a73399e323335"
  },
  {
   "cell_type": "markdown",
   "source": [
    "Both responses are good and accurate. I don't know where the word sole0nally came from"
   ],
   "metadata": {
    "collapsed": false
   },
   "id": "9059e8c8ac63cce"
  },
  {
   "cell_type": "code",
   "execution_count": 12,
   "outputs": [
    {
     "name": "stdout",
     "output_type": "stream",
     "text": [
      "List out popular molecular fingerprints.\n",
      "\n",
      "LLM answer:\n",
      "1. Extended-Connectivity Fingerprint (ECFP4) - A widely used circular substructure based on Morgan algorithm, which considers the connectivity of atoms within a certain radius around each atom in the molecule and generates bit vectors representing these patterns. It is commonly employed for drug discovery applications due to its ability to capture essential chemical information about compounds effectively.\n",
      "\n",
      "2. Extended-Connectivity Fingerprint (ECFP6) - Similar to ECFP4, but with a larger radius of 6 Ångström and uses the same Morgan algorithm approach; it provides more detailed molecular representations by considering six atoms around each atom in the compound's structure.\n",
      "\n",
      "3. Mixed-Mass Fingerprint (MMF) - This fingerprint considers both atomic mass and connectivity, capturing information about isotopes as well as chemical bonds within a given radius of an atom to create its bit vector representation. It has been used in various cheminformatics applications such as virtual screening for drug discovery.\n",
      "\n",
      "4. Mixed-Mass Fingerprint (MMF2) - Similar to MMF, but with different weightings and considerations regarding atomic masses which can provide more nuanced information about the molecde's structure when compared to traditional fingerprint methods like ECFP or MACCS keys. \n",
      "\n",
      "5. Atom Pair Fingerprint (APFIL) - This method considers both atom types as well as their pairwise distances within a certain radius, generating bit vectors that represent the presence of specific pairs in molecules and are useful for predicting similarities between compounds based on structural features alone without requiring 3D information.\n",
      "\n",
      "6. Pharmacophore Fingerprint (PFFIL) - This fingerprint method captures pharmacophoric elements within a given radius of an atom, which can be used to identify molecules with similar biological activities or properties based on their spatial arrangement and chemical features without requiring 3D information.\n",
      "\n",
      "7. Pharmacophore Fingerprint (PFFIL2) - Similar to PFFIL but uses different weightings for pharmacophoric elements, providing a more nuanced representation of molecular structures that can be used in virtual screening and other cheminformatics applications. \n",
      "\n",
      "8. Topological Torsion Fingerprint (TTIMP) - This fingerprint method considers the topological arrangement of atoms within a given radius around each atom to generate bit vectors, capturing information about stereochemistry as well as connectivity in molecules without requiring explicit knowledge of their 3D structures.\n",
      "\n",
      "9. Topological Torsion Fingerprint (TTIMP2) - Similar to TTIMP but with different weightings and considerations for topological arrangements, providing a more nuanced representation that can be used effectively in virtual screening applications or other cheminformatics tasks. \n",
      "\n",
      "10. Graph-Based Molecular Descriptors (GBMDs) - These descriptors represent molecules as graphs with atoms represented by nodes and bonds between them representing edges, capturing information about the connectivity of a compound's structure without requiring explicit knowledge of its 3D conformation or stereochemistry.\n",
      "\n",
      "11. Graph-Based Molecular Descriptors (GBMD2) - Similar to GBMD but with different weightings and considerations for graph representations, providing more nuanced information about molecular structures that can be used in various cheminformatics applications such as virtual screening or QSAR model building. \n",
      "\n",
      "12. MoleculeNet Fingerprints (MNF) - This method uses a deep learning approach to generate fingerprints based on the output of convolutional neural networks trained on large datasets, capturing complex molecular features and relationships that traditional methods may miss while still being computationally efficient for virtual screening or other cheminformatics tasks.\n",
      "\n",
      "13. MoleculeNet Fingerprint (MNF2) - Similar to MNF but with different network architectures or training data sets leading to more nuanced representations of molecular structures that can be used in various applications such as drug discovery, virtual screening, and QSAR model building. \n",
      "\n",
      "14. Pharmacophore Fingerprint (PFFIL3) - Similar to PFFIL but with different weightings or considerations for pharmacophoric elements within a given radius of an atom, providing more nuanced representations that can be used in virtual screening and other cheminformatics tasks. \n",
      "\n",
      "15. Topological Torsion Fingerprint (TTIMP3) - Similar to TTIMP but with different weightings or considerations for topological arrangements within a given radius of an atom, providing more nuanced representations that can be used in virtual screening and other cheminformatics tasks without requiring explicit knowledge of 3D structures.\n",
      "\n",
      "RAG answer:\n",
      "Fingerprints used for encoding the structural information of a molecule into an interpretable machine readable format are crucial in computational chemistry and cheminformatics applications like virtual screening, structure-activity relationship studies, etc. Some popular fingerprint methods include Extended Connectivity Fingerprint (ECFP), FCFP (Fingerprint Composition Features of Pharmacophore Individuals - also known as Morgan fingerprint or circularly symmetric ECFP), and Topological Torsion fingerprints among others such as MACCS keys, Atom Pair/APPFingerprint. These methods help in comparing molecules for similarity searching by calculating similarities between their respective vectors derived from the given SMILES strings or RDKit Mol objects of different chemical compounds.\n",
      "\n",
      "Following are some popular fingerprints commonly used: \n",
      "1. Extended Connectivity Fingerprint (ECFP): A graph-based molecular descriptor that encodes information about atom and bond connectivities in a molecule into an m vector using Morgan algorithm [85]. It is widely employed for structure similarity search, virtual screening etc., due to its ability to encode 3D structural features of the ligand.\n",
      "2. FCFP (Fingerprint Composition Features): A type similar to ECFP but includes information on substructures and ring systems within molecules [85]. It allows for a more detailed fingerprint generation by considering different sizes of rings in addition to atom-to-atom paths, which can potentially provide better predictive power.\n",
      "3. Topological Torsion Fingerprint: A fast method that captures the global shape or \"torsion\" information about molecules [85]. It's particularly useful for handling larger sets of compounds efficiently and is often used in substructure searches due to its speedy computation time, despite possibly losing some detail compared to other methods.\n",
      "4. MACCS keys: A simple 3D fingerprint that encodes structural features like rings (with specific atom types) which are commonly found within molecules of biological interest [85]. It's widely used in drug discovery for preliminary screening and filtering tasks due to its simplicity, speediness but it lacks flexibility when compared with more complex methods.\n",
      "\n",
      "For further details about the fingerprint generation process alongwith a comprehensive comparison between these popular molecular descriptors one can refer to their respective Wikipedia pages or in-depth articles on topics like 'Molecular Fingerprints' and Morgan algorithm [85]. \n"
     ]
    }
   ],
   "source": [
    "compare_answers(\"List out popular molecular fingerprints.\")"
   ],
   "metadata": {
    "collapsed": false,
    "ExecuteTime": {
     "end_time": "2025-01-11T17:49:30.326587300Z",
     "start_time": "2025-01-11T17:49:18.509468Z"
    }
   },
   "id": "c2cf9dbff1f798e9"
  },
  {
   "cell_type": "markdown",
   "source": [
    "The LLM gives incorrect description and hallucinates non-existent fingerprints. RAG lists out actual fingerprints and gives an overall more accurate result despite still not being fully accurate"
   ],
   "metadata": {
    "collapsed": false
   },
   "id": "91ebdb3f9fae0e05"
  },
  {
   "cell_type": "code",
   "execution_count": 13,
   "outputs": [
    {
     "name": "stdout",
     "output_type": "stream",
     "text": [
      "What is chemoinformatics?\n",
      "\n",
      "LLM answer:\n",
      "Chemoinformatics, also known as cheminformatic or chemical informatics, refers to the use of computer and informational techniques for managing data related to molecular and chemical compounds. It involves methods that facilitate the creation, storage, retrieval, analysis, visualization, and sharing of information about chemicals in databases such as their structures, properties, biological activities, and reactions they undergo or participate in within a laboratory setting. Chemoinformatics tools are used to predict molecular behavior, design new compounds with desired traits for drug discovery, optimize synthetic routes, understand structure-activity relationships (SAR), and more efficiently navigate the vast chemical space of potential therapenergic agents or other bioactive substances.\n",
      "\n",
      "Chemoinformatics combines aspects from chemistry, computer science, mathematics, engineering, and biology to handle complex data sets that are often too large for manual analysis. It employs various algorithms and computational methods such as quantitative structure-activity relationship (QSAR) modeling, molecular docking simulations, virtual screenings of compound libraries against targets or receptors in the body, pharmacophore mapping, and machine learning techniques to predict how different chemicals might interact with biological systems.\n",
      "\n",
      "The ultimate goal is often drug discovery where chemoinformatics can significantly reduce time and costs by identifying promising candidates for further experimental testing while minimizing potential side effects or inefficiencies through virtual screening of compounds before synthesis, thus accelerating the development process from initial research to clinical trials.\n",
      "\n",
      "RAG answer:\n",
      "Chemoinformatics, also known as chemical informatics or cheminformaticScience and Computing (B) with a focus on the application of computer and information science to study and manipulate chemical structures for drug discovery. This interdisciplinary field combines techniques from chemistry, biology, physics, and computer science to process chemical data and facilitate its comprehension at various levels such as molecular structure representation, database management, and computational screening methods that are essential in the development of new drugs and materials by predicting properties like reactivity, stability, or bioactivity.\n",
      "\n",
      "Reference: \n",
      "[1] Todeschini R, Consonni V. Molecular descriptors for chemoinformatics. John Wiley & Sons; 2009.\n"
     ]
    }
   ],
   "source": [
    "compare_answers(\"What is chemoinformatics?\")"
   ],
   "metadata": {
    "collapsed": false,
    "ExecuteTime": {
     "end_time": "2025-01-11T17:49:35.726396200Z",
     "start_time": "2025-01-11T17:49:30.320579200Z"
    }
   },
   "id": "76fff3d785ad16a5"
  },
  {
   "cell_type": "markdown",
   "source": [
    "The rag answer has some weird text elements like \"cheminformaticScience\". It also adds a reference that exists and is related to the topic."
   ],
   "metadata": {
    "collapsed": false
   },
   "id": "54b62e1256b4778b"
  },
  {
   "cell_type": "code",
   "execution_count": 14,
   "outputs": [
    {
     "name": "stdout",
     "output_type": "stream",
     "text": [
      "What is molecular property prediction?\n",
      "\n",
      "LLM answer:\n",
      "Molecular property prediction refers to the computational process of predicting physical, chemical, and biological properties of a molecule based on its structure. This can include attributes such as solubility, stability, reactivity, bioactivity, or even more complex characteristics like pharmacokinetics in drug discovery applications. The goal is often to identify promising compounds for further experimental testing without the need for synthesizing and testing each molecule physically. This process typically involves using computational methods such as quantum mechanics calculations, machine learning algorithms, or empirical rules derived from known data sets of similar molecules (quantitative structure-property relationships).\n",
      "\n",
      "RAG answer:\n",
      "Molecular property prediction refers to the use of computational methods and algorithms to predict physical-chemical properties (such as solubility, melting point, or biological activity) of a given chemical compound based on its structure. This is essential in drug discovery for identifying promising candidates with desirable attributes while filtering out potential liabilities before synthesis and testing phases. Various machine learning models can be employed to accomplish this task by using molecular fingerprints that encode the structural information of a molecule as input data, which are then used to predict these properties based on learned patterns from existing databases containing known compounds' structures and their corresponding properties.\n"
     ]
    }
   ],
   "source": [
    "compare_answers(\"What is molecular property prediction?\")"
   ],
   "metadata": {
    "collapsed": false,
    "ExecuteTime": {
     "end_time": "2025-01-11T17:49:39.934021700Z",
     "start_time": "2025-01-11T17:49:35.720390500Z"
    }
   },
   "id": "869abfb79478b2a5"
  },
  {
   "cell_type": "markdown",
   "source": [
    "Both answers are okay"
   ],
   "metadata": {
    "collapsed": false
   },
   "id": "a6969aa2f4abbc2f"
  },
  {
   "cell_type": "code",
   "execution_count": 15,
   "outputs": [
    {
     "name": "stdout",
     "output_type": "stream",
     "text": [
      "What are the uses of machine learning in chemoinformatics?\n",
      "\n",
      "LLM answer:\n",
      "Machine learning has become an integral part of modern chemoinformatics, which is a field that combines chemical analysis with computational techniques to understand and predict molecular properties. Here's how it contributes:\n",
      "\n",
      "1. **Drug Discovery**: Machine learning algorithms can analyze large datasets of compounds to identify potential drug candidates by finding patterns correlating structure-activity relationships (SAR). This accelerates the identification of new drugs with desired biological activities and reduces reliance on traditional high-throughput screening methods, which are time-consuminous and costly.\n",
      "\n",
      "2. **Predictive Modeling**: Machine learning can predict properties such as solubility, permeability, stability, or toxicity of molecules based on their chemical structure using quantitative structure-activity relationship (QSAR) models. This helps in the early stages of drug design and development by filtering out compounds with undesirable characteristics before synthesis and testing.\n",
      "\n",
      "3. **Molecular Property Prediction**: Algorithms can predict physical, chemical, or biological properties from molecular structure using regression techniques like random forests or neural networks to estimate parameters such as logP (a measure of lipophilicity), pKa values, melting points, and more without the need for extensive experimental measurements.\n",
      "\n",
      "4. **Cluster Analysis**: Machine learning can group similar compounds together based on their structural features using clustering algorithms like k-means or hierarchical clustering to understand chemical space better and identify novel scaffolds with potential biological activity.\n",
      "\n",
      "5. **Structure Generation**: Generative models, such as generative adversarial networks (GANs), can create new molecular structures that are likely to have desired properties by learning from existing datasets of known compounds. This aids in the design of novel chemical entities with specific characteristics for further investigation or synthesis.\n",
      "\n",
      "6. **Chemical Reaction Prediction**: Machine learning models, particularly deep learning approaches like recurrent neural networks (RNNs), can predict reaction outcomes and mechanisms by analyzing vast amounts of literature data on known reactions to suggest possible pathways that chemists might not have considered beforehand.\n",
      "\n",
      "7. **Virtual Screening**: Algorithms such as support vector machines or deep learning models are used for virtual screening, where they can quickly evaluate thousands of compounds against a target biological system and prioritize those most likely to be active based on their predicted binding affinity using molecular docking simulations.\n",
      "\n",
      "8. **Data Curation**: Machine learning assists in the curation and annotation of chemical databases by automatically identifying relevant information, such as known activities or properties from literature data mining which can then facilitate more efficient database searches for researchers.\n",
      "\n",
      "9. **Personalized Medicine**: In pharmacogenomics, machine learning helps to predict how different genetic profiles might interact with specific drugs by analyzing the relationship between chemical structures and biological responses across diverse populations or patient groups. This can lead to more personalized treatment options based on an individual's genomic data.\n",
      "\n",
      "10.0 **Challenges in Chemoinformatics**: Despite its benefits, machine learning faces challenges such as overfitting due to the complexity of chemical space and interpretability issues where it might be difficult for chemists to understand how a model arrived at certain predictions or classifications without extensive domain knowledge.\n",
      "\n",
      "11. **Future Directions**: Ongoing research is focusing on improving transfer learning, explainable AI (XAI), and the integration of multi-omics data into machine learning models for chemoinformatics to enhance predictive accuracy while making algorithms more transparent and understandable by human experts.\n",
      "\n",
      "In summary, machine learning in chemoinformatics is a powerful tool that streamlines drug discovery processes, enables rapid property prediction, assists with molecular design, improves virtual screening efficiency, and supports personalized medicine approaches among other applications.\n",
      "\n",
      "RAG answer:\n",
      "Machine learning (ML) applications in chemoinformatics include drug discovery and design for predicting physical properties, activity/toxicity prediction to enhance safety assessments; identification of new chemical entities with desired characteristics from vast compound libraries. ML can also aid molecular property predictions like solubility or permeability which are crucial during the early stages in pharmaceutical development [1]. Moreover, machine learning is employed for virtual screening and clustering analyses to identify similar bioactive structures quickly within chemical databases that host millions of compounds. Additionally, ML-based interpretation methods provide avenues towards understanding reaction mechanisms on an atomic level when paired with quantum chemistry calculations or high-level ab initio calculations [2]. These are but several examples wherein machine learning not only augments the efficiency and efficacy in computational drug discovery pipelines but also contributes to new insights into molecular behavior at a granularity unfeasible through traditional methods alone.\n",
      "\n",
      "References: \n",
      "[1] J Adamczyk et al., \"Machine Learning Approaches for Bioactivity Prediction of Drug-like Molecules,\" Journal on Cheminformatics, vol. 50 (2024), https://doi.org/xxxxxx and Scikit-Fingerprints: Easy and efficient computation\n",
      "of molecular fingerprints in Python by Jadamczyk et al., SoftwareX [premetagenerated text; please replace with the correct reference from original document] \n"
     ]
    }
   ],
   "source": [
    "compare_answers(\"What are the uses of machine learning in chemoinformatics?\")"
   ],
   "metadata": {
    "collapsed": false,
    "ExecuteTime": {
     "end_time": "2025-01-11T17:49:49.178450700Z",
     "start_time": "2025-01-11T17:49:39.926336Z"
    }
   },
   "id": "e72b277051604cee"
  },
  {
   "cell_type": "markdown",
   "source": [
    "Rag gave more precise answer but it didn't write the references in [square brackets] properly.\n",
    "\n",
    "Only one article exists. As far as I know mr Adamczyk has not published anything in Journal on Cheminformatics as of today"
   ],
   "metadata": {
    "collapsed": false
   },
   "id": "ea61f334d1057825"
  },
  {
   "cell_type": "markdown",
   "source": [
    "### Conclusion \n",
    "\n",
    "RAG allowed us to get more specific responses. They enable the system to anchor in a specific domain and set of information."
   ],
   "metadata": {
    "collapsed": false
   },
   "id": "b36ca67217a137d"
  },
  {
   "cell_type": "markdown",
   "source": [
    "### Questions\n",
    "\n",
    "1. How does RAG improve the quality and reliability of LLM responses compared to pure LLM generation?\n",
    "    - It is able to search for the needed information in a document store and incorporates it in the context.\n",
    "2. What are the key factors affecting RAG performance (chunk size, embedding quality, prompt design)?\n",
    "    - Large chunks make larger context and add more information. However, some texts may have multiple pieces of information in one chunk, sometimes unrelated to the query.\n",
    "    - Better embeddings can improve the system performance. A domain specific embedding model will create better embeddings than ones created by a general-purpose embedder. Embedding models with large latent dimensions size can be more accurate but heavier and slower.\n",
    "    - Prompt design - as with all LLMs better prompts can yield better results.\n",
    "3. How does the choice of vector database and embedding model impact system performance?\n",
    "    - The vector database impacts the retrieval time performance and resource consumption.\n",
    "    - Embedding model can impact the quality of retrieved context text. A model trained on tasks specific to the target domain of the RAG system can give better results.\n",
    "4. What are the main challenges in implementing a production-ready RAG system?\n",
    "    - New data - some fields in which a RAG system can be used require it to have knowledge about the most recent trends and events. A RAG system used in news needs to have the newest information. The system has to be updated.\n",
    "    - Scalability - If the system has many users it needs to be scalable. The system needs to be very efficient and optimized.\n",
    "5. How can the system be improved to handle complex queries requiring multiple document lookups?\n",
    "    - Multiple retrievals can be done for one query, each one adding more to the context of their combination.\n",
    "    - The query can be broken down into chunks or converted. Some models could be able to identify the information they lack know and create a set of sub-queries."
   ],
   "metadata": {
    "collapsed": false
   },
   "id": "93281dd43b168954"
  },
  {
   "cell_type": "markdown",
   "source": [],
   "metadata": {
    "collapsed": false
   },
   "id": "e79b11c5468db2d2"
  }
 ],
 "metadata": {
  "kernelspec": {
   "display_name": "Python 3 (ipykernel)",
   "language": "python",
   "name": "python3"
  },
  "language_info": {
   "codemirror_mode": {
    "name": "ipython",
    "version": 3
   },
   "file_extension": ".py",
   "mimetype": "text/x-python",
   "name": "python",
   "nbconvert_exporter": "python",
   "pygments_lexer": "ipython3",
   "version": "3.11.9"
  }
 },
 "nbformat": 4,
 "nbformat_minor": 5
}
