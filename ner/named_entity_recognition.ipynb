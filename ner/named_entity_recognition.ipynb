{
 "cells": [
  {
   "cell_type": "markdown",
   "source": [
    "# Named entity recognition\n",
    "\n",
    "---\n",
    "\n",
    "### Take 1000 passages from fiqa corpus"
   ],
   "metadata": {
    "collapsed": false
   },
   "id": "3657b63896964595"
  },
  {
   "cell_type": "code",
   "execution_count": 1,
   "outputs": [],
   "source": [
    "from datasets import load_dataset\n",
    "from numpy.random import choice\n",
    "\n",
    "fiqa_corpus = load_dataset(\"clarin-knext/fiqa-pl\", \"corpus\")[\"corpus\"]\n",
    "\n",
    "fiqa_corpus = fiqa_corpus[\"text\"]\n",
    "fiqa_idx = choice(len(fiqa_corpus), 1000, replace=False)\n",
    "fiqa_corpus = [fiqa_corpus[i] for i in fiqa_idx]"
   ],
   "metadata": {
    "collapsed": false,
    "ExecuteTime": {
     "end_time": "2024-11-23T20:48:09.073973700Z",
     "start_time": "2024-11-23T20:48:03.724604800Z"
    }
   },
   "id": "8659417aeb1d6159"
  },
  {
   "cell_type": "markdown",
   "source": [
    "---\n",
    "\n",
    "### Lemmatization and sentence split"
   ],
   "metadata": {
    "collapsed": false
   },
   "id": "11459d8c3dacc20f"
  },
  {
   "cell_type": "code",
   "execution_count": 2,
   "outputs": [],
   "source": [
    "import spacy\n",
    "\n",
    "# # the thing here below won't work for reasons beyond my comprehension\n",
    "#\n",
    "# nlp = Polish()\n",
    "#\n",
    "# config = {\"mode\": \"pos_lookup\"}\n",
    "# nlp.add_pipe(\"lemmatizer\", config=config)\n",
    "#\n",
    "# nlp.add_pipe(\"sentencizer\")\n",
    "# nlp.initialize()\n",
    "\n",
    "nlp = spacy.load(\"pl_core_news_sm\")"
   ],
   "metadata": {
    "collapsed": false,
    "ExecuteTime": {
     "end_time": "2024-11-23T20:48:13.370544600Z",
     "start_time": "2024-11-23T20:48:09.074974600Z"
    }
   },
   "id": "e4edebc3c37b5edd"
  },
  {
   "cell_type": "code",
   "execution_count": 3,
   "outputs": [
    {
     "name": "stdout",
     "output_type": "stream",
     "text": [
      "Kraków\n",
      "Polska\n",
      "Stany\n",
      "Zjednoczone\n"
     ]
    }
   ],
   "source": [
    "doc = nlp(\n",
    "    \"Wczoraj w Krakowie miało miejsce spotkanie prezydentów Polski i Stanów Zjednoczonych.\"\n",
    ")\n",
    "for sentence in doc.sents:\n",
    "    for i, token in enumerate(sentence):\n",
    "        if i == 0:\n",
    "            continue\n",
    "        if token.is_title:\n",
    "            print(token.lemma_)"
   ],
   "metadata": {
    "collapsed": false,
    "ExecuteTime": {
     "end_time": "2024-11-23T20:48:13.381468300Z",
     "start_time": "2024-11-23T20:48:13.373544300Z"
    }
   },
   "id": "c8d2bfecc9d79d58"
  },
  {
   "cell_type": "markdown",
   "source": [
    "\n",
    "---\n",
    "\n",
    "### Find capitalized expressions"
   ],
   "metadata": {
    "collapsed": false
   },
   "id": "ebbf07a732c098b7"
  },
  {
   "cell_type": "code",
   "execution_count": 4,
   "outputs": [
    {
     "name": "stdout",
     "output_type": "stream",
     "text": [
      "Top 50 Capitalized Expressions\n",
      "==============================\n",
      "\n",
      "Twój: 69\n",
      "Ciebie: 48\n",
      "Stany Zjednoczone: 45\n",
      "Indie: 38\n",
      "X: 25\n",
      "Załóżmy: 22\n",
      "Roth: 21\n",
      "Twojego: 18\n",
      "K: 16\n",
      "S&P: 16\n",
      "Kanada: 16\n",
      "Twoją: 15\n",
      "Johnson Controls: 15\n",
      "Apple: 14\n",
      "A: 14\n",
      "Amazon: 13\n",
      "Uber: 12\n",
      "Vanguard: 11\n",
      "Twojej: 11\n",
      "Google: 11\n",
      "Wielki Brytania: 11\n",
      "Internet: 11\n",
      "Australia: 10\n",
      "Jedną: 10\n",
      "Biorąc: 10\n",
      "E: 10\n",
      "Trump: 10\n",
      "B: 10\n",
      "Tyco: 10\n",
      "S: 9\n",
      "Brazylia: 9\n",
      "Walmart: 9\n",
      "Monsanto: 9\n",
      "Rosja: 8\n",
      "Więcej: 8\n",
      "Zakładając: 8\n",
      "Wikipedia: 8\n",
      "Netflix: 8\n",
      "Chiny: 8\n",
      "Zrobić: 7\n",
      "Amerykanin: 7\n",
      "Potrzebujesz: 7\n",
      "Wyobraź: 7\n",
      "Twoich: 7\n",
      "Sprawdź: 7\n",
      "Excel: 7\n",
      "Dowiedz: 6\n",
      "P: 6\n",
      "Intel: 6\n",
      "Słowo: 6\n"
     ]
    }
   ],
   "source": [
    "expressions = {}\n",
    "processed_docs = [nlp(text) for text in fiqa_corpus]\n",
    "\n",
    "for doc in processed_docs:\n",
    "    for sentence in doc.sents:\n",
    "        group = []\n",
    "        for i, token in enumerate(sentence):\n",
    "            if i == 0 and not token.lemma_[0].isupper():\n",
    "                continue\n",
    "\n",
    "            if token.is_title and token.lemma_[0].isupper():\n",
    "                group.append(token.lemma_.title())\n",
    "            elif len(group) > 0:\n",
    "                text = \" \".join(group)\n",
    "                if text not in expressions:\n",
    "                    expressions[text] = 0\n",
    "                expressions[text] += 1\n",
    "                group = []\n",
    "        if len(group) > 0:\n",
    "            text = \" \".join(group)\n",
    "            if text not in expressions:\n",
    "                expressions[text] = 0\n",
    "            expressions[text] += 1\n",
    "\n",
    "\n",
    "expressions = sorted(list(expressions.items()), key=lambda x: x[1], reverse=True)\n",
    "\n",
    "print(\"Top 50 Capitalized Expressions\")\n",
    "print(\"==============================\\n\")\n",
    "for expr, freq in expressions[:50]:\n",
    "    print(f\"{expr}: {freq}\")"
   ],
   "metadata": {
    "collapsed": false,
    "ExecuteTime": {
     "end_time": "2024-11-23T20:48:25.906841Z",
     "start_time": "2024-11-23T20:48:13.382468200Z"
    }
   },
   "id": "a6821d35caf1eaa9"
  },
  {
   "cell_type": "markdown",
   "source": [
    "---\n",
    "\n",
    "### Find named entities"
   ],
   "metadata": {
    "collapsed": false
   },
   "id": "9ce266e9a838b1"
  },
  {
   "cell_type": "code",
   "execution_count": 5,
   "outputs": [],
   "source": [
    "entity_dict = {}\n",
    "\n",
    "for doc in processed_docs:\n",
    "    for ent in doc.ents:\n",
    "        text, label = ent.text, ent.label_\n",
    "        if (text, label) not in entity_dict.keys():\n",
    "            entity_dict[(text, label)] = 0\n",
    "        entity_dict[(text, label)] += 1\n",
    "\n",
    "entity_type_dict = {}\n",
    "entities_by_type = {}\n",
    "for (text, label), count in entity_dict.items():\n",
    "    if label not in entity_type_dict:\n",
    "        entity_type_dict[label] = 0\n",
    "        entities_by_type[label] = {}\n",
    "    entity_type_dict[label] += count\n",
    "    entities_by_type[label][text] = count"
   ],
   "metadata": {
    "collapsed": false,
    "ExecuteTime": {
     "end_time": "2024-11-23T20:48:25.906841Z",
     "start_time": "2024-11-23T20:48:25.898199600Z"
    }
   },
   "id": "b82c96c85b16d261"
  },
  {
   "cell_type": "markdown",
   "source": [
    "---\n",
    "\n",
    "### Display frequency of entity types/classes\n",
    "\n",
    "As frequency is not exactly defined I'm displaying the number of class occurences"
   ],
   "metadata": {
    "collapsed": false
   },
   "id": "d7187aa4cbb47f57"
  },
  {
   "cell_type": "code",
   "execution_count": 6,
   "outputs": [
    {
     "data": {
      "text/plain": "<Figure size 640x480 with 1 Axes>",
      "image/png": "[encoded data removed]"
     },
     "metadata": {},
     "output_type": "display_data"
    }
   ],
   "source": [
    "import matplotlib.pyplot as plt\n",
    "\n",
    "entity_types = sorted(list(entity_type_dict.items()), key=lambda x: x[1], reverse=True)\n",
    "\n",
    "entity_class_names = [name for name, _ in entity_types]\n",
    "entity_class_counts = [count for _, count in entity_types]\n",
    "\n",
    "plt.barh(entity_class_names, entity_class_counts)\n",
    "plt.title(\"entity counts by type\")\n",
    "plt.show()"
   ],
   "metadata": {
    "collapsed": false,
    "ExecuteTime": {
     "end_time": "2024-11-23T20:48:26.316561500Z",
     "start_time": "2024-11-23T20:48:25.907840700Z"
    }
   },
   "id": "9280149bb1c9cc7f"
  },
  {
   "cell_type": "markdown",
   "source": [
    "---\n",
    "\n",
    "### Print 10 most popular entities for each type"
   ],
   "metadata": {
    "collapsed": false
   },
   "id": "3515d261d71d273"
  },
  {
   "cell_type": "code",
   "execution_count": 7,
   "outputs": [
    {
     "name": "stdout",
     "output_type": "stream",
     "text": [
      "Top 10 Named Entities by Type:\n",
      "==============================\n",
      "\n",
      "Entity Type: orgName\n",
      "Number of type entities: 794\n",
      "ETF: 41\n",
      "IRA: 37\n",
      "HSA: 17\n",
      "LLC: 13\n",
      "Apple: 13\n",
      "Google: 13\n",
      "Roth IRA: 12\n",
      "RRSP: 12\n",
      "IRS: 11\n",
      "JCI: 10\n",
      "\n",
      "Entity Type: persName\n",
      "Number of type entities: 617\n",
      "salda: 18\n",
      "Johnson Controls: 15\n",
      "Amazon: 14\n",
      "Trump: 8\n",
      "Vanguard: 7\n",
      "gdybyś: 7\n",
      "jakbyś: 7\n",
      "Uber: 7\n",
      "Tyco: 7\n",
      "Walmart: 6\n",
      "\n",
      "Entity Type: placeName\n",
      "Number of type entities: 605\n",
      "USA: 104\n",
      "Stanach Zjednoczonych: 27\n",
      "Indiach: 19\n",
      "Stany Zjednoczone: 12\n",
      "Indie: 11\n",
      "Kanadzie: 10\n",
      "Wielkiej Brytanii: 9\n",
      "Stanów Zjednoczonych: 8\n",
      "Brazylii: 7\n",
      "Indii: 7\n",
      "\n",
      "Entity Type: date\n",
      "Number of type entities: 206\n",
      "1040: 9\n",
      "2016 r.: 8\n",
      "1099: 6\n",
      "2008 roku: 6\n",
      "2009: 5\n",
      "2014 r.: 5\n",
      "2015 r.: 4\n",
      "2015 roku: 4\n",
      "2015: 3\n",
      "2008 r.: 3\n",
      "\n",
      "Entity Type: geogName\n",
      "Number of type entities: 87\n",
      "McDonald's: 4\n",
      "Boeingu: 4\n",
      "europejski: 3\n",
      "Scottrade: 3\n",
      "Best Buy: 2\n",
      "Europy: 2\n",
      "Australii: 2\n",
      "Ameryce Północnej: 2\n",
      "europejskie: 2\n",
      "Enronu: 1\n",
      "\n",
      "Entity Type: time\n",
      "Number of type entities: 6\n",
      "5.: 1\n",
      "godzinie 19: 1\n",
      "20: 1\n",
      "pierwszej w nocy: 1\n",
      "siódmej rano: 1\n",
      "6 rano: 1\n"
     ]
    }
   ],
   "source": [
    "print(\"Top 10 Named Entities by Type:\")\n",
    "print(\"==============================\")\n",
    "print()\n",
    "\n",
    "for entity_type, count in entity_types:\n",
    "    print(f\"Entity Type: {entity_type}\")\n",
    "    print(f\"Number of type entities: {count}\")\n",
    "\n",
    "    top_entities = sorted(\n",
    "        list(entities_by_type[entity_type].items()), key=lambda x: x[1], reverse=True\n",
    "    )\n",
    "\n",
    "    for text, count in top_entities[:10]:\n",
    "        print(f\"{text}: {count}\")\n",
    "    print()"
   ],
   "metadata": {
    "collapsed": false,
    "ExecuteTime": {
     "end_time": "2024-11-23T20:48:26.318072300Z",
     "start_time": "2024-11-23T20:48:26.311554300Z"
    }
   },
   "id": "b614c32e3dce291b"
  },
  {
   "cell_type": "markdown",
   "source": [
    "---\n",
    "\n",
    "### Print 50 overall most common entities"
   ],
   "metadata": {
    "collapsed": false
   },
   "id": "10296427aeae7728"
  },
  {
   "cell_type": "code",
   "execution_count": 8,
   "outputs": [
    {
     "name": "stdout",
     "output_type": "stream",
     "text": [
      "Top 50 Named Entities:\n",
      "======================\n",
      "\n",
      "USA (placeName): 104\n",
      "ETF (orgName): 41\n",
      "IRA (orgName): 37\n",
      "Stanach Zjednoczonych (placeName): 27\n",
      "Indiach (placeName): 19\n",
      "salda (persName): 18\n",
      "HSA (orgName): 17\n",
      "Johnson Controls (persName): 15\n",
      "Amazon (persName): 14\n",
      "LLC (orgName): 13\n",
      "Apple (orgName): 13\n",
      "Google (orgName): 13\n",
      "Stany Zjednoczone (placeName): 12\n",
      "Roth IRA (orgName): 12\n",
      "RRSP (orgName): 12\n",
      "IRS (orgName): 11\n",
      "Indie (placeName): 11\n",
      "Kanadzie (placeName): 10\n",
      "JCI (orgName): 10\n",
      "1040 (date): 9\n",
      "Wielkiej Brytanii (placeName): 9\n",
      "2016 r. (date): 8\n",
      "Stanów Zjednoczonych (placeName): 8\n",
      "IRR (orgName): 8\n",
      "Trump (persName): 8\n",
      "DHA (orgName): 8\n",
      "Vanguard (persName): 7\n",
      "IPO (orgName): 7\n",
      "Brazylii (placeName): 7\n",
      "NPV (orgName): 7\n",
      "Indii (placeName): 7\n",
      "kredytowego (placeName): 7\n",
      "UBI (orgName): 7\n",
      "amerykańskiego (placeName): 7\n",
      "gdybyś (persName): 7\n",
      "MBA (orgName): 7\n",
      "jakbyś (persName): 7\n",
      "amerykańskich (placeName): 7\n",
      "Chinach (placeName): 7\n",
      "Uber (persName): 7\n",
      "API (orgName): 7\n",
      "REIT (orgName): 7\n",
      "Tyco (persName): 7\n",
      "amerykańskie (placeName): 6\n",
      "EIN (orgName): 6\n",
      "1099 (date): 6\n",
      "BLS (orgName): 6\n",
      "2008 roku (date): 6\n",
      "Chiny (placeName): 6\n",
      "Walmart (persName): 6\n"
     ]
    }
   ],
   "source": [
    "entity_types = sorted(list(entity_dict.items()), key=lambda x: x[1], reverse=True)\n",
    "\n",
    "print(\"Top 50 Named Entities:\")\n",
    "print(\"======================\")\n",
    "print()\n",
    "\n",
    "for (text, label), freq in entity_types[:50]:\n",
    "    print(f\"{text} ({label}): {freq}\")"
   ],
   "metadata": {
    "collapsed": false,
    "ExecuteTime": {
     "end_time": "2024-11-23T20:48:26.330776500Z",
     "start_time": "2024-11-23T20:48:26.319072300Z"
    }
   },
   "id": "183b980d1a452c18"
  },
  {
   "cell_type": "markdown",
   "source": [
    "---\n",
    "\n",
    "### Print sentences containing entities of different types/classes"
   ],
   "metadata": {
    "collapsed": false
   },
   "id": "2e541e04f4a906c5"
  },
  {
   "cell_type": "code",
   "execution_count": 9,
   "outputs": [
    {
     "name": "stdout",
     "output_type": "stream",
     "text": [
      "============================\n",
      "układ zobowiązanie Zobowiązanie do zapłaty Innymi słowy dług Zdefiniowana składka z drugiej strony nie tworzy takiego zobowiązania, ponieważ pracodawca jest zaangażowany tylko w mecz, który jest aktualnie opłacany Co dzieje się z Twoim kontem po wpłaceniu przez pracodawcę określonej składki (matc h)\n",
      "\n",
      "Found entities:\n",
      "Zobowiązanie (placeName)\n",
      "Zdefiniowana (persName)\n",
      "\n",
      "============================\n",
      "Z komunikatu prasowego W oparciu o cenę zamknięcia akcji Aspiro wynoszącą 0,66 SEK na dzień 29 stycznia 2015 r.,\n",
      "\n",
      "Found entities:\n",
      "Aspiro (placeName)\n",
      "dzień 29 stycznia 2015 r. (date)\n",
      "\n",
      "============================\n",
      "Kup papierosy elektroniczne w Australii za pośrednictwem Vapor Kind, wiodącego dostawcy e-papierosów i waporyzatorów w Australii.\n",
      "\n",
      "Found entities:\n",
      "Australii (placeName)\n",
      "Vapor Kind (persName)\n",
      "Australii (placeName)\n",
      "\n",
      "============================\n",
      "TTIP mogłoby posunąć się do przodu nieco szybciej, a Niemcy nawet by tego nie zauważyli.\n",
      "\n",
      "Found entities:\n",
      "TTIP (persName)\n",
      "Niemcy (placeName)\n",
      "\n",
      "============================\n",
      "To jest głupie dla Rosji, ale Putin po prostu kieruje się nacjonalizmem bardziej niż jakakolwiek konkretna polityka w tym momencie.\n",
      "\n",
      "Found entities:\n",
      "Rosji (placeName)\n",
      "Putin (persName)\n"
     ]
    }
   ],
   "source": [
    "found_sentences = 0\n",
    "for doc in processed_docs:\n",
    "    for sentence in doc.sents:\n",
    "        if len(sentence.ents) < 2:\n",
    "            continue\n",
    "        entity_label = \"NONE\"\n",
    "        for entity in sentence.ents:\n",
    "            if entity_label != entity.label_ and entity_label != \"NONE\":\n",
    "                print(\"============================\")\n",
    "                print(sentence)\n",
    "                print(\"\\nFound entities:\")\n",
    "                for entity in sentence.ents:\n",
    "                    print(f\"{entity.text} ({entity.label_})\")\n",
    "                print()\n",
    "                found_sentences += 1\n",
    "                break\n",
    "            entity_label = entity.label_\n",
    "        if found_sentences >= 5:\n",
    "            break\n",
    "    if found_sentences >= 5:\n",
    "        break"
   ],
   "metadata": {
    "collapsed": false,
    "ExecuteTime": {
     "end_time": "2024-11-23T20:48:26.330776500Z",
     "start_time": "2024-11-23T20:48:26.325134Z"
    }
   },
   "id": "29b0fa5768e73dde"
  },
  {
   "cell_type": "markdown",
   "source": [
    "---\n",
    "\n",
    "### Answer the following questions:\n",
    "\n",
    "1. Which of the method (counting expressions with capital letters vs. NER) worked better for the task concerned with identification of the proper names? - NER allows for detecting categories and is able to determine whether given world is really a named entity. Words such as \"Twój\", \"Ciebie\" or \"Ty\" were classified as named entities by the capital letter algorithm while NER was able to ignore them.\n",
    "1. What are the drawbacks of the method based on capital letters? - As mentioned above.\n",
    "1. What are the drawbacks of the method based on NER? - Couldn't find any. At least in comparison to capital letters. Of course NER is not perfect and needs to have a proper dictionary to work correctly. \n",
    "1. Which of the coarse-grained NER groups has the best and which has the worst results? Try to justify this\n",
    "  observation. - Organization Names gave us the most results. Only a few results were gathered for time. Time can easily be confused with different sets of digits. Organization names are very recognizaable and often don't have any overlapping entity with the same meaning. Other possibility is that the business related topics of the texts create a bias in the dataset.\n",
    "1. Do you think NER is sufficient for identifying different occurrences of the same entity (i.e. consider \"USA\" and \"Stany Zjednoczone\" and \"Stany Zjednoczone Ameryki Północnej\")? If not, can you suggest an algorithm or a tool that would be able to group such names together? - They are not sufficient. We could use mapping dictionary that points to the same definite entity for several \"keys\" such as \"USA\" or \"Stany Zjednoczne\".\n",
    "1. Can you think of a real world problem that would benefit the most from application of Named Entity Recognition algorithm? - Searching for potential market competitors or clients. "
   ],
   "metadata": {
    "collapsed": false
   },
   "id": "8692a4f1b0909fb6"
  },
  {
   "cell_type": "code",
   "execution_count": 9,
   "outputs": [],
   "source": [],
   "metadata": {
    "collapsed": false,
    "ExecuteTime": {
     "end_time": "2024-11-23T20:48:26.330776500Z",
     "start_time": "2024-11-23T20:48:26.328267400Z"
    }
   },
   "id": "ac826c532fb48062"
  }
 ],
 "metadata": {
  "kernelspec": {
   "display_name": "Python 3",
   "language": "python",
   "name": "python3"
  },
  "language_info": {
   "codemirror_mode": {
    "name": "ipython",
    "version": 2
   },
   "file_extension": ".py",
   "mimetype": "text/x-python",
   "name": "python",
   "nbconvert_exporter": "python",
   "pygments_lexer": "ipython2",
   "version": "2.7.6"
  }
 },
 "nbformat": 4,
 "nbformat_minor": 5
}
